{
 "cells": [
  {
   "cell_type": "code",
   "execution_count": 143,
   "metadata": {},
   "outputs": [],
   "source": [
    "import warnings\n",
    "warnings.filterwarnings(\"ignore\")\n",
    "\n",
    "import pandas as pd\n",
    "import matplotlib.pyplot as plt\n",
    "import seaborn as sns\n",
    "import numpy as np\n",
    "import plotly.express as px\n",
    "\n",
    "from sklearn.model_selection import StratifiedKFold\n",
    "from sklearn.metrics import accuracy_score, precision_score, recall_score, f1_score \n",
    "import tensorflow as tf\n",
    "from tensorflow.keras import regularizers\n",
    "from tensorflow.keras.optimizers import Adam\n",
    "import tensorflow as tf\n",
    "from sklearn.metrics import f1_score\n",
    "from functools import partial\n",
    "\n"
   ]
  },
  {
   "cell_type": "markdown",
   "metadata": {},
   "source": [
    "<h3>Prepare Datasets</h3>"
   ]
  },
  {
   "cell_type": "code",
   "execution_count": 3,
   "metadata": {},
   "outputs": [],
   "source": [
    "train_dataset = pd.read_csv('Datasets/train_dataset.csv')\n",
    "test_dataset = pd.read_csv('Datasets/test_dataset.csv')\n",
    "\n",
    "train_pca_dataset = pd.read_csv('Datasets/PCA_train_data.csv')\n",
    "test_pca_dataset = pd.read_csv('Datasets/PCA_test_data.csv')\n",
    "\n",
    "train_tree_dataset = pd.read_csv('Datasets/Tree_train_data.csv')\n",
    "test_tree_dataset = pd.read_csv('Datasets/Tree_test_data.csv')\n",
    "\n",
    "\n",
    "X_train = train_dataset.drop(['is_attack' , 'attack_category' , 'attack'], axis=1)\n",
    "y_train = train_dataset['attack_category']\n",
    "\n",
    "X_test = test_dataset.drop(['is_attack' , 'attack_category' , 'attack'], axis=1)\n",
    "y_test = test_dataset['attack_category']\n",
    "\n",
    "from tensorflow.keras.utils import to_categorical\n",
    "\n",
    "# Convert integer labels to one-hot encoded format\n",
    "y_train_one_hot = to_categorical(y_train, num_classes=5)\n",
    "y_test_one_hot = to_categorical(y_test, num_classes=5)\n",
    "\n",
    "X_pca_train = train_pca_dataset.drop(['is_attack' , 'attack_category' , 'attack'], axis=1)\n",
    "y_pca_train = train_pca_dataset['attack_category']\n",
    "\n",
    "X_pca_test = test_pca_dataset.drop(['is_attack' , 'attack_category' , 'attack'], axis=1)\n",
    "y_pca_test = test_pca_dataset['attack_category']\n",
    "\n",
    "X_tree_train = train_tree_dataset.drop(['is_attack' , 'attack_category' , 'attack'], axis=1)\n",
    "y_tree_train = train_tree_dataset['attack_category']\n",
    "\n",
    "X_tree_test = test_tree_dataset.drop(['is_attack' , 'attack_category' , 'attack'], axis=1)\n",
    "y_tree_test = test_tree_dataset['attack_category']"
   ]
  },
  {
   "cell_type": "code",
   "execution_count": 4,
   "metadata": {},
   "outputs": [],
   "source": [
    "def train_model(model, X, y):\n",
    "    skf = StratifiedKFold(n_splits=5)\n",
    "\n",
    "    accuracy_scores = []\n",
    "    precision_scores = []\n",
    "    recall_scores = []\n",
    "    f1_scores = []\n",
    "\n",
    "    for train_index, test_index in skf.split(X, y):\n",
    "        X_train, y_train = X.iloc[train_index], y.iloc[train_index]\n",
    "        X_test, y_test = X.iloc[test_index], y.iloc[test_index]\n",
    "\n",
    "        model.fit(X_train, y_train)\n",
    "\n",
    "        pred = model.predict(X_test)\n",
    "        accuracy = accuracy_score(y_test, pred)\n",
    "        precision = precision_score(y_test, pred, average='weighted')\n",
    "        recall = recall_score(y_test, pred, average='weighted') \n",
    "        f1 = f1_score(y_test, pred, average='weighted') \n",
    "\n",
    "        accuracy_scores.append(accuracy)\n",
    "        precision_scores.append(precision)\n",
    "        recall_scores.append(recall)\n",
    "        f1_scores.append(f1)\n",
    "\n",
    "    # print('{0} Accuracy: {1: .5f} Precision: {2: .5f} Recall: {3: .5f} F1_Score: {4: .5f}'.format(\n",
    "    #     model.__class__.__name__, \n",
    "    #     np.mean(accuracy_scores),\n",
    "    #     np.mean(precision_scores),\n",
    "    #     np.mean(recall_scores),\n",
    "    #     np.mean(f1_scores)))\n",
    "    \n",
    "    return -np.mean(f1_scores)"
   ]
  },
  {
   "cell_type": "code",
   "execution_count": 5,
   "metadata": {},
   "outputs": [],
   "source": [
    "def evaluate(model, X_train, y_train, X_test, y_test):\n",
    "    \n",
    "    model.fit(X_train, y_train)\n",
    "    \n",
    "    y_pred = model.predict(X_test)\n",
    "    \n",
    "    accuracy = accuracy_score(y_test, y_pred)\n",
    "    precision = precision_score(y_test, y_pred, average='weighted')\n",
    "    recall = recall_score(y_test, y_pred, average='weighted')\n",
    "    f1 = f1_score(y_test, y_pred, average='weighted')\n",
    "    \n",
    "    print(\"Model: \", model.__class__.__name__)\n",
    "    print(\"Accuracy: \", accuracy)\n",
    "    print(\"Precision: \", precision)\n",
    "    print(\"Recall: \", recall)\n",
    "    print(\"F1 Score: \", f1)\n",
    "    print(\"####################################\")\n",
    "    \n",
    "    # report = classification_report(y_test, y_pred)\n",
    "    # print(\"Classification Report:\\n\", report)\n",
    "    \n",
    "    return -f1"
   ]
  },
  {
   "cell_type": "markdown",
   "metadata": {},
   "source": [
    "<h3> Model for Neural Network without PCA or Tree </h3>"
   ]
  },
  {
   "cell_type": "code",
   "execution_count": 151,
   "metadata": {},
   "outputs": [],
   "source": [
    "num_classes = 5\n",
    "tf.random.set_seed(42)\n",
    "nn_model = tf.keras.Sequential([\n",
    "    tf.keras.layers.Dense(units=64, activation='relu', input_shape=(X_train.shape[1:]), \n",
    "                          kernel_regularizer=regularizers.L1L2(l1=1e-5, l2=1e-4), \n",
    "                          bias_regularizer=regularizers.L2(1e-4),\n",
    "                          activity_regularizer=regularizers.L2(1e-5)),\n",
    "    tf.keras.layers.Dropout(0.42),\n",
    "    tf.keras.layers.Dense(units=128, activation='relu', \n",
    "                          kernel_regularizer=regularizers.L1L2(l1=1e-5, l2=1e-4), \n",
    "                          bias_regularizer=regularizers.L2(1e-4),\n",
    "                          activity_regularizer=regularizers.L2(1e-5)),\n",
    "    tf.keras.layers.Dropout(0.42),\n",
    "    tf.keras.layers.Dense(units=512, activation='relu', \n",
    "                          kernel_regularizer=regularizers.L1L2(l1=1e-5, l2=1e-4), \n",
    "                          bias_regularizer=regularizers.L2(1e-4),\n",
    "                          activity_regularizer=regularizers.L2(1e-5)),\n",
    "    tf.keras.layers.Dropout(0.42),\n",
    "    tf.keras.layers.Dense(units=128, activation='relu', \n",
    "                          kernel_regularizer=regularizers.L1L2(l1=1e-5, l2=1e-4), \n",
    "                          bias_regularizer=regularizers.L2(1e-4),\n",
    "                          activity_regularizer=regularizers.L2(1e-5)),\n",
    "    tf.keras.layers.Dropout(0.42),\n",
    "    tf.keras.layers.Dense(units=num_classes, activation='softmax'),  # Change to softmax for multiclass\n",
    "])\n"
   ]
  },
  {
   "cell_type": "code",
   "execution_count": 152,
   "metadata": {},
   "outputs": [],
   "source": [
    "def f1_metric(y_true, y_pred):\n",
    "    y_pred_labels = tf.argmax(y_pred, axis=1)\n",
    "    f1_partial = partial(f1_score, average='macro')\n",
    "    f1 = tf.py_function(f1_partial, (y_true, y_pred_labels), tf.float32)\n",
    "    return f1\n",
    "\n",
    "# Compile the model with Adam optimizer and F1 metric\n",
    "nn_model.compile(optimizer=Adam(learning_rate=0.002),\n",
    "                      loss=tf.keras.losses.SparseCategoricalCrossentropy(from_logits=True),\n",
    "                      metrics=[f1_metric])\n"
   ]
  },
  {
   "cell_type": "code",
   "execution_count": 153,
   "metadata": {},
   "outputs": [
    {
     "name": "stdout",
     "output_type": "stream",
     "text": [
      "Model: \"sequential_244\"\n",
      "_________________________________________________________________\n",
      " Layer (type)                Output Shape              Param #   \n",
      "=================================================================\n",
      " dense_1221 (Dense)          (None, 64)                2944      \n",
      "                                                                 \n",
      " dropout_977 (Dropout)       (None, 64)                0         \n",
      "                                                                 \n",
      " dense_1222 (Dense)          (None, 128)               8320      \n",
      "                                                                 \n",
      " dropout_978 (Dropout)       (None, 128)               0         \n",
      "                                                                 \n",
      " dense_1223 (Dense)          (None, 512)               66048     \n",
      "                                                                 \n",
      " dropout_979 (Dropout)       (None, 512)               0         \n",
      "                                                                 \n",
      " dense_1224 (Dense)          (None, 128)               65664     \n",
      "                                                                 \n",
      " dropout_980 (Dropout)       (None, 128)               0         \n",
      "                                                                 \n",
      " dense_1225 (Dense)          (None, 5)                 645       \n",
      "                                                                 \n",
      "=================================================================\n",
      "Total params: 143,621\n",
      "Trainable params: 143,621\n",
      "Non-trainable params: 0\n",
      "_________________________________________________________________\n"
     ]
    }
   ],
   "source": [
    "nn_model.summary()"
   ]
  },
  {
   "cell_type": "code",
   "execution_count": 154,
   "metadata": {},
   "outputs": [
    {
     "name": "stdout",
     "output_type": "stream",
     "text": [
      "Epoch 1/10\n",
      "3937/3937 [==============================] - 45s 11ms/step - loss: 0.1718 - f1_metric: 0.8936 - val_loss: 1.3917 - val_f1_metric: 0.5858\n",
      "Epoch 2/10\n",
      "3937/3937 [==============================] - 47s 12ms/step - loss: 0.1144 - f1_metric: 0.9173 - val_loss: 1.5624 - val_f1_metric: 0.5443\n",
      "Epoch 3/10\n",
      "3937/3937 [==============================] - 39s 10ms/step - loss: 0.1120 - f1_metric: 0.9224 - val_loss: 1.8762 - val_f1_metric: 0.5649\n",
      "Epoch 4/10\n",
      "3937/3937 [==============================] - 41s 10ms/step - loss: 0.1105 - f1_metric: 0.9231 - val_loss: 1.8183 - val_f1_metric: 0.5694\n",
      "Epoch 5/10\n",
      "3937/3937 [==============================] - 42s 11ms/step - loss: 0.1085 - f1_metric: 0.9258 - val_loss: 1.3724 - val_f1_metric: 0.5856\n",
      "Epoch 6/10\n",
      "3937/3937 [==============================] - 55s 14ms/step - loss: 0.1087 - f1_metric: 0.9272 - val_loss: 1.7705 - val_f1_metric: 0.5600\n",
      "Epoch 7/10\n",
      "3937/3937 [==============================] - 50s 13ms/step - loss: 0.1080 - f1_metric: 0.9238 - val_loss: 1.6162 - val_f1_metric: 0.6219\n",
      "Epoch 8/10\n",
      "3937/3937 [==============================] - 51s 13ms/step - loss: 0.1075 - f1_metric: 0.9271 - val_loss: 1.4430 - val_f1_metric: 0.5822\n",
      "Epoch 9/10\n",
      "3937/3937 [==============================] - 52s 13ms/step - loss: 0.1053 - f1_metric: 0.9263 - val_loss: 1.5505 - val_f1_metric: 0.5619\n",
      "Epoch 10/10\n",
      "3937/3937 [==============================] - 56s 14ms/step - loss: 0.1099 - f1_metric: 0.9282 - val_loss: 1.9128 - val_f1_metric: 0.5570\n"
     ]
    }
   ],
   "source": [
    "nn_history = nn_model.fit(X_train, y_train, validation_data=(X_test, y_test), epochs=10, verbose=1)"
   ]
  },
  {
   "cell_type": "code",
   "execution_count": 157,
   "metadata": {},
   "outputs": [
    {
     "data": {
      "image/png": "[encoded data removed]",
      "text/plain": [
       "<Figure size 432x288 with 1 Axes>"
      ]
     },
     "metadata": {
      "needs_background": "light"
     },
     "output_type": "display_data"
    }
   ],
   "source": [
    "plt.plot(nn_history.history['loss'], label='loss')\n",
    "plt.plot(nn_history.history['val_loss'], label='val_loss')\n",
    "plt.xlabel('Epoch')\n",
    "plt.ylabel('SCCE Loss')\n",
    "plt.legend()\n",
    "plt.grid(True)"
   ]
  },
  {
   "cell_type": "code",
   "execution_count": 156,
   "metadata": {},
   "outputs": [
    {
     "ename": "KeyError",
     "evalue": "'accuracy'",
     "output_type": "error",
     "traceback": [
      "\u001b[1;31m---------------------------------------------------------------------------\u001b[0m",
      "\u001b[1;31mKeyError\u001b[0m                                  Traceback (most recent call last)",
      "\u001b[1;32mc:\\Users\\chang\\Downloads\\BT4012\\Project GIthub\\BT4012\\NeuralNetworks.ipynb Cell 12\u001b[0m line \u001b[0;36m<module>\u001b[1;34m\u001b[0m\n\u001b[1;32m----> <a href='vscode-notebook-cell:/c%3A/Users/chang/Downloads/BT4012/Project%20GIthub/BT4012/NeuralNetworks.ipynb#X14sZmlsZQ%3D%3D?line=0'>1</a>\u001b[0m plt\u001b[39m.\u001b[39mplot(nn_history\u001b[39m.\u001b[39;49mhistory[\u001b[39m'\u001b[39;49m\u001b[39maccuracy\u001b[39;49m\u001b[39m'\u001b[39;49m], label\u001b[39m=\u001b[39m\u001b[39m'\u001b[39m\u001b[39maccuracy\u001b[39m\u001b[39m'\u001b[39m)\n\u001b[0;32m      <a href='vscode-notebook-cell:/c%3A/Users/chang/Downloads/BT4012/Project%20GIthub/BT4012/NeuralNetworks.ipynb#X14sZmlsZQ%3D%3D?line=1'>2</a>\u001b[0m plt\u001b[39m.\u001b[39mplot(nn_history\u001b[39m.\u001b[39mhistory[\u001b[39m'\u001b[39m\u001b[39mval_accuracy\u001b[39m\u001b[39m'\u001b[39m], label\u001b[39m=\u001b[39m\u001b[39m'\u001b[39m\u001b[39mval_accuracy\u001b[39m\u001b[39m'\u001b[39m)\n\u001b[0;32m      <a href='vscode-notebook-cell:/c%3A/Users/chang/Downloads/BT4012/Project%20GIthub/BT4012/NeuralNetworks.ipynb#X14sZmlsZQ%3D%3D?line=2'>3</a>\u001b[0m plt\u001b[39m.\u001b[39mxlabel(\u001b[39m'\u001b[39m\u001b[39mEpoch\u001b[39m\u001b[39m'\u001b[39m)\n",
      "\u001b[1;31mKeyError\u001b[0m: 'accuracy'"
     ]
    }
   ],
   "source": [
    "plt.plot(nn_history.history['accuracy'], label='accuracy')\n",
    "plt.plot(nn_history.history['val_accuracy'], label='val_accuracy')\n",
    "plt.xlabel('Epoch')\n",
    "plt.ylabel('Accuracy')\n",
    "plt.legend()\n",
    "plt.grid(True)"
   ]
  },
  {
   "cell_type": "code",
   "execution_count": 158,
   "metadata": {},
   "outputs": [
    {
     "name": "stdout",
     "output_type": "stream",
     "text": [
      "705/705 [==============================] - 2s 3ms/step\n",
      "Accuracy for no PCA and no tree: 0.7505322924059616\n",
      "Precision for no PCA and no tree: 0.7865329164713438\n",
      "Recall for no PCA and no tree: 0.7505322924059616\n",
      "F1 Score for no PCA and no tree: 0.7006338381787869\n"
     ]
    }
   ],
   "source": [
    "y_pred_probs = nn_model.predict(X_test)\n",
    "y_pred = np.argmax(y_pred_probs, axis=-1)\n",
    "\n",
    "\n",
    "accuracy = accuracy_score(y_test, y_pred)\n",
    "precision = precision_score(y_test, y_pred, average='weighted')\n",
    "recall = recall_score(y_test, y_pred, average='weighted')\n",
    "f1 = f1_score(y_test, y_pred, average='weighted')\n",
    "\n",
    "# Print the metrics\n",
    "print(\"Accuracy for no PCA and no tree:\", accuracy)\n",
    "print(\"Precision for no PCA and no tree:\", precision)\n",
    "print(\"Recall for no PCA and no tree:\", recall)\n",
    "print(\"F1 Score for no PCA and no tree:\", f1)"
   ]
  },
  {
   "cell_type": "markdown",
   "metadata": {},
   "source": [
    "<h3> Neural networks with PCA </h3>"
   ]
  },
  {
   "cell_type": "code",
   "execution_count": 145,
   "metadata": {},
   "outputs": [],
   "source": [
    "tf.random.set_seed(42)\n",
    "nn_model_pca = tf.keras.Sequential([\n",
    "    tf.keras.layers.Dense(units=64, activation='relu', input_shape=(X_pca_train.shape[1:]), \n",
    "                          kernel_regularizer=regularizers.L1L2(l1=1e-5, l2=1e-4), \n",
    "                          bias_regularizer=regularizers.L2(1e-4),\n",
    "                          activity_regularizer=regularizers.L2(1e-5)),\n",
    "    tf.keras.layers.Dropout(0.42),\n",
    "    tf.keras.layers.Dense(units=128, activation='relu', \n",
    "                          kernel_regularizer=regularizers.L1L2(l1=1e-5, l2=1e-4), \n",
    "                          bias_regularizer=regularizers.L2(1e-4),\n",
    "                          activity_regularizer=regularizers.L2(1e-5)),\n",
    "    tf.keras.layers.Dropout(0.42),\n",
    "    tf.keras.layers.Dense(units=512, activation='relu', \n",
    "                          kernel_regularizer=regularizers.L1L2(l1=1e-5, l2=1e-4), \n",
    "                          bias_regularizer=regularizers.L2(1e-4),\n",
    "                          activity_regularizer=regularizers.L2(1e-5)),\n",
    "    tf.keras.layers.Dropout(0.42),\n",
    "    tf.keras.layers.Dense(units=128, activation='relu', \n",
    "                          kernel_regularizer=regularizers.L1L2(l1=1e-5, l2=1e-4), \n",
    "                          bias_regularizer=regularizers.L2(1e-4),\n",
    "                          activity_regularizer=regularizers.L2(1e-5)),\n",
    "    tf.keras.layers.Dropout(0.42),\n",
    "    tf.keras.layers.Dense(units=num_classes, activation='softmax'),  # Change to softmax for multiclass\n",
    "])"
   ]
  },
  {
   "cell_type": "code",
   "execution_count": 146,
   "metadata": {},
   "outputs": [],
   "source": [
    "# Define F1 metric with tf.py_function\n",
    "def f1_metric(y_true, y_pred):\n",
    "    y_pred_labels = tf.argmax(y_pred, axis=1)\n",
    "    f1_partial = partial(f1_score, average='macro')\n",
    "    f1 = tf.py_function(f1_partial, (y_true, y_pred_labels), tf.float32)\n",
    "    return f1\n",
    "\n",
    "# Compile the model with Adam optimizer and F1 metric\n",
    "nn_model_pca.compile(optimizer=Adam(learning_rate=0.002),\n",
    "                      loss=tf.keras.losses.SparseCategoricalCrossentropy(from_logits=True),\n",
    "                      metrics=[f1_metric])\n"
   ]
  },
  {
   "cell_type": "code",
   "execution_count": 147,
   "metadata": {},
   "outputs": [
    {
     "name": "stdout",
     "output_type": "stream",
     "text": [
      "Epoch 1/8\n",
      "3937/3937 [==============================] - 89s 22ms/step - loss: 0.1934 - f1_metric: 0.8841 - val_loss: 1.3657 - val_f1_metric: 0.5374\n",
      "Epoch 2/8\n",
      "3937/3937 [==============================] - 101s 26ms/step - loss: 0.1380 - f1_metric: 0.8991 - val_loss: 1.3204 - val_f1_metric: 0.5620\n",
      "Epoch 3/8\n",
      "3937/3937 [==============================] - 66s 17ms/step - loss: 0.1360 - f1_metric: 0.9044 - val_loss: 1.8412 - val_f1_metric: 0.5721\n",
      "Epoch 4/8\n",
      "3937/3937 [==============================] - 68s 17ms/step - loss: 0.1328 - f1_metric: 0.9046 - val_loss: 1.4043 - val_f1_metric: 0.5764\n",
      "Epoch 5/8\n",
      "3937/3937 [==============================] - 65s 16ms/step - loss: 0.1305 - f1_metric: 0.9046 - val_loss: 1.1722 - val_f1_metric: 0.6490\n",
      "Epoch 6/8\n",
      "3937/3937 [==============================] - 62s 16ms/step - loss: 0.1325 - f1_metric: 0.9067 - val_loss: 1.7667 - val_f1_metric: 0.5568\n",
      "Epoch 7/8\n",
      "3937/3937 [==============================] - 162s 41ms/step - loss: 0.1332 - f1_metric: 0.9050 - val_loss: 1.4717 - val_f1_metric: 0.5833\n",
      "Epoch 8/8\n",
      "3937/3937 [==============================] - 43s 11ms/step - loss: 0.1303 - f1_metric: 0.9095 - val_loss: 1.4421 - val_f1_metric: 0.5739\n"
     ]
    }
   ],
   "source": [
    "nn_history_pca = nn_model_pca.fit(X_pca_train, y_pca_train, validation_data=(X_pca_test, y_pca_test), epochs=8, verbose=1)"
   ]
  },
  {
   "cell_type": "code",
   "execution_count": 148,
   "metadata": {},
   "outputs": [
    {
     "data": {
      "image/png": "[encoded data removed]",
      "text/plain": [
       "<Figure size 432x288 with 1 Axes>"
      ]
     },
     "metadata": {
      "needs_background": "light"
     },
     "output_type": "display_data"
    }
   ],
   "source": [
    "plt.plot(nn_history_pca.history['loss'], label='loss')\n",
    "plt.plot(nn_history_pca.history['val_loss'], label='val_loss')\n",
    "plt.xlabel('Epoch')\n",
    "plt.ylabel('SCCE Loss')\n",
    "plt.legend()\n",
    "plt.grid(True)"
   ]
  },
  {
   "cell_type": "code",
   "execution_count": 149,
   "metadata": {},
   "outputs": [
    {
     "data": {
      "image/png": "[encoded data removed]",
      "text/plain": [
       "<Figure size 432x288 with 1 Axes>"
      ]
     },
     "metadata": {
      "needs_background": "light"
     },
     "output_type": "display_data"
    }
   ],
   "source": [
    "plt.plot(nn_history.history['accuracy'], label='accuracy')\n",
    "plt.plot(nn_history.history['val_accuracy'], label='val_accuracy')\n",
    "plt.xlabel('Epoch')\n",
    "plt.ylabel('Accuracy')\n",
    "plt.legend()\n",
    "plt.grid(True)"
   ]
  },
  {
   "cell_type": "code",
   "execution_count": 150,
   "metadata": {},
   "outputs": [
    {
     "name": "stdout",
     "output_type": "stream",
     "text": [
      "705/705 [==============================] - 2s 2ms/step\n",
      "Accuracy for PCA: 0.7558108587650816\n",
      "Precision for PCA: 0.6894021104134364\n",
      "Recall for PCA: 0.7558108587650816\n",
      "F1 Score for PCA: 0.7060163716460938\n"
     ]
    }
   ],
   "source": [
    "y_pred_probs_pca = nn_model_pca.predict(X_pca_test)\n",
    "y_pred_pca = np.argmax(y_pred_probs_pca, axis=-1)\n",
    "\n",
    "\n",
    "accuracy_pca = accuracy_score(y_pca_test, y_pred_pca)\n",
    "precision_pca = precision_score(y_pca_test, y_pred_pca, average='weighted')\n",
    "recall_pca = recall_score(y_pca_test, y_pred_pca, average='weighted')\n",
    "f1_pca = f1_score(y_pca_test, y_pred_pca, average='weighted')\n",
    "\n",
    "# Print the metrics\n",
    "print(\"Accuracy for PCA:\", accuracy_pca)\n",
    "print(\"Precision for PCA:\", precision_pca)\n",
    "print(\"Recall for PCA:\", recall_pca)\n",
    "print(\"F1 Score for PCA:\", f1_pca)"
   ]
  },
  {
   "cell_type": "markdown",
   "metadata": {},
   "source": [
    "<h3> Neural networks for tree </h3>"
   ]
  },
  {
   "cell_type": "code",
   "execution_count": 139,
   "metadata": {},
   "outputs": [],
   "source": [
    "nn_model_tree = tf.keras.Sequential([\n",
    "    tf.keras.layers.Dense(units=64, activation='relu', input_shape=(X_tree_train.shape[1:]), \n",
    "                          kernel_regularizer=regularizers.L1L2(l1=1e-5, l2=1e-4), \n",
    "                          bias_regularizer=regularizers.L2(1e-4),\n",
    "                          activity_regularizer=regularizers.L2(1e-5)),\n",
    "    tf.keras.layers.Dropout(0.42),\n",
    "    tf.keras.layers.Dense(units=128, activation='relu', \n",
    "                          kernel_regularizer=regularizers.L1L2(l1=1e-5, l2=1e-4), \n",
    "                          bias_regularizer=regularizers.L2(1e-4),\n",
    "                          activity_regularizer=regularizers.L2(1e-5)),\n",
    "    tf.keras.layers.Dropout(0.42),\n",
    "    tf.keras.layers.Dense(units=512, activation='relu', \n",
    "                          kernel_regularizer=regularizers.L1L2(l1=1e-5, l2=1e-4), \n",
    "                          bias_regularizer=regularizers.L2(1e-4),\n",
    "                          activity_regularizer=regularizers.L2(1e-5)),\n",
    "    tf.keras.layers.Dropout(0.42),\n",
    "    tf.keras.layers.Dense(units=128, activation='relu', \n",
    "                          kernel_regularizer=regularizers.L1L2(l1=1e-5, l2=1e-4), \n",
    "                          bias_regularizer=regularizers.L2(1e-4),\n",
    "                          activity_regularizer=regularizers.L2(1e-5)),\n",
    "    tf.keras.layers.Dropout(0.42),\n",
    "    tf.keras.layers.Dense(units=num_classes, activation='softmax'),  # Change to softmax for multiclass\n",
    "])"
   ]
  },
  {
   "cell_type": "code",
   "execution_count": 140,
   "metadata": {},
   "outputs": [],
   "source": [
    "# Define F1 metric with tf.py_function\n",
    "def f1_metric(y_true, y_pred):\n",
    "    y_pred_labels = tf.argmax(y_pred, axis=1)\n",
    "    f1_partial = partial(f1_score, average='macro')\n",
    "    f1 = tf.py_function(f1_partial, (y_true, y_pred_labels), tf.float32)\n",
    "    return f1\n",
    "\n",
    "# Compile the model with Adam optimizer and F1 metric\n",
    "nn_model_tree.compile(optimizer=Adam(learning_rate=0.002),\n",
    "                      loss=tf.keras.losses.SparseCategoricalCrossentropy(from_logits=True),\n",
    "                      metrics=[f1_metric])\n",
    "\n"
   ]
  },
  {
   "cell_type": "code",
   "execution_count": 141,
   "metadata": {},
   "outputs": [
    {
     "name": "stdout",
     "output_type": "stream",
     "text": [
      "Epoch 1/10\n",
      "3937/3937 [==============================] - 146s 36ms/step - loss: 0.1707 - f1_metric: 0.8937 - val_loss: 1.3332 - val_f1_metric: 0.5781\n",
      "Epoch 2/10\n",
      "3937/3937 [==============================] - 138s 35ms/step - loss: 0.1143 - f1_metric: 0.9168 - val_loss: 1.2621 - val_f1_metric: 0.5832\n",
      "Epoch 3/10\n",
      "3937/3937 [==============================] - 154s 39ms/step - loss: 0.1106 - f1_metric: 0.9218 - val_loss: 1.9036 - val_f1_metric: 0.5716\n",
      "Epoch 4/10\n",
      "3937/3937 [==============================] - 145s 37ms/step - loss: 0.1089 - f1_metric: 0.9249 - val_loss: 1.4526 - val_f1_metric: 0.5939\n",
      "Epoch 5/10\n",
      "3937/3937 [==============================] - 137s 35ms/step - loss: 0.1080 - f1_metric: 0.9239 - val_loss: 1.2329 - val_f1_metric: 0.6122\n",
      "Epoch 6/10\n",
      "3937/3937 [==============================] - 147s 37ms/step - loss: 0.1087 - f1_metric: 0.9253 - val_loss: 1.8519 - val_f1_metric: 0.5562\n",
      "Epoch 7/10\n",
      "3937/3937 [==============================] - 115s 29ms/step - loss: 0.1064 - f1_metric: 0.9234 - val_loss: 1.7875 - val_f1_metric: 0.5660\n",
      "Epoch 8/10\n",
      "3937/3937 [==============================] - 149s 38ms/step - loss: 0.1070 - f1_metric: 0.9228 - val_loss: 1.3612 - val_f1_metric: 0.5678\n",
      "Epoch 9/10\n",
      "3937/3937 [==============================] - 121s 31ms/step - loss: 0.1045 - f1_metric: 0.9261 - val_loss: 1.5752 - val_f1_metric: 0.6033\n",
      "Epoch 10/10\n",
      "3937/3937 [==============================] - 104s 26ms/step - loss: 0.1082 - f1_metric: 0.9269 - val_loss: 1.9240 - val_f1_metric: 0.6105\n"
     ]
    }
   ],
   "source": [
    "nn_history_tree = nn_model_tree.fit(X_tree_train, y_tree_train, validation_data=(X_tree_test, y_tree_test), epochs=10, verbose=1)"
   ]
  },
  {
   "cell_type": "code",
   "execution_count": 142,
   "metadata": {},
   "outputs": [
    {
     "name": "stdout",
     "output_type": "stream",
     "text": [
      "705/705 [==============================] - 4s 6ms/step\n",
      "Accuracy for PCA: 0.7711586231369766\n",
      "Precision for PCA: 0.813364071890421\n",
      "Recall for PCA: 0.7711586231369766\n",
      "F1 Score for PCA: 0.7359452531851266\n"
     ]
    }
   ],
   "source": [
    "y_pred_probs_tree = nn_model_tree.predict(X_tree_test)\n",
    "y_pred_tree = np.argmax(y_pred_probs_tree, axis=-1)\n",
    "\n",
    "\n",
    "accuracy_tree = accuracy_score(y_tree_test, y_pred_tree)\n",
    "precision_tree = precision_score(y_tree_test, y_pred_tree, average='weighted')\n",
    "recall_tree = recall_score(y_tree_test, y_pred_tree, average='weighted')\n",
    "f1_tree= f1_score(y_tree_test, y_pred_tree, average='weighted')\n",
    "\n",
    "# Print the metrics\n",
    "print(\"Accuracy for tree:\", accuracy_tree)\n",
    "print(\"Precision for tree:\", precision_tree)\n",
    "print(\"Recall for tree:\", recall_tree)\n",
    "print(\"F1 Score for tree:\", f1_tree)"
   ]
  }
 ],
 "metadata": {
  "kernelspec": {
   "display_name": "Python 3",
   "language": "python",
   "name": "python3"
  },
  "language_info": {
   "codemirror_mode": {
    "name": "ipython",
    "version": 3
   },
   "file_extension": ".py",
   "mimetype": "text/x-python",
   "name": "python",
   "nbconvert_exporter": "python",
   "pygments_lexer": "ipython3",
   "version": "3.10.2"
  }
 },
 "nbformat": 4,
 "nbformat_minor": 2
}
