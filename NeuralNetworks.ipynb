{
 "cells": [
  {
   "cell_type": "code",
   "execution_count": 1,
   "metadata": {},
   "outputs": [],
   "source": [
    "import warnings\n",
    "warnings.filterwarnings(\"ignore\")\n",
    "\n",
    "import pandas as pd\n",
    "import matplotlib.pyplot as plt\n",
    "import seaborn as sns\n",
    "import numpy as np\n",
    "import plotly.express as px\n",
    "\n",
    "from sklearn.model_selection import StratifiedKFold\n",
    "from sklearn.metrics import accuracy_score, precision_score, recall_score, f1_score \n",
    "import tensorflow as tf\n",
    "from tensorflow.keras import regularizers\n",
    "\n"
   ]
  },
  {
   "cell_type": "markdown",
   "metadata": {},
   "source": [
    "<h3>Prepare Datasets</h3>"
   ]
  },
  {
   "cell_type": "code",
   "execution_count": 2,
   "metadata": {},
   "outputs": [],
   "source": [
    "train_dataset = pd.read_csv('Datasets/train_dataset.csv')\n",
    "test_dataset = pd.read_csv('Datasets/test_dataset.csv')\n",
    "\n",
    "train_pca_dataset = pd.read_csv('Datasets/PCA_train_data.csv')\n",
    "test_pca_dataset = pd.read_csv('Datasets/PCA_test_data.csv')\n",
    "\n",
    "train_tree_dataset = pd.read_csv('Datasets/Tree_train_data.csv')\n",
    "test_tree_dataset = pd.read_csv('Datasets/Tree_test_data.csv')\n",
    "\n",
    "\n",
    "X_train = train_dataset.drop(['is_attack' , 'attack_category' , 'attack'], axis=1)\n",
    "y_train = train_dataset['attack_category']\n",
    "\n",
    "X_test = test_dataset.drop(['is_attack' , 'attack_category' , 'attack'], axis=1)\n",
    "y_test = test_dataset['attack_category']\n",
    "\n",
    "from tensorflow.keras.utils import to_categorical\n",
    "\n",
    "# Convert integer labels to one-hot encoded format\n",
    "y_train_one_hot = to_categorical(y_train, num_classes=5)\n",
    "y_test_one_hot = to_categorical(y_test, num_classes=5)\n",
    "\n",
    "X_pca_train = train_pca_dataset.drop(['is_attack' , 'attack_category' , 'attack'], axis=1)\n",
    "y_pca_train = train_pca_dataset['attack_category']\n",
    "\n",
    "X_pca_test = test_pca_dataset.drop(['is_attack' , 'attack_category' , 'attack'], axis=1)\n",
    "y_pca_test = test_pca_dataset['attack_category']\n",
    "\n",
    "X_tree_train = train_tree_dataset.drop(['is_attack' , 'attack_category' , 'attack'], axis=1)\n",
    "y_tree_train = train_tree_dataset['attack_category']\n",
    "\n",
    "X_tree_test = test_tree_dataset.drop(['is_attack' , 'attack_category' , 'attack'], axis=1)\n",
    "y_tree_test = test_tree_dataset['attack_category']"
   ]
  },
  {
   "cell_type": "code",
   "execution_count": 3,
   "metadata": {},
   "outputs": [],
   "source": [
    "def train_model(model, X, y):\n",
    "    skf = StratifiedKFold(n_splits=5)\n",
    "\n",
    "    accuracy_scores = []\n",
    "    precision_scores = []\n",
    "    recall_scores = []\n",
    "    f1_scores = []\n",
    "\n",
    "    for train_index, test_index in skf.split(X, y):\n",
    "        X_train, y_train = X.iloc[train_index], y.iloc[train_index]\n",
    "        X_test, y_test = X.iloc[test_index], y.iloc[test_index]\n",
    "\n",
    "        model.fit(X_train, y_train)\n",
    "\n",
    "        pred = model.predict(X_test)\n",
    "        accuracy = accuracy_score(y_test, pred)\n",
    "        precision = precision_score(y_test, pred, average='weighted')\n",
    "        recall = recall_score(y_test, pred, average='weighted') \n",
    "        f1 = f1_score(y_test, pred, average='weighted') \n",
    "\n",
    "        accuracy_scores.append(accuracy)\n",
    "        precision_scores.append(precision)\n",
    "        recall_scores.append(recall)\n",
    "        f1_scores.append(f1)\n",
    "\n",
    "    # print('{0} Accuracy: {1: .5f} Precision: {2: .5f} Recall: {3: .5f} F1_Score: {4: .5f}'.format(\n",
    "    #     model.__class__.__name__, \n",
    "    #     np.mean(accuracy_scores),\n",
    "    #     np.mean(precision_scores),\n",
    "    #     np.mean(recall_scores),\n",
    "    #     np.mean(f1_scores)))\n",
    "    \n",
    "    return -np.mean(f1_scores)"
   ]
  },
  {
   "cell_type": "code",
   "execution_count": 4,
   "metadata": {},
   "outputs": [],
   "source": [
    "def evaluate(model, X_train, y_train, X_test, y_test):\n",
    "    \n",
    "    model.fit(X_train, y_train)\n",
    "    \n",
    "    y_pred = model.predict(X_test)\n",
    "    \n",
    "    accuracy = accuracy_score(y_test, y_pred)\n",
    "    precision = precision_score(y_test, y_pred, average='weighted')\n",
    "    recall = recall_score(y_test, y_pred, average='weighted')\n",
    "    f1 = f1_score(y_test, y_pred, average='weighted')\n",
    "    \n",
    "    print(\"Model: \", model.__class__.__name__)\n",
    "    print(\"Accuracy: \", accuracy)\n",
    "    print(\"Precision: \", precision)\n",
    "    print(\"Recall: \", recall)\n",
    "    print(\"F1 Score: \", f1)\n",
    "    print(\"####################################\")\n",
    "    \n",
    "    # report = classification_report(y_test, y_pred)\n",
    "    # print(\"Classification Report:\\n\", report)\n",
    "    \n",
    "    return -f1"
   ]
  },
  {
   "cell_type": "markdown",
   "metadata": {},
   "source": [
    "<h3> Model for Neural Network without PCA or Tree </h3>"
   ]
  },
  {
   "cell_type": "code",
   "execution_count": 5,
   "metadata": {},
   "outputs": [],
   "source": [
    "num_classes = 5\n",
    "\n",
    "nn_model = tf.keras.Sequential([\n",
    "    tf.keras.layers.Dense(units=64, activation='relu', input_shape=(X_train.shape[1:]), \n",
    "                          kernel_regularizer=regularizers.L1L2(l1=1e-5, l2=1e-4), \n",
    "                          bias_regularizer=regularizers.L2(1e-4),\n",
    "                          activity_regularizer=regularizers.L2(1e-5)),\n",
    "    tf.keras.layers.Dropout(0.4),\n",
    "    tf.keras.layers.Dense(units=128, activation='relu', \n",
    "                          kernel_regularizer=regularizers.L1L2(l1=1e-5, l2=1e-4), \n",
    "                          bias_regularizer=regularizers.L2(1e-4),\n",
    "                          activity_regularizer=regularizers.L2(1e-5)),\n",
    "    tf.keras.layers.Dropout(0.4),\n",
    "    tf.keras.layers.Dense(units=512, activation='relu', \n",
    "                          kernel_regularizer=regularizers.L1L2(l1=1e-5, l2=1e-4), \n",
    "                          bias_regularizer=regularizers.L2(1e-4),\n",
    "                          activity_regularizer=regularizers.L2(1e-5)),\n",
    "    tf.keras.layers.Dropout(0.4),\n",
    "    tf.keras.layers.Dense(units=128, activation='relu', \n",
    "                          kernel_regularizer=regularizers.L1L2(l1=1e-5, l2=1e-4), \n",
    "                          bias_regularizer=regularizers.L2(1e-4),\n",
    "                          activity_regularizer=regularizers.L2(1e-5)),\n",
    "    tf.keras.layers.Dropout(0.4),\n",
    "    tf.keras.layers.Dense(units=num_classes, activation='softmax'),  # Change to softmax for multiclass\n",
    "])\n"
   ]
  },
  {
   "cell_type": "code",
   "execution_count": 6,
   "metadata": {},
   "outputs": [],
   "source": [
    "nn_model.compile(optimizer='adam', \n",
    "              loss=tf.keras.losses.SparseCategoricalCrossentropy(from_logits=True), \n",
    "              metrics=['accuracy'])\n"
   ]
  },
  {
   "cell_type": "code",
   "execution_count": 7,
   "metadata": {},
   "outputs": [
    {
     "name": "stdout",
     "output_type": "stream",
     "text": [
      "Model: \"sequential\"\n",
      "_________________________________________________________________\n",
      " Layer (type)                Output Shape              Param #   \n",
      "=================================================================\n",
      " dense (Dense)               (None, 64)                2944      \n",
      "                                                                 \n",
      " dropout (Dropout)           (None, 64)                0         \n",
      "                                                                 \n",
      " dense_1 (Dense)             (None, 128)               8320      \n",
      "                                                                 \n",
      " dropout_1 (Dropout)         (None, 128)               0         \n",
      "                                                                 \n",
      " dense_2 (Dense)             (None, 512)               66048     \n",
      "                                                                 \n",
      " dropout_2 (Dropout)         (None, 512)               0         \n",
      "                                                                 \n",
      " dense_3 (Dense)             (None, 128)               65664     \n",
      "                                                                 \n",
      " dropout_3 (Dropout)         (None, 128)               0         \n",
      "                                                                 \n",
      " dense_4 (Dense)             (None, 5)                 645       \n",
      "                                                                 \n",
      "=================================================================\n",
      "Total params: 143,621\n",
      "Trainable params: 143,621\n",
      "Non-trainable params: 0\n",
      "_________________________________________________________________\n"
     ]
    }
   ],
   "source": [
    "nn_model.summary()"
   ]
  },
  {
   "cell_type": "code",
   "execution_count": 8,
   "metadata": {},
   "outputs": [
    {
     "name": "stdout",
     "output_type": "stream",
     "text": [
      "Epoch 1/10\n",
      "3937/3937 [==============================] - 44s 11ms/step - loss: 0.1832 - accuracy: 0.9647 - val_loss: 1.6180 - val_accuracy: 0.7656\n",
      "Epoch 2/10\n",
      "3937/3937 [==============================] - 41s 11ms/step - loss: 0.0996 - accuracy: 0.9783 - val_loss: 1.6721 - val_accuracy: 0.7543\n",
      "Epoch 3/10\n",
      "3937/3937 [==============================] - 36s 9ms/step - loss: 0.0877 - accuracy: 0.9809 - val_loss: 1.5172 - val_accuracy: 0.7640\n",
      "Epoch 4/10\n",
      "3937/3937 [==============================] - 41s 10ms/step - loss: 0.0869 - accuracy: 0.9814 - val_loss: 1.3697 - val_accuracy: 0.7821\n",
      "Epoch 5/10\n",
      "3937/3937 [==============================] - 38s 10ms/step - loss: 0.0830 - accuracy: 0.9827 - val_loss: 1.5728 - val_accuracy: 0.7500\n",
      "Epoch 6/10\n",
      "3937/3937 [==============================] - 43s 11ms/step - loss: 0.0811 - accuracy: 0.9829 - val_loss: 1.3258 - val_accuracy: 0.7588\n",
      "Epoch 7/10\n",
      "3937/3937 [==============================] - 41s 10ms/step - loss: 0.0806 - accuracy: 0.9836 - val_loss: 1.9052 - val_accuracy: 0.7579\n",
      "Epoch 8/10\n",
      "3937/3937 [==============================] - 45s 11ms/step - loss: 0.0799 - accuracy: 0.9832 - val_loss: 1.3844 - val_accuracy: 0.7673\n",
      "Epoch 9/10\n",
      "3937/3937 [==============================] - 40s 10ms/step - loss: 0.0801 - accuracy: 0.9839 - val_loss: 1.5277 - val_accuracy: 0.7818\n",
      "Epoch 10/10\n",
      "3937/3937 [==============================] - 42s 11ms/step - loss: 0.0801 - accuracy: 0.9838 - val_loss: 1.2666 - val_accuracy: 0.7601\n"
     ]
    }
   ],
   "source": [
    "nn_history = nn_model.fit(X_train, y_train, validation_data=(X_test, y_test), epochs=10, verbose=1)"
   ]
  },
  {
   "cell_type": "code",
   "execution_count": 11,
   "metadata": {},
   "outputs": [
    {
     "data": {
      "image/png": "[encoded data removed]",
      "text/plain": [
       "<Figure size 432x288 with 1 Axes>"
      ]
     },
     "metadata": {
      "needs_background": "light"
     },
     "output_type": "display_data"
    }
   ],
   "source": [
    "plt.plot(nn_history.history['loss'], label='loss')\n",
    "plt.plot(nn_history.history['val_loss'], label='val_loss')\n",
    "plt.xlabel('Epoch')\n",
    "plt.ylabel('SCCE Loss')\n",
    "plt.legend()\n",
    "plt.grid(True)"
   ]
  },
  {
   "cell_type": "code",
   "execution_count": 12,
   "metadata": {},
   "outputs": [
    {
     "data": {
      "image/png": "[encoded data removed]",
      "text/plain": [
       "<Figure size 432x288 with 1 Axes>"
      ]
     },
     "metadata": {
      "needs_background": "light"
     },
     "output_type": "display_data"
    }
   ],
   "source": [
    "plt.plot(nn_history.history['accuracy'], label='accuracy')\n",
    "plt.plot(nn_history.history['val_accuracy'], label='val_accuracy')\n",
    "plt.xlabel('Epoch')\n",
    "plt.ylabel('Accuracy')\n",
    "plt.legend()\n",
    "plt.grid(True)"
   ]
  },
  {
   "cell_type": "code",
   "execution_count": 14,
   "metadata": {},
   "outputs": [
    {
     "name": "stdout",
     "output_type": "stream",
     "text": [
      "705/705 [==============================] - 3s 5ms/step\n",
      "Accuracy for no PCA and no tree: 0.7600691980127751\n",
      "Precision for no PCA and no tree: 0.7830333174270425\n",
      "Recall for no PCA and no tree: 0.7600691980127751\n",
      "F1 Score for no PCA and no tree: 0.712749664336093\n"
     ]
    }
   ],
   "source": [
    "y_pred_probs = nn_model.predict(X_test)\n",
    "y_pred = np.argmax(y_pred_probs, axis=-1)\n",
    "\n",
    "\n",
    "accuracy = accuracy_score(y_test, y_pred)\n",
    "precision = precision_score(y_test, y_pred, average='weighted')\n",
    "recall = recall_score(y_test, y_pred, average='weighted')\n",
    "f1 = f1_score(y_test, y_pred, average='weighted')\n",
    "\n",
    "# Print the metrics\n",
    "print(\"Accuracy for no PCA and no tree:\", accuracy)\n",
    "print(\"Precision for no PCA and no tree:\", precision)\n",
    "print(\"Recall for no PCA and no tree:\", recall)\n",
    "print(\"F1 Score for no PCA and no tree:\", f1)"
   ]
  },
  {
   "cell_type": "markdown",
   "metadata": {},
   "source": [
    "<h3> Neural networks with PCA </h3>"
   ]
  },
  {
   "cell_type": "code",
   "execution_count": 15,
   "metadata": {},
   "outputs": [],
   "source": [
    "nn_model_pca = tf.keras.Sequential([\n",
    "    tf.keras.layers.Dense(units=64, activation='relu', input_shape=(X_pca_train.shape[1:]), \n",
    "                          kernel_regularizer=regularizers.L1L2(l1=1e-5, l2=1e-4), \n",
    "                          bias_regularizer=regularizers.L2(1e-4),\n",
    "                          activity_regularizer=regularizers.L2(1e-5)),\n",
    "    tf.keras.layers.Dropout(0.4),\n",
    "    tf.keras.layers.Dense(units=128, activation='relu', \n",
    "                          kernel_regularizer=regularizers.L1L2(l1=1e-5, l2=1e-4), \n",
    "                          bias_regularizer=regularizers.L2(1e-4),\n",
    "                          activity_regularizer=regularizers.L2(1e-5)),\n",
    "    tf.keras.layers.Dropout(0.4),\n",
    "    tf.keras.layers.Dense(units=512, activation='relu', \n",
    "                          kernel_regularizer=regularizers.L1L2(l1=1e-5, l2=1e-4), \n",
    "                          bias_regularizer=regularizers.L2(1e-4),\n",
    "                          activity_regularizer=regularizers.L2(1e-5)),\n",
    "    tf.keras.layers.Dropout(0.4),\n",
    "    tf.keras.layers.Dense(units=128, activation='relu', \n",
    "                          kernel_regularizer=regularizers.L1L2(l1=1e-5, l2=1e-4), \n",
    "                          bias_regularizer=regularizers.L2(1e-4),\n",
    "                          activity_regularizer=regularizers.L2(1e-5)),\n",
    "    tf.keras.layers.Dropout(0.4),\n",
    "    tf.keras.layers.Dense(units=num_classes, activation='softmax'),  # Change to softmax for multiclass\n",
    "])"
   ]
  },
  {
   "cell_type": "code",
   "execution_count": 17,
   "metadata": {},
   "outputs": [],
   "source": [
    "nn_model_pca.compile(optimizer='adam', \n",
    "              loss=tf.keras.losses.SparseCategoricalCrossentropy(from_logits=True), \n",
    "              metrics=['accuracy'])"
   ]
  },
  {
   "cell_type": "code",
   "execution_count": 18,
   "metadata": {},
   "outputs": [
    {
     "name": "stdout",
     "output_type": "stream",
     "text": [
      "Epoch 1/10\n",
      "3937/3937 [==============================] - 43s 10ms/step - loss: 0.2099 - accuracy: 0.9574 - val_loss: 1.2916 - val_accuracy: 0.7359\n",
      "Epoch 2/10\n",
      "3937/3937 [==============================] - 48s 12ms/step - loss: 0.1283 - accuracy: 0.9700 - val_loss: 1.5761 - val_accuracy: 0.7417\n",
      "Epoch 3/10\n",
      "3937/3937 [==============================] - 47s 12ms/step - loss: 0.1165 - accuracy: 0.9722 - val_loss: 1.5490 - val_accuracy: 0.7620\n",
      "Epoch 4/10\n",
      "3937/3937 [==============================] - 45s 11ms/step - loss: 0.1118 - accuracy: 0.9726 - val_loss: 1.5730 - val_accuracy: 0.7590\n",
      "Epoch 5/10\n",
      "3937/3937 [==============================] - 38s 10ms/step - loss: 0.1100 - accuracy: 0.9735 - val_loss: 1.4353 - val_accuracy: 0.7791\n",
      "Epoch 6/10\n",
      "3937/3937 [==============================] - 39s 10ms/step - loss: 0.1062 - accuracy: 0.9737 - val_loss: 1.8247 - val_accuracy: 0.7549\n",
      "Epoch 7/10\n",
      "3937/3937 [==============================] - 47s 12ms/step - loss: 0.1076 - accuracy: 0.9739 - val_loss: 1.4546 - val_accuracy: 0.7710\n",
      "Epoch 8/10\n",
      "3937/3937 [==============================] - 40s 10ms/step - loss: 0.1044 - accuracy: 0.9739 - val_loss: 1.3244 - val_accuracy: 0.7670\n",
      "Epoch 9/10\n",
      "3937/3937 [==============================] - 34s 9ms/step - loss: 0.1037 - accuracy: 0.9746 - val_loss: 1.6149 - val_accuracy: 0.7720\n",
      "Epoch 10/10\n",
      "3937/3937 [==============================] - 30s 8ms/step - loss: 0.1044 - accuracy: 0.9745 - val_loss: 1.6546 - val_accuracy: 0.7544\n"
     ]
    }
   ],
   "source": [
    "nn_history_pca = nn_model_pca.fit(X_pca_train, y_pca_train, validation_data=(X_pca_test, y_pca_test), epochs=10, verbose=1)"
   ]
  },
  {
   "cell_type": "code",
   "execution_count": 19,
   "metadata": {},
   "outputs": [
    {
     "data": {
      "image/png": "[encoded data removed]",
      "text/plain": [
       "<Figure size 432x288 with 1 Axes>"
      ]
     },
     "metadata": {
      "needs_background": "light"
     },
     "output_type": "display_data"
    }
   ],
   "source": [
    "plt.plot(nn_history_pca.history['loss'], label='loss')\n",
    "plt.plot(nn_history_pca.history['val_loss'], label='val_loss')\n",
    "plt.xlabel('Epoch')\n",
    "plt.ylabel('SCCE Loss')\n",
    "plt.legend()\n",
    "plt.grid(True)"
   ]
  },
  {
   "cell_type": "code",
   "execution_count": 20,
   "metadata": {},
   "outputs": [
    {
     "data": {
      "image/png": "[encoded data removed]",
      "text/plain": [
       "<Figure size 432x288 with 1 Axes>"
      ]
     },
     "metadata": {
      "needs_background": "light"
     },
     "output_type": "display_data"
    }
   ],
   "source": [
    "plt.plot(nn_history.history['accuracy'], label='accuracy')\n",
    "plt.plot(nn_history.history['val_accuracy'], label='val_accuracy')\n",
    "plt.xlabel('Epoch')\n",
    "plt.ylabel('Accuracy')\n",
    "plt.legend()\n",
    "plt.grid(True)"
   ]
  },
  {
   "cell_type": "code",
   "execution_count": 21,
   "metadata": {},
   "outputs": [
    {
     "name": "stdout",
     "output_type": "stream",
     "text": [
      "705/705 [==============================] - 3s 3ms/step\n",
      "Accuracy for PCA: 0.7543914123491838\n",
      "Precision for PCA: 0.7988732865228201\n",
      "Recall for PCA: 0.7543914123491838\n",
      "F1 Score for PCA: 0.7219661737682376\n"
     ]
    }
   ],
   "source": [
    "y_pred_probs_pca = nn_model_pca.predict(X_pca_test)\n",
    "y_pred_pca = np.argmax(y_pred_probs_pca, axis=-1)\n",
    "\n",
    "\n",
    "accuracy_pca = accuracy_score(y_pca_test, y_pred_pca)\n",
    "precision_pca = precision_score(y_pca_test, y_pred_pca, average='weighted')\n",
    "recall_pca = recall_score(y_pca_test, y_pred_pca, average='weighted')\n",
    "f1_pca = f1_score(y_pca_test, y_pred_pca, average='weighted')\n",
    "\n",
    "# Print the metrics\n",
    "print(\"Accuracy for PCA:\", accuracy_pca)\n",
    "print(\"Precision for PCA:\", precision_pca)\n",
    "print(\"Recall for PCA:\", recall_pca)\n",
    "print(\"F1 Score for PCA:\", f1_pca)"
   ]
  },
  {
   "cell_type": "markdown",
   "metadata": {},
   "source": [
    "<h3> Neural networks for tree </h3>"
   ]
  },
  {
   "cell_type": "code",
   "execution_count": 22,
   "metadata": {},
   "outputs": [],
   "source": [
    "nn_model_tree = tf.keras.Sequential([\n",
    "    tf.keras.layers.Dense(units=64, activation='relu', input_shape=(X_tree_train.shape[1:]), \n",
    "                          kernel_regularizer=regularizers.L1L2(l1=1e-5, l2=1e-4), \n",
    "                          bias_regularizer=regularizers.L2(1e-4),\n",
    "                          activity_regularizer=regularizers.L2(1e-5)),\n",
    "    tf.keras.layers.Dropout(0.4),\n",
    "    tf.keras.layers.Dense(units=128, activation='relu', \n",
    "                          kernel_regularizer=regularizers.L1L2(l1=1e-5, l2=1e-4), \n",
    "                          bias_regularizer=regularizers.L2(1e-4),\n",
    "                          activity_regularizer=regularizers.L2(1e-5)),\n",
    "    tf.keras.layers.Dropout(0.4),\n",
    "    tf.keras.layers.Dense(units=512, activation='relu', \n",
    "                          kernel_regularizer=regularizers.L1L2(l1=1e-5, l2=1e-4), \n",
    "                          bias_regularizer=regularizers.L2(1e-4),\n",
    "                          activity_regularizer=regularizers.L2(1e-5)),\n",
    "    tf.keras.layers.Dropout(0.4),\n",
    "    tf.keras.layers.Dense(units=128, activation='relu', \n",
    "                          kernel_regularizer=regularizers.L1L2(l1=1e-5, l2=1e-4), \n",
    "                          bias_regularizer=regularizers.L2(1e-4),\n",
    "                          activity_regularizer=regularizers.L2(1e-5)),\n",
    "    tf.keras.layers.Dropout(0.4),\n",
    "    tf.keras.layers.Dense(units=num_classes, activation='softmax'),  # Change to softmax for multiclass\n",
    "])"
   ]
  },
  {
   "cell_type": "code",
   "execution_count": 23,
   "metadata": {},
   "outputs": [],
   "source": [
    "nn_model_tree.compile(optimizer='adam', \n",
    "              loss=tf.keras.losses.SparseCategoricalCrossentropy(from_logits=True), \n",
    "              metrics=['accuracy'])"
   ]
  },
  {
   "cell_type": "code",
   "execution_count": 24,
   "metadata": {},
   "outputs": [
    {
     "name": "stdout",
     "output_type": "stream",
     "text": [
      "Epoch 1/10\n",
      "3937/3937 [==============================] - 39s 9ms/step - loss: 0.1821 - accuracy: 0.9646 - val_loss: 1.2898 - val_accuracy: 0.7448\n",
      "Epoch 2/10\n",
      "3937/3937 [==============================] - 40s 10ms/step - loss: 0.1021 - accuracy: 0.9772 - val_loss: 1.4334 - val_accuracy: 0.7548\n",
      "Epoch 3/10\n",
      "3937/3937 [==============================] - 38s 10ms/step - loss: 0.0917 - accuracy: 0.9795 - val_loss: 1.7830 - val_accuracy: 0.7650\n",
      "Epoch 4/10\n",
      "3937/3937 [==============================] - 38s 10ms/step - loss: 0.0878 - accuracy: 0.9806 - val_loss: 1.3965 - val_accuracy: 0.7692\n",
      "Epoch 5/10\n",
      "3937/3937 [==============================] - 37s 9ms/step - loss: 0.0855 - accuracy: 0.9820 - val_loss: 1.4971 - val_accuracy: 0.7599\n",
      "Epoch 6/10\n",
      "3937/3937 [==============================] - 37s 9ms/step - loss: 0.0841 - accuracy: 0.9817 - val_loss: 1.4971 - val_accuracy: 0.7687\n",
      "Epoch 7/10\n",
      "3937/3937 [==============================] - 38s 10ms/step - loss: 0.0820 - accuracy: 0.9825 - val_loss: 1.7918 - val_accuracy: 0.7614\n",
      "Epoch 8/10\n",
      "3937/3937 [==============================] - 40s 10ms/step - loss: 0.0824 - accuracy: 0.9826 - val_loss: 1.5518 - val_accuracy: 0.7598\n",
      "Epoch 9/10\n",
      "3937/3937 [==============================] - 879s 223ms/step - loss: 0.0811 - accuracy: 0.9829 - val_loss: 1.5297 - val_accuracy: 0.7719\n",
      "Epoch 10/10\n",
      "3937/3937 [==============================] - 24s 6ms/step - loss: 0.0810 - accuracy: 0.9830 - val_loss: 1.4799 - val_accuracy: 0.7619\n"
     ]
    }
   ],
   "source": [
    "nn_history_tree = nn_model_tree.fit(X_tree_train, y_tree_train, validation_data=(X_tree_test, y_tree_test), epochs=10, verbose=1)"
   ]
  },
  {
   "cell_type": "code",
   "execution_count": 25,
   "metadata": {},
   "outputs": [
    {
     "name": "stdout",
     "output_type": "stream",
     "text": [
      "705/705 [==============================] - 4s 5ms/step\n",
      "Accuracy for PCA: 0.7619322214336409\n",
      "Precision for PCA: 0.7647018068321041\n",
      "Recall for PCA: 0.7619322214336409\n",
      "F1 Score for PCA: 0.7128409453763159\n"
     ]
    }
   ],
   "source": [
    "y_pred_probs_tree = nn_model_tree.predict(X_tree_test)\n",
    "y_pred_tree = np.argmax(y_pred_probs_tree, axis=-1)\n",
    "\n",
    "\n",
    "accuracy_tree = accuracy_score(y_tree_test, y_pred_tree)\n",
    "precision_tree = precision_score(y_tree_test, y_pred_tree, average='weighted')\n",
    "recall_tree = recall_score(y_tree_test, y_pred_tree, average='weighted')\n",
    "f1_tree= f1_score(y_tree_test, y_pred_tree, average='weighted')\n",
    "\n",
    "# Print the metrics\n",
    "print(\"Accuracy for PCA:\", accuracy_tree)\n",
    "print(\"Precision for PCA:\", precision_tree)\n",
    "print(\"Recall for PCA:\", recall_tree)\n",
    "print(\"F1 Score for PCA:\", f1_tree)"
   ]
  }
 ],
 "metadata": {
  "kernelspec": {
   "display_name": "Python 3",
   "language": "python",
   "name": "python3"
  },
  "language_info": {
   "codemirror_mode": {
    "name": "ipython",
    "version": 3
   },
   "file_extension": ".py",
   "mimetype": "text/x-python",
   "name": "python",
   "nbconvert_exporter": "python",
   "pygments_lexer": "ipython3",
   "version": "3.10.2"
  }
 },
 "nbformat": 4,
 "nbformat_minor": 2
}
