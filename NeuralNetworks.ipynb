{
 "cells": [
  {
   "cell_type": "code",
   "execution_count": 26,
   "metadata": {},
   "outputs": [],
   "source": [
    "import warnings\n",
    "warnings.filterwarnings(\"ignore\")\n",
    "\n",
    "import pandas as pd\n",
    "import matplotlib.pyplot as plt\n",
    "import seaborn as sns\n",
    "import numpy as np\n",
    "import plotly.express as px\n",
    "\n",
    "from sklearn.model_selection import StratifiedKFold\n",
    "from sklearn.metrics import accuracy_score, precision_score, recall_score, f1_score \n",
    "from sklearn.metrics import confusion_matrix\n",
    "import tensorflow as tf\n",
    "from tensorflow.keras import regularizers\n",
    "from tensorflow.keras.optimizers import Adam\n",
    "from sklearn.metrics import f1_score\n",
    "from functools import partial\n",
    "\n"
   ]
  },
  {
   "cell_type": "markdown",
   "metadata": {},
   "source": [
    "<h3>Prepare Datasets</h3>"
   ]
  },
  {
   "cell_type": "code",
   "execution_count": 2,
   "metadata": {},
   "outputs": [],
   "source": [
    "train_dataset = pd.read_csv('Datasets/train_dataset.csv')\n",
    "test_dataset = pd.read_csv('Datasets/test_dataset.csv')\n",
    "\n",
    "train_pca_dataset = pd.read_csv('Datasets/PCA_train_data.csv')\n",
    "test_pca_dataset = pd.read_csv('Datasets/PCA_test_data.csv')\n",
    "\n",
    "train_tree_dataset = pd.read_csv('Datasets/Tree_train_data.csv')\n",
    "test_tree_dataset = pd.read_csv('Datasets/Tree_test_data.csv')\n",
    "\n",
    "\n",
    "X_train = train_dataset.drop(['is_attack' , 'attack_category' , 'attack'], axis=1)\n",
    "y_train = train_dataset['attack_category']\n",
    "\n",
    "X_test = test_dataset.drop(['is_attack' , 'attack_category' , 'attack'], axis=1)\n",
    "y_test = test_dataset['attack_category']\n",
    "\n",
    "from tensorflow.keras.utils import to_categorical\n",
    "\n",
    "# Convert integer labels to one-hot encoded format\n",
    "y_train_one_hot = to_categorical(y_train, num_classes=5)\n",
    "y_test_one_hot = to_categorical(y_test, num_classes=5)\n",
    "\n",
    "X_pca_train = train_pca_dataset.drop(['is_attack' , 'attack_category' , 'attack'], axis=1)\n",
    "y_pca_train = train_pca_dataset['attack_category']\n",
    "\n",
    "X_pca_test = test_pca_dataset.drop(['is_attack' , 'attack_category' , 'attack'], axis=1)\n",
    "y_pca_test = test_pca_dataset['attack_category']\n",
    "\n",
    "X_tree_train = train_tree_dataset.drop(['is_attack' , 'attack_category' , 'attack'], axis=1)\n",
    "y_tree_train = train_tree_dataset['attack_category']\n",
    "\n",
    "X_tree_test = test_tree_dataset.drop(['is_attack' , 'attack_category' , 'attack'], axis=1)\n",
    "y_tree_test = test_tree_dataset['attack_category']"
   ]
  },
  {
   "cell_type": "code",
   "execution_count": 3,
   "metadata": {},
   "outputs": [],
   "source": [
    "def train_model(model, X, y):\n",
    "    skf = StratifiedKFold(n_splits=5)\n",
    "\n",
    "    accuracy_scores = []\n",
    "    precision_scores = []\n",
    "    recall_scores = []\n",
    "    f1_scores = []\n",
    "\n",
    "    for train_index, test_index in skf.split(X, y):\n",
    "        X_train, y_train = X.iloc[train_index], y.iloc[train_index]\n",
    "        X_test, y_test = X.iloc[test_index], y.iloc[test_index]\n",
    "\n",
    "        model.fit(X_train, y_train)\n",
    "\n",
    "        pred = model.predict(X_test)\n",
    "        accuracy = accuracy_score(y_test, pred)\n",
    "        precision = precision_score(y_test, pred, average='weighted')\n",
    "        recall = recall_score(y_test, pred, average='weighted') \n",
    "        f1 = f1_score(y_test, pred, average='weighted') \n",
    "\n",
    "        accuracy_scores.append(accuracy)\n",
    "        precision_scores.append(precision)\n",
    "        recall_scores.append(recall)\n",
    "        f1_scores.append(f1)\n",
    "\n",
    "    # print('{0} Accuracy: {1: .5f} Precision: {2: .5f} Recall: {3: .5f} F1_Score: {4: .5f}'.format(\n",
    "    #     model.__class__.__name__, \n",
    "    #     np.mean(accuracy_scores),\n",
    "    #     np.mean(precision_scores),\n",
    "    #     np.mean(recall_scores),\n",
    "    #     np.mean(f1_scores)))\n",
    "    \n",
    "    return -np.mean(f1_scores)"
   ]
  },
  {
   "cell_type": "code",
   "execution_count": 4,
   "metadata": {},
   "outputs": [],
   "source": [
    "def evaluate(model, X_train, y_train, X_test, y_test):\n",
    "    \n",
    "    model.fit(X_train, y_train)\n",
    "    \n",
    "    y_pred = model.predict(X_test)\n",
    "    \n",
    "    accuracy = accuracy_score(y_test, y_pred)\n",
    "    precision = precision_score(y_test, y_pred, average='weighted')\n",
    "    recall = recall_score(y_test, y_pred, average='weighted')\n",
    "    f1 = f1_score(y_test, y_pred, average='weighted')\n",
    "    \n",
    "    print(\"Model: \", model.__class__.__name__)\n",
    "    print(\"Accuracy: \", accuracy)\n",
    "    print(\"Precision: \", precision)\n",
    "    print(\"Recall: \", recall)\n",
    "    print(\"F1 Score: \", f1)\n",
    "    print(\"####################################\")\n",
    "    \n",
    "    # report = classification_report(y_test, y_pred)\n",
    "    # print(\"Classification Report:\\n\", report)\n",
    "    \n",
    "    return -f1"
   ]
  },
  {
   "cell_type": "markdown",
   "metadata": {},
   "source": [
    "<h3> Model for Neural Network without PCA or Tree </h3>"
   ]
  },
  {
   "cell_type": "code",
   "execution_count": 5,
   "metadata": {},
   "outputs": [],
   "source": [
    "num_classes = 5\n",
    "tf.random.set_seed(42)\n",
    "nn_model = tf.keras.Sequential([\n",
    "    tf.keras.layers.Dense(units=64, activation='relu', input_shape=(X_train.shape[1:]), \n",
    "                          kernel_regularizer=regularizers.L1L2(l1=1e-5, l2=1e-4), \n",
    "                          bias_regularizer=regularizers.L2(1e-4),\n",
    "                          activity_regularizer=regularizers.L2(1e-5)),\n",
    "    tf.keras.layers.Dropout(0.42),\n",
    "    tf.keras.layers.Dense(units=128, activation='relu', \n",
    "                          kernel_regularizer=regularizers.L1L2(l1=1e-5, l2=1e-4), \n",
    "                          bias_regularizer=regularizers.L2(1e-4),\n",
    "                          activity_regularizer=regularizers.L2(1e-5)),\n",
    "    tf.keras.layers.Dropout(0.42),\n",
    "    tf.keras.layers.Dense(units=512, activation='relu', \n",
    "                          kernel_regularizer=regularizers.L1L2(l1=1e-5, l2=1e-4), \n",
    "                          bias_regularizer=regularizers.L2(1e-4),\n",
    "                          activity_regularizer=regularizers.L2(1e-5)),\n",
    "    tf.keras.layers.Dropout(0.42),\n",
    "    tf.keras.layers.Dense(units=128, activation='relu', \n",
    "                          kernel_regularizer=regularizers.L1L2(l1=1e-5, l2=1e-4), \n",
    "                          bias_regularizer=regularizers.L2(1e-4),\n",
    "                          activity_regularizer=regularizers.L2(1e-5)),\n",
    "    tf.keras.layers.Dropout(0.42),\n",
    "    tf.keras.layers.Dense(units=num_classes, activation='softmax'),  # Change to softmax for multiclass\n",
    "])\n"
   ]
  },
  {
   "cell_type": "code",
   "execution_count": 6,
   "metadata": {},
   "outputs": [],
   "source": [
    "def f1_metric(y_true, y_pred):\n",
    "    y_pred_labels = tf.argmax(y_pred, axis=1)\n",
    "    f1_partial = partial(f1_score, average='macro')\n",
    "    f1 = tf.py_function(f1_partial, (y_true, y_pred_labels), tf.float32)\n",
    "    return f1\n",
    "\n",
    "# Compile the model with Adam optimizer and F1 metric\n",
    "nn_model.compile(optimizer=Adam(learning_rate=0.002),\n",
    "                      loss=tf.keras.losses.SparseCategoricalCrossentropy(from_logits=True),\n",
    "                      metrics=[f1_metric])\n"
   ]
  },
  {
   "cell_type": "code",
   "execution_count": 7,
   "metadata": {},
   "outputs": [
    {
     "name": "stdout",
     "output_type": "stream",
     "text": [
      "Model: \"sequential\"\n",
      "_________________________________________________________________\n",
      " Layer (type)                Output Shape              Param #   \n",
      "=================================================================\n",
      " dense (Dense)               (None, 64)                2944      \n",
      "                                                                 \n",
      " dropout (Dropout)           (None, 64)                0         \n",
      "                                                                 \n",
      " dense_1 (Dense)             (None, 128)               8320      \n",
      "                                                                 \n",
      " dropout_1 (Dropout)         (None, 128)               0         \n",
      "                                                                 \n",
      " dense_2 (Dense)             (None, 512)               66048     \n",
      "                                                                 \n",
      " dropout_2 (Dropout)         (None, 512)               0         \n",
      "                                                                 \n",
      " dense_3 (Dense)             (None, 128)               65664     \n",
      "                                                                 \n",
      " dropout_3 (Dropout)         (None, 128)               0         \n",
      "                                                                 \n",
      " dense_4 (Dense)             (None, 5)                 645       \n",
      "                                                                 \n",
      "=================================================================\n",
      "Total params: 143,621\n",
      "Trainable params: 143,621\n",
      "Non-trainable params: 0\n",
      "_________________________________________________________________\n"
     ]
    }
   ],
   "source": [
    "nn_model.summary()"
   ]
  },
  {
   "cell_type": "code",
   "execution_count": 8,
   "metadata": {},
   "outputs": [
    {
     "name": "stdout",
     "output_type": "stream",
     "text": [
      "Epoch 1/10\n",
      "3937/3937 [==============================] - 74s 18ms/step - loss: 0.1763 - f1_metric: 0.8920 - val_loss: 1.4352 - val_f1_metric: 0.5857\n",
      "Epoch 2/10\n",
      "3937/3937 [==============================] - 62s 16ms/step - loss: 0.1154 - f1_metric: 0.9136 - val_loss: 1.4923 - val_f1_metric: 0.5813\n",
      "Epoch 3/10\n",
      "3937/3937 [==============================] - 55s 14ms/step - loss: 0.1109 - f1_metric: 0.9184 - val_loss: 2.0599 - val_f1_metric: 0.5730\n",
      "Epoch 4/10\n",
      "3937/3937 [==============================] - 65s 16ms/step - loss: 0.1109 - f1_metric: 0.9166 - val_loss: 1.6647 - val_f1_metric: 0.6201\n",
      "Epoch 5/10\n",
      "3937/3937 [==============================] - 64s 16ms/step - loss: 0.1105 - f1_metric: 0.9195 - val_loss: 1.2842 - val_f1_metric: 0.6253\n",
      "Epoch 6/10\n",
      "3937/3937 [==============================] - 65s 16ms/step - loss: 0.1116 - f1_metric: 0.9187 - val_loss: 1.7899 - val_f1_metric: 0.5629\n",
      "Epoch 7/10\n",
      "3937/3937 [==============================] - 59s 15ms/step - loss: 0.1091 - f1_metric: 0.9215 - val_loss: 1.9558 - val_f1_metric: 0.5666\n",
      "Epoch 8/10\n",
      "3937/3937 [==============================] - 60s 15ms/step - loss: 0.1111 - f1_metric: 0.9196 - val_loss: 1.8373 - val_f1_metric: 0.5666\n",
      "Epoch 9/10\n",
      "3937/3937 [==============================] - 61s 15ms/step - loss: 0.1088 - f1_metric: 0.9174 - val_loss: 1.8345 - val_f1_metric: 0.6073\n",
      "Epoch 10/10\n",
      "3937/3937 [==============================] - 62s 16ms/step - loss: 0.1106 - f1_metric: 0.9204 - val_loss: 2.3627 - val_f1_metric: 0.5629\n"
     ]
    }
   ],
   "source": [
    "nn_history = nn_model.fit(X_train, y_train, validation_data=(X_test, y_test), epochs=10, verbose=1)"
   ]
  },
  {
   "cell_type": "code",
   "execution_count": 9,
   "metadata": {},
   "outputs": [
    {
     "data": {
      "image/png": "[encoded data removed]",
      "text/plain": [
       "<Figure size 432x288 with 1 Axes>"
      ]
     },
     "metadata": {
      "needs_background": "light"
     },
     "output_type": "display_data"
    }
   ],
   "source": [
    "plt.plot(nn_history.history['loss'], label='loss')\n",
    "plt.plot(nn_history.history['val_loss'], label='val_loss')\n",
    "plt.xlabel('Epoch')\n",
    "plt.ylabel('SCCE Loss')\n",
    "plt.legend()\n",
    "plt.grid(True)"
   ]
  },
  {
   "cell_type": "code",
   "execution_count": 10,
   "metadata": {},
   "outputs": [
    {
     "data": {
      "image/png": "[encoded data removed]",
      "text/plain": [
       "<Figure size 432x288 with 1 Axes>"
      ]
     },
     "metadata": {
      "needs_background": "light"
     },
     "output_type": "display_data"
    }
   ],
   "source": [
    "plt.plot(nn_history.history['f1_metric'], label='f1_metric')\n",
    "plt.plot(nn_history.history['val_f1_metric'], label='val_f1_metric')\n",
    "plt.xlabel('Epoch')\n",
    "plt.ylabel('F1 metric')\n",
    "plt.legend()\n",
    "plt.grid(True)"
   ]
  },
  {
   "cell_type": "code",
   "execution_count": 31,
   "metadata": {},
   "outputs": [
    {
     "name": "stdout",
     "output_type": "stream",
     "text": [
      "705/705 [==============================] - 2s 3ms/step\n",
      "Accuracy for default dataset: 0.752971965933286\n",
      "Precision for default dataset: 0.6871058416976646\n",
      "Recall for default dataset: 0.752971965933286\n",
      "F1 Score for default dataset: 0.7025396740939114\n"
     ]
    }
   ],
   "source": [
    "y_pred_probs = nn_model.predict(X_test)\n",
    "y_pred = np.argmax(y_pred_probs, axis=-1)\n",
    "\n",
    "\n",
    "accuracy = accuracy_score(y_test, y_pred)\n",
    "precision = precision_score(y_test, y_pred, average='weighted')\n",
    "recall = recall_score(y_test, y_pred, average='weighted')\n",
    "f1 = f1_score(y_test, y_pred, average='weighted')\n",
    "\n",
    "# Print the metrics\n",
    "print(\"Accuracy for default dataset:\", accuracy)\n",
    "print(\"Precision for default dataset:\", precision)\n",
    "print(\"Recall for default dataset:\", recall)\n",
    "print(\"F1 Score for default dataset:\", f1)"
   ]
  },
  {
   "cell_type": "code",
   "execution_count": 32,
   "metadata": {},
   "outputs": [
    {
     "data": {
      "image/png": "[encoded data removed]",
      "text/plain": [
       "<Figure size 576x432 with 1 Axes>"
      ]
     },
     "metadata": {
      "needs_background": "light"
     },
     "output_type": "display_data"
    }
   ],
   "source": [
    "cm = confusion_matrix(y_test, y_pred)\n",
    "\n",
    "# Displaying the Confusion Matrix\n",
    "plt.figure(figsize=(8, 6))\n",
    "sns.heatmap(cm, annot=True, fmt=\"d\", cmap=\"Blues\", cbar=False,\n",
    "            xticklabels=np.unique(y_test),\n",
    "            yticklabels=np.unique(y_test))\n",
    "plt.title(\"Confusion Matrix for default dataset\")\n",
    "plt.xlabel(\"Predicted\")\n",
    "plt.ylabel(\"Actual\")\n",
    "plt.show()"
   ]
  },
  {
   "cell_type": "markdown",
   "metadata": {},
   "source": [
    "<h3> Neural networks with PCA </h3>"
   ]
  },
  {
   "cell_type": "code",
   "execution_count": 15,
   "metadata": {},
   "outputs": [],
   "source": [
    "tf.random.set_seed(42)\n",
    "nn_model_pca = tf.keras.Sequential([\n",
    "    tf.keras.layers.Dense(units=64, activation='relu', input_shape=(X_pca_train.shape[1:]), \n",
    "                          kernel_regularizer=regularizers.L1L2(l1=1e-5, l2=1e-4), \n",
    "                          bias_regularizer=regularizers.L2(1e-4),\n",
    "                          activity_regularizer=regularizers.L2(1e-5)),\n",
    "    tf.keras.layers.Dropout(0.42),\n",
    "    tf.keras.layers.Dense(units=128, activation='relu', \n",
    "                          kernel_regularizer=regularizers.L1L2(l1=1e-5, l2=1e-4), \n",
    "                          bias_regularizer=regularizers.L2(1e-4),\n",
    "                          activity_regularizer=regularizers.L2(1e-5)),\n",
    "    tf.keras.layers.Dropout(0.42),\n",
    "    tf.keras.layers.Dense(units=512, activation='relu', \n",
    "                          kernel_regularizer=regularizers.L1L2(l1=1e-5, l2=1e-4), \n",
    "                          bias_regularizer=regularizers.L2(1e-4),\n",
    "                          activity_regularizer=regularizers.L2(1e-5)),\n",
    "    tf.keras.layers.Dropout(0.42),\n",
    "    tf.keras.layers.Dense(units=128, activation='relu', \n",
    "                          kernel_regularizer=regularizers.L1L2(l1=1e-5, l2=1e-4), \n",
    "                          bias_regularizer=regularizers.L2(1e-4),\n",
    "                          activity_regularizer=regularizers.L2(1e-5)),\n",
    "    tf.keras.layers.Dropout(0.42),\n",
    "    tf.keras.layers.Dense(units=num_classes, activation='softmax'),  # Change to softmax for multiclass\n",
    "])"
   ]
  },
  {
   "cell_type": "code",
   "execution_count": 16,
   "metadata": {},
   "outputs": [],
   "source": [
    "# Compile the model with Adam optimizer and F1 metric\n",
    "nn_model_pca.compile(optimizer=Adam(learning_rate=0.002),\n",
    "                      loss=tf.keras.losses.SparseCategoricalCrossentropy(from_logits=True),\n",
    "                      metrics=[f1_metric])\n"
   ]
  },
  {
   "cell_type": "code",
   "execution_count": 17,
   "metadata": {},
   "outputs": [
    {
     "name": "stdout",
     "output_type": "stream",
     "text": [
      "Epoch 1/10\n",
      "3937/3937 [==============================] - 63s 15ms/step - loss: 0.1981 - f1_metric: 0.8834 - val_loss: 1.3942 - val_f1_metric: 0.5646\n",
      "Epoch 2/10\n",
      "3937/3937 [==============================] - 57s 14ms/step - loss: 0.1412 - f1_metric: 0.8970 - val_loss: 1.3360 - val_f1_metric: 0.5816\n",
      "Epoch 3/10\n",
      "3937/3937 [==============================] - 55s 14ms/step - loss: 0.1381 - f1_metric: 0.9039 - val_loss: 2.0195 - val_f1_metric: 0.5875\n",
      "Epoch 4/10\n",
      "3937/3937 [==============================] - 55s 14ms/step - loss: 0.1342 - f1_metric: 0.9032 - val_loss: 1.6139 - val_f1_metric: 0.5796\n",
      "Epoch 5/10\n",
      "3937/3937 [==============================] - 58s 15ms/step - loss: 0.1319 - f1_metric: 0.9085 - val_loss: 1.3507 - val_f1_metric: 0.6379\n",
      "Epoch 6/10\n",
      "3937/3937 [==============================] - 63s 16ms/step - loss: 0.1316 - f1_metric: 0.9062 - val_loss: 1.5531 - val_f1_metric: 0.5857\n",
      "Epoch 7/10\n",
      "3937/3937 [==============================] - 55s 14ms/step - loss: 0.1319 - f1_metric: 0.9073 - val_loss: 1.4319 - val_f1_metric: 0.5791\n",
      "Epoch 8/10\n",
      "3937/3937 [==============================] - 61s 15ms/step - loss: 0.1319 - f1_metric: 0.9075 - val_loss: 1.5643 - val_f1_metric: 0.5855\n",
      "Epoch 9/10\n",
      "3937/3937 [==============================] - 63s 16ms/step - loss: 0.1306 - f1_metric: 0.9071 - val_loss: 1.5058 - val_f1_metric: 0.5752\n",
      "Epoch 10/10\n",
      "3937/3937 [==============================] - 66s 17ms/step - loss: 0.1292 - f1_metric: 0.9099 - val_loss: 1.8834 - val_f1_metric: 0.5898\n"
     ]
    }
   ],
   "source": [
    "nn_history_pca = nn_model_pca.fit(X_pca_train, y_pca_train, validation_data=(X_pca_test, y_pca_test), epochs=10, verbose=1)"
   ]
  },
  {
   "cell_type": "code",
   "execution_count": 18,
   "metadata": {},
   "outputs": [
    {
     "data": {
      "image/png": "[encoded data removed]",
      "text/plain": [
       "<Figure size 432x288 with 1 Axes>"
      ]
     },
     "metadata": {
      "needs_background": "light"
     },
     "output_type": "display_data"
    }
   ],
   "source": [
    "plt.plot(nn_history_pca.history['loss'], label='loss')\n",
    "plt.plot(nn_history_pca.history['val_loss'], label='val_loss')\n",
    "plt.xlabel('Epoch')\n",
    "plt.ylabel('SCCE Loss')\n",
    "plt.legend()\n",
    "plt.grid(True)"
   ]
  },
  {
   "cell_type": "code",
   "execution_count": 19,
   "metadata": {},
   "outputs": [
    {
     "data": {
      "image/png": "[encoded data removed]",
      "text/plain": [
       "<Figure size 432x288 with 1 Axes>"
      ]
     },
     "metadata": {
      "needs_background": "light"
     },
     "output_type": "display_data"
    }
   ],
   "source": [
    "plt.plot(nn_history_pca.history['f1_metric'], label='f1_metric')\n",
    "plt.plot(nn_history_pca.history['val_f1_metric'], label='val_f1_metric')\n",
    "plt.xlabel('Epoch')\n",
    "plt.ylabel('F1 metric')\n",
    "plt.legend()\n",
    "plt.grid(True)"
   ]
  },
  {
   "cell_type": "code",
   "execution_count": 20,
   "metadata": {},
   "outputs": [
    {
     "name": "stdout",
     "output_type": "stream",
     "text": [
      "705/705 [==============================] - 3s 4ms/step\n",
      "Accuracy for PCA: 0.7682753726046841\n",
      "Precision for PCA: 0.7703920336467498\n",
      "Recall for PCA: 0.7682753726046841\n",
      "F1 Score for PCA: 0.7179178428619197\n"
     ]
    }
   ],
   "source": [
    "y_pred_probs_pca = nn_model_pca.predict(X_pca_test)\n",
    "y_pred_pca = np.argmax(y_pred_probs_pca, axis=-1)\n",
    "\n",
    "\n",
    "accuracy_pca = accuracy_score(y_pca_test, y_pred_pca)\n",
    "precision_pca = precision_score(y_pca_test, y_pred_pca, average='weighted')\n",
    "recall_pca = recall_score(y_pca_test, y_pred_pca, average='weighted')\n",
    "f1_pca = f1_score(y_pca_test, y_pred_pca, average='weighted')\n",
    "\n",
    "# Print the metrics\n",
    "print(\"Accuracy for PCA:\", accuracy_pca)\n",
    "print(\"Precision for PCA:\", precision_pca)\n",
    "print(\"Recall for PCA:\", recall_pca)\n",
    "print(\"F1 Score for PCA:\", f1_pca)"
   ]
  },
  {
   "cell_type": "code",
   "execution_count": 28,
   "metadata": {},
   "outputs": [
    {
     "data": {
      "image/png": "[encoded data removed]",
      "text/plain": [
       "<Figure size 576x432 with 1 Axes>"
      ]
     },
     "metadata": {
      "needs_background": "light"
     },
     "output_type": "display_data"
    }
   ],
   "source": [
    "cm_pca = confusion_matrix(y_pca_test, y_pred_pca)\n",
    "\n",
    "# Displaying the Confusion Matrix\n",
    "plt.figure(figsize=(8, 6))\n",
    "sns.heatmap(cm_pca, annot=True, fmt=\"d\", cmap=\"Blues\", cbar=False,\n",
    "            xticklabels=np.unique(y_pca_test),\n",
    "            yticklabels=np.unique(y_pca_test))\n",
    "plt.title(\"Confusion Matrix for PCA\")\n",
    "plt.xlabel(\"Predicted\")\n",
    "plt.ylabel(\"Actual\")\n",
    "plt.show()"
   ]
  },
  {
   "cell_type": "markdown",
   "metadata": {},
   "source": [
    "<h3> Neural networks for tree </h3>"
   ]
  },
  {
   "cell_type": "code",
   "execution_count": 21,
   "metadata": {},
   "outputs": [],
   "source": [
    "nn_model_tree = tf.keras.Sequential([\n",
    "    tf.keras.layers.Dense(units=64, activation='relu', input_shape=(X_tree_train.shape[1:]), \n",
    "                          kernel_regularizer=regularizers.L1L2(l1=1e-5, l2=1e-4), \n",
    "                          bias_regularizer=regularizers.L2(1e-4),\n",
    "                          activity_regularizer=regularizers.L2(1e-5)),\n",
    "    tf.keras.layers.Dropout(0.42),\n",
    "    tf.keras.layers.Dense(units=128, activation='relu', \n",
    "                          kernel_regularizer=regularizers.L1L2(l1=1e-5, l2=1e-4), \n",
    "                          bias_regularizer=regularizers.L2(1e-4),\n",
    "                          activity_regularizer=regularizers.L2(1e-5)),\n",
    "    tf.keras.layers.Dropout(0.42),\n",
    "    tf.keras.layers.Dense(units=512, activation='relu', \n",
    "                          kernel_regularizer=regularizers.L1L2(l1=1e-5, l2=1e-4), \n",
    "                          bias_regularizer=regularizers.L2(1e-4),\n",
    "                          activity_regularizer=regularizers.L2(1e-5)),\n",
    "    tf.keras.layers.Dropout(0.42),\n",
    "    tf.keras.layers.Dense(units=128, activation='relu', \n",
    "                          kernel_regularizer=regularizers.L1L2(l1=1e-5, l2=1e-4), \n",
    "                          bias_regularizer=regularizers.L2(1e-4),\n",
    "                          activity_regularizer=regularizers.L2(1e-5)),\n",
    "    tf.keras.layers.Dropout(0.42),\n",
    "    tf.keras.layers.Dense(units=num_classes, activation='softmax'),  # Change to softmax for multiclass\n",
    "])"
   ]
  },
  {
   "cell_type": "code",
   "execution_count": 22,
   "metadata": {},
   "outputs": [],
   "source": [
    "\n",
    "\n",
    "# Compile the model with Adam optimizer and F1 metric\n",
    "nn_model_tree.compile(optimizer=Adam(learning_rate=0.002),\n",
    "                      loss=tf.keras.losses.SparseCategoricalCrossentropy(from_logits=True),\n",
    "                      metrics=[f1_metric])\n",
    "\n"
   ]
  },
  {
   "cell_type": "code",
   "execution_count": 23,
   "metadata": {},
   "outputs": [
    {
     "name": "stdout",
     "output_type": "stream",
     "text": [
      "Epoch 1/10\n",
      "3937/3937 [==============================] - 75s 18ms/step - loss: 0.1763 - f1_metric: 0.8915 - val_loss: 1.4026 - val_f1_metric: 0.5863\n",
      "Epoch 2/10\n",
      "3937/3937 [==============================] - 72s 18ms/step - loss: 0.1167 - f1_metric: 0.9112 - val_loss: 1.5274 - val_f1_metric: 0.5842\n",
      "Epoch 3/10\n",
      "3937/3937 [==============================] - 72s 18ms/step - loss: 0.1150 - f1_metric: 0.9204 - val_loss: 1.9725 - val_f1_metric: 0.5633\n",
      "Epoch 4/10\n",
      "3937/3937 [==============================] - 72s 18ms/step - loss: 0.1106 - f1_metric: 0.9193 - val_loss: 1.7263 - val_f1_metric: 0.5870\n",
      "Epoch 5/10\n",
      "3937/3937 [==============================] - 71s 18ms/step - loss: 0.1077 - f1_metric: 0.9269 - val_loss: 1.3491 - val_f1_metric: 0.5915\n",
      "Epoch 6/10\n",
      "3937/3937 [==============================] - 71s 18ms/step - loss: 0.1074 - f1_metric: 0.9223 - val_loss: 1.7873 - val_f1_metric: 0.5848\n",
      "Epoch 7/10\n",
      "3937/3937 [==============================] - 67s 17ms/step - loss: 0.1067 - f1_metric: 0.9228 - val_loss: 1.8389 - val_f1_metric: 0.5730\n",
      "Epoch 8/10\n",
      "3937/3937 [==============================] - 72s 18ms/step - loss: 0.1054 - f1_metric: 0.9252 - val_loss: 1.6210 - val_f1_metric: 0.5707\n",
      "Epoch 9/10\n",
      "3937/3937 [==============================] - 72s 18ms/step - loss: 0.1050 - f1_metric: 0.9249 - val_loss: 1.6259 - val_f1_metric: 0.6158\n",
      "Epoch 10/10\n",
      "3937/3937 [==============================] - 72s 18ms/step - loss: 0.1074 - f1_metric: 0.9261 - val_loss: 1.8069 - val_f1_metric: 0.5798\n"
     ]
    }
   ],
   "source": [
    "nn_history_tree = nn_model_tree.fit(X_tree_train, y_tree_train, validation_data=(X_tree_test, y_tree_test), epochs=10, verbose=1)"
   ]
  },
  {
   "cell_type": "code",
   "execution_count": 24,
   "metadata": {},
   "outputs": [
    {
     "name": "stdout",
     "output_type": "stream",
     "text": [
      "705/705 [==============================] - 3s 3ms/step\n",
      "Accuracy for tree: 0.7574964513839603\n",
      "Precision for tree: 0.8036015029020531\n",
      "Recall for tree: 0.7574964513839603\n",
      "F1 Score for tree: 0.7157200124883416\n"
     ]
    }
   ],
   "source": [
    "y_pred_probs_tree = nn_model_tree.predict(X_tree_test)\n",
    "y_pred_tree = np.argmax(y_pred_probs_tree, axis=-1)\n",
    "\n",
    "\n",
    "accuracy_tree = accuracy_score(y_tree_test, y_pred_tree)\n",
    "precision_tree = precision_score(y_tree_test, y_pred_tree, average='weighted')\n",
    "recall_tree = recall_score(y_tree_test, y_pred_tree, average='weighted')\n",
    "f1_tree= f1_score(y_tree_test, y_pred_tree, average='weighted')\n",
    "\n",
    "# Print the metrics\n",
    "print(\"Accuracy for tree:\", accuracy_tree)\n",
    "print(\"Precision for tree:\", precision_tree)\n",
    "print(\"Recall for tree:\", recall_tree)\n",
    "print(\"F1 Score for tree:\", f1_tree)"
   ]
  },
  {
   "cell_type": "code",
   "execution_count": 30,
   "metadata": {},
   "outputs": [
    {
     "data": {
      "image/png": "[encoded data removed]",
      "text/plain": [
       "<Figure size 576x432 with 1 Axes>"
      ]
     },
     "metadata": {
      "needs_background": "light"
     },
     "output_type": "display_data"
    }
   ],
   "source": [
    "cm_tree = confusion_matrix(y_tree_test, y_pred_tree)\n",
    "\n",
    "# Displaying the Confusion Matrix\n",
    "plt.figure(figsize=(8, 6))\n",
    "sns.heatmap(cm_tree, annot=True, fmt=\"d\", cmap=\"Blues\", cbar=False,\n",
    "            xticklabels=np.unique(y_tree_test),\n",
    "            yticklabels=np.unique(y_tree_test))\n",
    "plt.title(\"Confusion Matrix for tree\")\n",
    "plt.xlabel(\"Predicted\")\n",
    "plt.ylabel(\"Actual\")\n",
    "plt.show()"
   ]
  }
 ],
 "metadata": {
  "kernelspec": {
   "display_name": "Python 3",
   "language": "python",
   "name": "python3"
  },
  "language_info": {
   "codemirror_mode": {
    "name": "ipython",
    "version": 3
   },
   "file_extension": ".py",
   "mimetype": "text/x-python",
   "name": "python",
   "nbconvert_exporter": "python",
   "pygments_lexer": "ipython3",
   "version": "3.10.2"
  }
 },
 "nbformat": 4,
 "nbformat_minor": 2
}
