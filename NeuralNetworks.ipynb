{
 "cells": [
  {
   "cell_type": "code",
   "execution_count": 2,
   "metadata": {},
   "outputs": [],
   "source": [
    "import warnings\n",
    "warnings.filterwarnings(\"ignore\")\n",
    "\n",
    "import pandas as pd\n",
    "import matplotlib.pyplot as plt\n",
    "import seaborn as sns\n",
    "import numpy as np\n",
    "import plotly.express as px\n",
    "\n",
    "from sklearn.model_selection import StratifiedKFold\n",
    "from sklearn.metrics import classification_report\n",
    "from sklearn.metrics import accuracy_score, precision_score, recall_score, f1_score \n",
    "from sklearn.ensemble import AdaBoostClassifier\n",
    "import tensorflow as tf\n",
    "from sklearn.linear_model import LogisticRegression\n",
    "from sklearn.ensemble import RandomForestClassifier\n",
    "from sklearn.ensemble import StackingClassifier\n"
   ]
  },
  {
   "cell_type": "code",
   "execution_count": null,
   "metadata": {},
   "outputs": [],
   "source": []
  },
  {
   "cell_type": "code",
   "execution_count": null,
   "metadata": {},
   "outputs": [],
   "source": [
    "model = tf.keras.Sequential([\n",
    "    tf.keras.layers.Dense(units=64, activation='relu', input_shape=(x_train.shape[1:]), \n",
    "                          kernel_regularizer=regularizers.L1L2(l1=1e-5, l2=1e-4), \n",
    "                          bias_regularizer=regularizers.L2(1e-4),\n",
    "                          activity_regularizer=regularizers.L2(1e-5)),\n",
    "    tf.keras.layers.Dropout(0.4),\n",
    "    tf.keras.layers.Dense(units=128, activation='relu', \n",
    "                          kernel_regularizer=regularizers.L1L2(l1=1e-5, l2=1e-4), \n",
    "                          bias_regularizer=regularizers.L2(1e-4),\n",
    "                          activity_regularizer=regularizers.L2(1e-5)),\n",
    "    tf.keras.layers.Dropout(0.4),\n",
    "    tf.keras.layers.Dense(units=512, activation='relu', \n",
    "                          kernel_regularizer=regularizers.L1L2(l1=1e-5, l2=1e-4), \n",
    "                          bias_regularizer=regularizers.L2(1e-4),\n",
    "                          activity_regularizer=regularizers.L2(1e-5)),\n",
    "    tf.keras.layers.Dropout(0.4),\n",
    "    tf.keras.layers.Dense(units=128, activation='relu', \n",
    "                          kernel_regularizer=regularizers.L1L2(l1=1e-5, l2=1e-4), \n",
    "                          bias_regularizer=regularizers.L2(1e-4),\n",
    "                          activity_regularizer=regularizers.L2(1e-5)),\n",
    "    tf.keras.layers.Dropout(0.4),\n",
    "    tf.keras.layers.Dense(units=1, activation='sigmoid'),\n",
    "])"
   ]
  }
 ],
 "metadata": {
  "kernelspec": {
   "display_name": "Python 3",
   "language": "python",
   "name": "python3"
  },
  "language_info": {
   "codemirror_mode": {
    "name": "ipython",
    "version": 3
   },
   "file_extension": ".py",
   "mimetype": "text/x-python",
   "name": "python",
   "nbconvert_exporter": "python",
   "pygments_lexer": "ipython3",
   "version": "3.10.2"
  }
 },
 "nbformat": 4,
 "nbformat_minor": 2
}
