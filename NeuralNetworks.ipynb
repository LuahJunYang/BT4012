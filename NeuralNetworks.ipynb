{
 "cells": [
  {
   "cell_type": "code",
   "execution_count": 2,
   "metadata": {},
   "outputs": [],
   "source": [
    "import warnings\n",
    "warnings.filterwarnings(\"ignore\")\n",
    "\n",
    "import pandas as pd\n",
    "import matplotlib.pyplot as plt\n",
    "import seaborn as sns\n",
    "import numpy as np\n",
    "import plotly.express as px\n",
    "\n",
    "from sklearn.model_selection import StratifiedKFold\n",
    "from sklearn.metrics import accuracy_score, precision_score, recall_score, f1_score \n",
    "import tensorflow as tf\n",
    "from tensorflow.keras import regularizers\n",
    "\n"
   ]
  },
  {
   "cell_type": "markdown",
   "metadata": {},
   "source": [
    "<h3>Prepare Datasets</h3>"
   ]
  },
  {
   "cell_type": "code",
   "execution_count": 3,
   "metadata": {},
   "outputs": [],
   "source": [
    "train_dataset = pd.read_csv('Datasets/train_dataset.csv')\n",
    "test_dataset = pd.read_csv('Datasets/test_dataset.csv')\n",
    "\n",
    "train_pca_dataset = pd.read_csv('Datasets/PCA_train_data.csv')\n",
    "test_pca_dataset = pd.read_csv('Datasets/PCA_test_data.csv')\n",
    "\n",
    "train_tree_dataset = pd.read_csv('Datasets/Tree_train_data.csv')\n",
    "test_tree_dataset = pd.read_csv('Datasets/Tree_test_data.csv')\n",
    "\n",
    "\n",
    "X_train = train_dataset.drop(['is_attack' , 'attack_category' , 'attack'], axis=1)\n",
    "y_train = train_dataset['attack_category']\n",
    "\n",
    "X_test = test_dataset.drop(['is_attack' , 'attack_category' , 'attack'], axis=1)\n",
    "y_test = test_dataset['attack_category']\n",
    "\n",
    "from tensorflow.keras.utils import to_categorical\n",
    "\n",
    "# Convert integer labels to one-hot encoded format\n",
    "y_train_one_hot = to_categorical(y_train, num_classes=5)\n",
    "y_test_one_hot = to_categorical(y_test, num_classes=5)\n",
    "\n",
    "X_pca_train = train_pca_dataset.drop(['is_attack' , 'attack_category' , 'attack'], axis=1)\n",
    "y_pca_train = train_pca_dataset['attack_category']\n",
    "\n",
    "X_pca_test = test_pca_dataset.drop(['is_attack' , 'attack_category' , 'attack'], axis=1)\n",
    "y_pca_test = test_pca_dataset['attack_category']\n",
    "\n",
    "X_tree_train = train_tree_dataset.drop(['is_attack' , 'attack_category' , 'attack'], axis=1)\n",
    "y_tree_train = train_tree_dataset['attack_category']\n",
    "\n",
    "X_tree_test = test_tree_dataset.drop(['is_attack' , 'attack_category' , 'attack'], axis=1)\n",
    "y_tree_test = test_tree_dataset['attack_category']"
   ]
  },
  {
   "cell_type": "code",
   "execution_count": 4,
   "metadata": {},
   "outputs": [],
   "source": [
    "def train_model(model, X, y):\n",
    "    skf = StratifiedKFold(n_splits=5)\n",
    "\n",
    "    accuracy_scores = []\n",
    "    precision_scores = []\n",
    "    recall_scores = []\n",
    "    f1_scores = []\n",
    "\n",
    "    for train_index, test_index in skf.split(X, y):\n",
    "        X_train, y_train = X.iloc[train_index], y.iloc[train_index]\n",
    "        X_test, y_test = X.iloc[test_index], y.iloc[test_index]\n",
    "\n",
    "        model.fit(X_train, y_train)\n",
    "\n",
    "        pred = model.predict(X_test)\n",
    "        accuracy = accuracy_score(y_test, pred)\n",
    "        precision = precision_score(y_test, pred, average='weighted')\n",
    "        recall = recall_score(y_test, pred, average='weighted') \n",
    "        f1 = f1_score(y_test, pred, average='weighted') \n",
    "\n",
    "        accuracy_scores.append(accuracy)\n",
    "        precision_scores.append(precision)\n",
    "        recall_scores.append(recall)\n",
    "        f1_scores.append(f1)\n",
    "\n",
    "    # print('{0} Accuracy: {1: .5f} Precision: {2: .5f} Recall: {3: .5f} F1_Score: {4: .5f}'.format(\n",
    "    #     model.__class__.__name__, \n",
    "    #     np.mean(accuracy_scores),\n",
    "    #     np.mean(precision_scores),\n",
    "    #     np.mean(recall_scores),\n",
    "    #     np.mean(f1_scores)))\n",
    "    \n",
    "    return -np.mean(f1_scores)"
   ]
  },
  {
   "cell_type": "code",
   "execution_count": 5,
   "metadata": {},
   "outputs": [],
   "source": [
    "def evaluate(model, X_train, y_train, X_test, y_test):\n",
    "    \n",
    "    model.fit(X_train, y_train)\n",
    "    \n",
    "    y_pred = model.predict(X_test)\n",
    "    \n",
    "    accuracy = accuracy_score(y_test, y_pred)\n",
    "    precision = precision_score(y_test, y_pred, average='weighted')\n",
    "    recall = recall_score(y_test, y_pred, average='weighted')\n",
    "    f1 = f1_score(y_test, y_pred, average='weighted')\n",
    "    \n",
    "    print(\"Model: \", model.__class__.__name__)\n",
    "    print(\"Accuracy: \", accuracy)\n",
    "    print(\"Precision: \", precision)\n",
    "    print(\"Recall: \", recall)\n",
    "    print(\"F1 Score: \", f1)\n",
    "    print(\"####################################\")\n",
    "    \n",
    "    # report = classification_report(y_test, y_pred)\n",
    "    # print(\"Classification Report:\\n\", report)\n",
    "    \n",
    "    return -f1"
   ]
  },
  {
   "cell_type": "markdown",
   "metadata": {},
   "source": [
    "<h3> Model for Neural Network without PCA or Tree </h3>"
   ]
  },
  {
   "cell_type": "code",
   "execution_count": 7,
   "metadata": {},
   "outputs": [],
   "source": [
    "num_classes = 5\n",
    "tf.random.set_seed(42)\n",
    "nn_model = tf.keras.Sequential([\n",
    "    tf.keras.layers.Dense(units=64, activation='relu', input_shape=(X_train.shape[1:]), \n",
    "                          kernel_regularizer=regularizers.L1L2(l1=1e-5, l2=1e-4), \n",
    "                          bias_regularizer=regularizers.L2(1e-4),\n",
    "                          activity_regularizer=regularizers.L2(1e-5)),\n",
    "    tf.keras.layers.Dropout(0.4),\n",
    "    tf.keras.layers.Dense(units=128, activation='relu', \n",
    "                          kernel_regularizer=regularizers.L1L2(l1=1e-5, l2=1e-4), \n",
    "                          bias_regularizer=regularizers.L2(1e-4),\n",
    "                          activity_regularizer=regularizers.L2(1e-5)),\n",
    "    tf.keras.layers.Dropout(0.4),\n",
    "    tf.keras.layers.Dense(units=512, activation='relu', \n",
    "                          kernel_regularizer=regularizers.L1L2(l1=1e-5, l2=1e-4), \n",
    "                          bias_regularizer=regularizers.L2(1e-4),\n",
    "                          activity_regularizer=regularizers.L2(1e-5)),\n",
    "    tf.keras.layers.Dropout(0.4),\n",
    "    tf.keras.layers.Dense(units=128, activation='relu', \n",
    "                          kernel_regularizer=regularizers.L1L2(l1=1e-5, l2=1e-4), \n",
    "                          bias_regularizer=regularizers.L2(1e-4),\n",
    "                          activity_regularizer=regularizers.L2(1e-5)),\n",
    "    tf.keras.layers.Dropout(0.4),\n",
    "    tf.keras.layers.Dense(units=num_classes, activation='softmax'),  # Change to softmax for multiclass\n",
    "])\n"
   ]
  },
  {
   "cell_type": "code",
   "execution_count": 8,
   "metadata": {},
   "outputs": [],
   "source": [
    "nn_model.compile(optimizer='adam', \n",
    "              loss=tf.keras.losses.SparseCategoricalCrossentropy(from_logits=True), \n",
    "              metrics=['accuracy'])\n"
   ]
  },
  {
   "cell_type": "code",
   "execution_count": 9,
   "metadata": {},
   "outputs": [
    {
     "name": "stdout",
     "output_type": "stream",
     "text": [
      "Model: \"sequential_1\"\n",
      "_________________________________________________________________\n",
      " Layer (type)                Output Shape              Param #   \n",
      "=================================================================\n",
      " dense_5 (Dense)             (None, 64)                2944      \n",
      "                                                                 \n",
      " dropout_4 (Dropout)         (None, 64)                0         \n",
      "                                                                 \n",
      " dense_6 (Dense)             (None, 128)               8320      \n",
      "                                                                 \n",
      " dropout_5 (Dropout)         (None, 128)               0         \n",
      "                                                                 \n",
      " dense_7 (Dense)             (None, 512)               66048     \n",
      "                                                                 \n",
      " dropout_6 (Dropout)         (None, 512)               0         \n",
      "                                                                 \n",
      " dense_8 (Dense)             (None, 128)               65664     \n",
      "                                                                 \n",
      " dropout_7 (Dropout)         (None, 128)               0         \n",
      "                                                                 \n",
      " dense_9 (Dense)             (None, 5)                 645       \n",
      "                                                                 \n",
      "=================================================================\n",
      "Total params: 143,621\n",
      "Trainable params: 143,621\n",
      "Non-trainable params: 0\n",
      "_________________________________________________________________\n"
     ]
    }
   ],
   "source": [
    "nn_model.summary()"
   ]
  },
  {
   "cell_type": "code",
   "execution_count": 10,
   "metadata": {},
   "outputs": [
    {
     "name": "stdout",
     "output_type": "stream",
     "text": [
      "Epoch 1/10\n",
      "3937/3937 [==============================] - 24s 6ms/step - loss: 0.1842 - accuracy: 0.9644 - val_loss: 1.4185 - val_accuracy: 0.7568\n",
      "Epoch 2/10\n",
      "3937/3937 [==============================] - 23s 6ms/step - loss: 0.1008 - accuracy: 0.9777 - val_loss: 1.3536 - val_accuracy: 0.7606\n",
      "Epoch 3/10\n",
      "3937/3937 [==============================] - 22s 6ms/step - loss: 0.0898 - accuracy: 0.9801 - val_loss: 1.7527 - val_accuracy: 0.7508\n",
      "Epoch 4/10\n",
      "3937/3937 [==============================] - 23s 6ms/step - loss: 0.0840 - accuracy: 0.9818 - val_loss: 1.4603 - val_accuracy: 0.7712\n",
      "Epoch 5/10\n",
      "3937/3937 [==============================] - 22s 6ms/step - loss: 0.0828 - accuracy: 0.9823 - val_loss: 1.3630 - val_accuracy: 0.7529\n",
      "Epoch 6/10\n",
      "3937/3937 [==============================] - 22s 6ms/step - loss: 0.0824 - accuracy: 0.9824 - val_loss: 1.6303 - val_accuracy: 0.7363\n",
      "Epoch 7/10\n",
      "3937/3937 [==============================] - 22s 6ms/step - loss: 0.0802 - accuracy: 0.9835 - val_loss: 1.6632 - val_accuracy: 0.7660\n",
      "Epoch 8/10\n",
      "3937/3937 [==============================] - 22s 6ms/step - loss: 0.0793 - accuracy: 0.9837 - val_loss: 1.4877 - val_accuracy: 0.7595\n",
      "Epoch 9/10\n",
      "3937/3937 [==============================] - 19s 5ms/step - loss: 0.0785 - accuracy: 0.9838 - val_loss: 1.4761 - val_accuracy: 0.7725\n",
      "Epoch 10/10\n",
      "3937/3937 [==============================] - 20s 5ms/step - loss: 0.0786 - accuracy: 0.9839 - val_loss: 1.7523 - val_accuracy: 0.7455\n"
     ]
    }
   ],
   "source": [
    "nn_history = nn_model.fit(X_train, y_train, validation_data=(X_test, y_test), epochs=10, verbose=1)"
   ]
  },
  {
   "cell_type": "code",
   "execution_count": 11,
   "metadata": {},
   "outputs": [
    {
     "data": {
      "image/png": "[encoded data removed]",
      "text/plain": [
       "<Figure size 432x288 with 1 Axes>"
      ]
     },
     "metadata": {
      "needs_background": "light"
     },
     "output_type": "display_data"
    }
   ],
   "source": [
    "plt.plot(nn_history.history['loss'], label='loss')\n",
    "plt.plot(nn_history.history['val_loss'], label='val_loss')\n",
    "plt.xlabel('Epoch')\n",
    "plt.ylabel('SCCE Loss')\n",
    "plt.legend()\n",
    "plt.grid(True)"
   ]
  },
  {
   "cell_type": "code",
   "execution_count": 12,
   "metadata": {},
   "outputs": [
    {
     "data": {
      "image/png": "[encoded data removed]",
      "text/plain": [
       "<Figure size 432x288 with 1 Axes>"
      ]
     },
     "metadata": {
      "needs_background": "light"
     },
     "output_type": "display_data"
    }
   ],
   "source": [
    "plt.plot(nn_history.history['accuracy'], label='accuracy')\n",
    "plt.plot(nn_history.history['val_accuracy'], label='val_accuracy')\n",
    "plt.xlabel('Epoch')\n",
    "plt.ylabel('Accuracy')\n",
    "plt.legend()\n",
    "plt.grid(True)"
   ]
  },
  {
   "cell_type": "code",
   "execution_count": 13,
   "metadata": {},
   "outputs": [
    {
     "name": "stdout",
     "output_type": "stream",
     "text": [
      "705/705 [==============================] - 1s 2ms/step\n",
      "Accuracy for no PCA and no tree: 0.7454755145493258\n",
      "Precision for no PCA and no tree: 0.7682613607563826\n",
      "Recall for no PCA and no tree: 0.7454755145493258\n",
      "F1 Score for no PCA and no tree: 0.6957058930362443\n"
     ]
    }
   ],
   "source": [
    "y_pred_probs = nn_model.predict(X_test)\n",
    "y_pred = np.argmax(y_pred_probs, axis=-1)\n",
    "\n",
    "\n",
    "accuracy = accuracy_score(y_test, y_pred)\n",
    "precision = precision_score(y_test, y_pred, average='weighted')\n",
    "recall = recall_score(y_test, y_pred, average='weighted')\n",
    "f1 = f1_score(y_test, y_pred, average='weighted')\n",
    "\n",
    "# Print the metrics\n",
    "print(\"Accuracy for no PCA and no tree:\", accuracy)\n",
    "print(\"Precision for no PCA and no tree:\", precision)\n",
    "print(\"Recall for no PCA and no tree:\", recall)\n",
    "print(\"F1 Score for no PCA and no tree:\", f1)"
   ]
  },
  {
   "cell_type": "markdown",
   "metadata": {},
   "source": [
    "<h3> Neural networks with PCA </h3>"
   ]
  },
  {
   "cell_type": "code",
   "execution_count": 14,
   "metadata": {},
   "outputs": [],
   "source": [
    "tf.random.set_seed(42)\n",
    "nn_model_pca = tf.keras.Sequential([\n",
    "    tf.keras.layers.Dense(units=64, activation='relu', input_shape=(X_pca_train.shape[1:]), \n",
    "                          kernel_regularizer=regularizers.L1L2(l1=1e-5, l2=1e-4), \n",
    "                          bias_regularizer=regularizers.L2(1e-4),\n",
    "                          activity_regularizer=regularizers.L2(1e-5)),\n",
    "    tf.keras.layers.Dropout(0.4),\n",
    "    tf.keras.layers.Dense(units=128, activation='relu', \n",
    "                          kernel_regularizer=regularizers.L1L2(l1=1e-5, l2=1e-4), \n",
    "                          bias_regularizer=regularizers.L2(1e-4),\n",
    "                          activity_regularizer=regularizers.L2(1e-5)),\n",
    "    tf.keras.layers.Dropout(0.4),\n",
    "    tf.keras.layers.Dense(units=512, activation='relu', \n",
    "                          kernel_regularizer=regularizers.L1L2(l1=1e-5, l2=1e-4), \n",
    "                          bias_regularizer=regularizers.L2(1e-4),\n",
    "                          activity_regularizer=regularizers.L2(1e-5)),\n",
    "    tf.keras.layers.Dropout(0.4),\n",
    "    tf.keras.layers.Dense(units=128, activation='relu', \n",
    "                          kernel_regularizer=regularizers.L1L2(l1=1e-5, l2=1e-4), \n",
    "                          bias_regularizer=regularizers.L2(1e-4),\n",
    "                          activity_regularizer=regularizers.L2(1e-5)),\n",
    "    tf.keras.layers.Dropout(0.4),\n",
    "    tf.keras.layers.Dense(units=num_classes, activation='softmax'),  # Change to softmax for multiclass\n",
    "])"
   ]
  },
  {
   "cell_type": "code",
   "execution_count": 15,
   "metadata": {},
   "outputs": [],
   "source": [
    "nn_model_pca.compile(optimizer='adam', \n",
    "              loss=tf.keras.losses.SparseCategoricalCrossentropy(from_logits=True), \n",
    "              metrics=['accuracy'])"
   ]
  },
  {
   "cell_type": "code",
   "execution_count": 16,
   "metadata": {},
   "outputs": [
    {
     "name": "stdout",
     "output_type": "stream",
     "text": [
      "Epoch 1/10\n",
      "3937/3937 [==============================] - 22s 5ms/step - loss: 0.2091 - accuracy: 0.9573 - val_loss: 1.4144 - val_accuracy: 0.7449\n",
      "Epoch 2/10\n",
      "3937/3937 [==============================] - 21s 5ms/step - loss: 0.1247 - accuracy: 0.9707 - val_loss: 1.2184 - val_accuracy: 0.7602\n",
      "Epoch 3/10\n",
      "3937/3937 [==============================] - 22s 5ms/step - loss: 0.1117 - accuracy: 0.9727 - val_loss: 1.5607 - val_accuracy: 0.7671\n",
      "Epoch 4/10\n",
      "3937/3937 [==============================] - 21s 5ms/step - loss: 0.1082 - accuracy: 0.9738 - val_loss: 1.5493 - val_accuracy: 0.7659\n",
      "Epoch 5/10\n",
      "3937/3937 [==============================] - 20s 5ms/step - loss: 0.1067 - accuracy: 0.9738 - val_loss: 1.0958 - val_accuracy: 0.7792\n",
      "Epoch 6/10\n",
      "3937/3937 [==============================] - 20s 5ms/step - loss: 0.1038 - accuracy: 0.9740 - val_loss: 1.7204 - val_accuracy: 0.7574\n",
      "Epoch 7/10\n",
      "3937/3937 [==============================] - 20s 5ms/step - loss: 0.1039 - accuracy: 0.9742 - val_loss: 1.4008 - val_accuracy: 0.7635\n",
      "Epoch 8/10\n",
      "3937/3937 [==============================] - 20s 5ms/step - loss: 0.1034 - accuracy: 0.9742 - val_loss: 1.2590 - val_accuracy: 0.7670\n",
      "Epoch 9/10\n",
      "3937/3937 [==============================] - 20s 5ms/step - loss: 0.1019 - accuracy: 0.9751 - val_loss: 1.4489 - val_accuracy: 0.7822\n",
      "Epoch 10/10\n",
      "3937/3937 [==============================] - 20s 5ms/step - loss: 0.1004 - accuracy: 0.9758 - val_loss: 1.7135 - val_accuracy: 0.7524\n"
     ]
    }
   ],
   "source": [
    "nn_history_pca = nn_model_pca.fit(X_pca_train, y_pca_train, validation_data=(X_pca_test, y_pca_test), epochs=10, verbose=1)"
   ]
  },
  {
   "cell_type": "code",
   "execution_count": 17,
   "metadata": {},
   "outputs": [
    {
     "data": {
      "image/png": "[encoded data removed]",
      "text/plain": [
       "<Figure size 432x288 with 1 Axes>"
      ]
     },
     "metadata": {
      "needs_background": "light"
     },
     "output_type": "display_data"
    }
   ],
   "source": [
    "plt.plot(nn_history_pca.history['loss'], label='loss')\n",
    "plt.plot(nn_history_pca.history['val_loss'], label='val_loss')\n",
    "plt.xlabel('Epoch')\n",
    "plt.ylabel('SCCE Loss')\n",
    "plt.legend()\n",
    "plt.grid(True)"
   ]
  },
  {
   "cell_type": "code",
   "execution_count": 18,
   "metadata": {},
   "outputs": [
    {
     "data": {
      "image/png": "[encoded data removed]",
      "text/plain": [
       "<Figure size 432x288 with 1 Axes>"
      ]
     },
     "metadata": {
      "needs_background": "light"
     },
     "output_type": "display_data"
    }
   ],
   "source": [
    "plt.plot(nn_history.history['accuracy'], label='accuracy')\n",
    "plt.plot(nn_history.history['val_accuracy'], label='val_accuracy')\n",
    "plt.xlabel('Epoch')\n",
    "plt.ylabel('Accuracy')\n",
    "plt.legend()\n",
    "plt.grid(True)"
   ]
  },
  {
   "cell_type": "code",
   "execution_count": 19,
   "metadata": {},
   "outputs": [
    {
     "name": "stdout",
     "output_type": "stream",
     "text": [
      "705/705 [==============================] - 1s 910us/step\n",
      "Accuracy for PCA: 0.7523509581263307\n",
      "Precision for PCA: 0.6871563444508342\n",
      "Recall for PCA: 0.7523509581263307\n",
      "F1 Score for PCA: 0.7029391239293264\n"
     ]
    }
   ],
   "source": [
    "y_pred_probs_pca = nn_model_pca.predict(X_pca_test)\n",
    "y_pred_pca = np.argmax(y_pred_probs_pca, axis=-1)\n",
    "\n",
    "\n",
    "accuracy_pca = accuracy_score(y_pca_test, y_pred_pca)\n",
    "precision_pca = precision_score(y_pca_test, y_pred_pca, average='weighted')\n",
    "recall_pca = recall_score(y_pca_test, y_pred_pca, average='weighted')\n",
    "f1_pca = f1_score(y_pca_test, y_pred_pca, average='weighted')\n",
    "\n",
    "# Print the metrics\n",
    "print(\"Accuracy for PCA:\", accuracy_pca)\n",
    "print(\"Precision for PCA:\", precision_pca)\n",
    "print(\"Recall for PCA:\", recall_pca)\n",
    "print(\"F1 Score for PCA:\", f1_pca)"
   ]
  },
  {
   "cell_type": "markdown",
   "metadata": {},
   "source": [
    "<h3> Neural networks for tree </h3>"
   ]
  },
  {
   "cell_type": "code",
   "execution_count": 20,
   "metadata": {},
   "outputs": [],
   "source": [
    "nn_model_tree = tf.keras.Sequential([\n",
    "    tf.keras.layers.Dense(units=64, activation='relu', input_shape=(X_tree_train.shape[1:]), \n",
    "                          kernel_regularizer=regularizers.L1L2(l1=1e-5, l2=1e-4), \n",
    "                          bias_regularizer=regularizers.L2(1e-4),\n",
    "                          activity_regularizer=regularizers.L2(1e-5)),\n",
    "    tf.keras.layers.Dropout(0.4),\n",
    "    tf.keras.layers.Dense(units=128, activation='relu', \n",
    "                          kernel_regularizer=regularizers.L1L2(l1=1e-5, l2=1e-4), \n",
    "                          bias_regularizer=regularizers.L2(1e-4),\n",
    "                          activity_regularizer=regularizers.L2(1e-5)),\n",
    "    tf.keras.layers.Dropout(0.4),\n",
    "    tf.keras.layers.Dense(units=512, activation='relu', \n",
    "                          kernel_regularizer=regularizers.L1L2(l1=1e-5, l2=1e-4), \n",
    "                          bias_regularizer=regularizers.L2(1e-4),\n",
    "                          activity_regularizer=regularizers.L2(1e-5)),\n",
    "    tf.keras.layers.Dropout(0.4),\n",
    "    tf.keras.layers.Dense(units=128, activation='relu', \n",
    "                          kernel_regularizer=regularizers.L1L2(l1=1e-5, l2=1e-4), \n",
    "                          bias_regularizer=regularizers.L2(1e-4),\n",
    "                          activity_regularizer=regularizers.L2(1e-5)),\n",
    "    tf.keras.layers.Dropout(0.4),\n",
    "    tf.keras.layers.Dense(units=num_classes, activation='softmax'),  # Change to softmax for multiclass\n",
    "])"
   ]
  },
  {
   "cell_type": "code",
   "execution_count": 21,
   "metadata": {},
   "outputs": [],
   "source": [
    "nn_model_tree.compile(optimizer='adam', \n",
    "              loss=tf.keras.losses.SparseCategoricalCrossentropy(from_logits=True), \n",
    "              metrics=['accuracy'])"
   ]
  },
  {
   "cell_type": "code",
   "execution_count": 22,
   "metadata": {},
   "outputs": [
    {
     "name": "stdout",
     "output_type": "stream",
     "text": [
      "Epoch 1/10\n",
      "3937/3937 [==============================] - 21s 5ms/step - loss: 0.1886 - accuracy: 0.9623 - val_loss: 1.3407 - val_accuracy: 0.7734\n",
      "Epoch 2/10\n",
      "3937/3937 [==============================] - 21s 5ms/step - loss: 0.1018 - accuracy: 0.9767 - val_loss: 1.4322 - val_accuracy: 0.7643\n",
      "Epoch 3/10\n",
      "3937/3937 [==============================] - 20s 5ms/step - loss: 0.0893 - accuracy: 0.9795 - val_loss: 1.6787 - val_accuracy: 0.7722\n",
      "Epoch 4/10\n",
      "3937/3937 [==============================] - 20s 5ms/step - loss: 0.0855 - accuracy: 0.9809 - val_loss: 1.5073 - val_accuracy: 0.7630\n",
      "Epoch 5/10\n",
      "3937/3937 [==============================] - 20s 5ms/step - loss: 0.0817 - accuracy: 0.9821 - val_loss: 1.1883 - val_accuracy: 0.7619\n",
      "Epoch 6/10\n",
      "3937/3937 [==============================] - 21s 5ms/step - loss: 0.0815 - accuracy: 0.9823 - val_loss: 1.5881 - val_accuracy: 0.7740\n",
      "Epoch 7/10\n",
      "3937/3937 [==============================] - 20s 5ms/step - loss: 0.0814 - accuracy: 0.9824 - val_loss: 1.5852 - val_accuracy: 0.7808\n",
      "Epoch 8/10\n",
      "3937/3937 [==============================] - 20s 5ms/step - loss: 0.0801 - accuracy: 0.9830 - val_loss: 1.5324 - val_accuracy: 0.7693\n",
      "Epoch 9/10\n",
      "3937/3937 [==============================] - 21s 5ms/step - loss: 0.0787 - accuracy: 0.9839 - val_loss: 1.3643 - val_accuracy: 0.7766\n",
      "Epoch 10/10\n",
      "3937/3937 [==============================] - 20s 5ms/step - loss: 0.0792 - accuracy: 0.9840 - val_loss: 1.8173 - val_accuracy: 0.7571\n"
     ]
    }
   ],
   "source": [
    "nn_history_tree = nn_model_tree.fit(X_tree_train, y_tree_train, validation_data=(X_tree_test, y_tree_test), epochs=10, verbose=1)"
   ]
  },
  {
   "cell_type": "code",
   "execution_count": 23,
   "metadata": {},
   "outputs": [
    {
     "name": "stdout",
     "output_type": "stream",
     "text": [
      "705/705 [==============================] - 1s 945us/step\n",
      "Accuracy for PCA: 0.757097232079489\n",
      "Precision for PCA: 0.7863813705665348\n",
      "Recall for PCA: 0.757097232079489\n",
      "F1 Score for PCA: 0.7084096654943077\n"
     ]
    }
   ],
   "source": [
    "y_pred_probs_tree = nn_model_tree.predict(X_tree_test)\n",
    "y_pred_tree = np.argmax(y_pred_probs_tree, axis=-1)\n",
    "\n",
    "\n",
    "accuracy_tree = accuracy_score(y_tree_test, y_pred_tree)\n",
    "precision_tree = precision_score(y_tree_test, y_pred_tree, average='weighted')\n",
    "recall_tree = recall_score(y_tree_test, y_pred_tree, average='weighted')\n",
    "f1_tree= f1_score(y_tree_test, y_pred_tree, average='weighted')\n",
    "\n",
    "# Print the metrics\n",
    "print(\"Accuracy for PCA:\", accuracy_tree)\n",
    "print(\"Precision for PCA:\", precision_tree)\n",
    "print(\"Recall for PCA:\", recall_tree)\n",
    "print(\"F1 Score for PCA:\", f1_tree)"
   ]
  }
 ],
 "metadata": {
  "kernelspec": {
   "display_name": "Python 3",
   "language": "python",
   "name": "python3"
  },
  "language_info": {
   "codemirror_mode": {
    "name": "ipython",
    "version": 3
   },
   "file_extension": ".py",
   "mimetype": "text/x-python",
   "name": "python",
   "nbconvert_exporter": "python",
   "pygments_lexer": "ipython3",
   "version": "3.10.2"
  }
 },
 "nbformat": 4,
 "nbformat_minor": 2
}
