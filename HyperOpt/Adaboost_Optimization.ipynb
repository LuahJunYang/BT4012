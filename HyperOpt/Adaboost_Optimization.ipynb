{
 "cells": [
  {
   "cell_type": "code",
   "execution_count": 11,
   "metadata": {},
   "outputs": [],
   "source": [
    "import warnings\n",
    "warnings.filterwarnings(\"ignore\")\n",
    "\n",
    "import pandas as pd\n",
    "import numpy as np\n",
    "\n",
    "from sklearn.model_selection import StratifiedKFold\n",
    "from sklearn.metrics import accuracy_score, precision_score, recall_score, f1_score \n",
    "from sklearn.linear_model import LogisticRegression\n",
    "from sklearn.ensemble import AdaBoostClassifier"
   ]
  },
  {
   "cell_type": "markdown",
   "metadata": {},
   "source": [
    "<h3>Prepare Dataset</h3>"
   ]
  },
  {
   "cell_type": "code",
   "execution_count": 12,
   "metadata": {},
   "outputs": [],
   "source": [
    "train_dataset = pd.read_csv('../Datasets/train_dataset.csv')\n",
    "test_dataset = pd.read_csv('../Datasets/test_dataset.csv')"
   ]
  },
  {
   "cell_type": "code",
   "execution_count": 13,
   "metadata": {},
   "outputs": [],
   "source": [
    "X_train = train_dataset.drop(['is_attack' , 'attack_category' , 'attack'], axis=1)\n",
    "y_train = train_dataset['attack_category']\n",
    "\n",
    "X_test = test_dataset.drop(['is_attack' , 'attack_category' , 'attack'], axis=1)\n",
    "y_test = test_dataset['attack_category']"
   ]
  },
  {
   "cell_type": "code",
   "execution_count": 2,
   "metadata": {},
   "outputs": [],
   "source": [
    "train_pca_dataset = pd.read_csv('../Datasets/PCA_train_data.csv')\n",
    "test_pca_dataset = pd.read_csv('../Datasets/PCA_test_data.csv')"
   ]
  },
  {
   "cell_type": "code",
   "execution_count": 3,
   "metadata": {},
   "outputs": [],
   "source": [
    "X_pca_train = train_pca_dataset.drop(['is_attack' , 'attack_category' , 'attack'], axis=1)\n",
    "y_pca_train = train_pca_dataset['attack_category']\n",
    "\n",
    "X_pca_test = test_pca_dataset.drop(['is_attack' , 'attack_category' , 'attack'], axis=1)\n",
    "y_pca_test = test_pca_dataset['attack_category']"
   ]
  },
  {
   "cell_type": "code",
   "execution_count": 20,
   "metadata": {},
   "outputs": [],
   "source": [
    "train_tree_dataset = pd.read_csv('../Datasets/Tree_train_data.csv')\n",
    "test_tree_dataset = pd.read_csv('../Datasets/Tree_test_data.csv')"
   ]
  },
  {
   "cell_type": "code",
   "execution_count": 21,
   "metadata": {},
   "outputs": [],
   "source": [
    "X_tree_train = train_tree_dataset.drop(['is_attack' , 'attack_category' , 'attack'], axis=1)\n",
    "y_tree_train = train_tree_dataset['attack_category']\n",
    "\n",
    "X_tree_test = test_tree_dataset.drop(['is_attack' , 'attack_category' , 'attack'], axis=1)\n",
    "y_tree_test = test_tree_dataset['attack_category']"
   ]
  },
  {
   "cell_type": "code",
   "execution_count": 14,
   "metadata": {},
   "outputs": [],
   "source": [
    "def train_model(model, X, y):\n",
    "    skf = StratifiedKFold(n_splits=5)\n",
    "\n",
    "    accuracy_scores = []\n",
    "    precision_scores = []\n",
    "    recall_scores = []\n",
    "    f1_scores = []\n",
    "\n",
    "    for train_index, test_index in skf.split(X, y):\n",
    "        X_train, y_train = X.iloc[train_index], y.iloc[train_index]\n",
    "        X_test, y_test = X.iloc[test_index], y.iloc[test_index]\n",
    "\n",
    "        model.fit(X_train, y_train)\n",
    "\n",
    "        pred = model.predict(X_test)\n",
    "        accuracy = accuracy_score(y_test, pred)\n",
    "        precision = precision_score(y_test, pred, average='weighted')\n",
    "        recall = recall_score(y_test, pred, average='weighted') \n",
    "        f1 = f1_score(y_test, pred, average='weighted') \n",
    "\n",
    "        accuracy_scores.append(accuracy)\n",
    "        precision_scores.append(precision)\n",
    "        recall_scores.append(recall)\n",
    "        f1_scores.append(f1)\n",
    "\n",
    "    # print('{0} Accuracy: {1: .5f} Precision: {2: .5f} Recall: {3: .5f} F1_Score: {4: .5f}'.format(\n",
    "    #     model.__class__.__name__, \n",
    "    #     np.mean(accuracy_scores),\n",
    "    #     np.mean(precision_scores),\n",
    "    #     np.mean(recall_scores),\n",
    "    #     np.mean(f1_scores)))\n",
    "    \n",
    "    return -np.mean(f1_scores)"
   ]
  },
  {
   "cell_type": "code",
   "execution_count": 15,
   "metadata": {},
   "outputs": [],
   "source": [
    "def evaluate(model, X_train, y_train, X_test, y_test):\n",
    "    \n",
    "    model.fit(X_train, y_train)\n",
    "    \n",
    "    y_pred = model.predict(X_test)\n",
    "    \n",
    "    accuracy = accuracy_score(y_test, y_pred)\n",
    "    precision = precision_score(y_test, y_pred, average='weighted')\n",
    "    recall = recall_score(y_test, y_pred, average='weighted')\n",
    "    f1 = f1_score(y_test, y_pred, average='weighted')\n",
    "    \n",
    "    print(\"Model: \", model.__class__.__name__)\n",
    "    print(\"Accuracy: \", accuracy)\n",
    "    print(\"Precision: \", precision)\n",
    "    print(\"Recall: \", recall)\n",
    "    print(\"F1 Score: \", f1)\n",
    "    print(\"####################################\")\n",
    "    \n",
    "    # report = classification_report(y_test, y_pred)\n",
    "    # print(\"Classification Report:\\n\", report)\n",
    "    \n",
    "    return -f1"
   ]
  },
  {
   "cell_type": "code",
   "execution_count": 6,
   "metadata": {},
   "outputs": [],
   "source": [
    "from hyperopt import hp \n",
    "from hyperopt import fmin, tpe, Trials \n",
    "\n",
    "def best_params(objective_func, search_space):\n",
    "    trials = Trials() \n",
    "\n",
    "    best = fmin(fn=objective_func,\n",
    "                space=search_space,\n",
    "                algo=tpe.suggest,\n",
    "                max_evals=20,\n",
    "                trials=trials,\n",
    "                rstate=np.random.default_rng(seed=30))\n",
    "\n",
    "    print('Beat Parameters:', best)\n",
    "    return best "
   ]
  },
  {
   "cell_type": "markdown",
   "metadata": {},
   "source": [
    "<h3>Original Dataset</h3>"
   ]
  },
  {
   "cell_type": "code",
   "execution_count": 17,
   "metadata": {},
   "outputs": [
    {
     "name": "stdout",
     "output_type": "stream",
     "text": [
      "100%|██████████| 20/20 [22:11<00:00, 66.56s/trial, best loss: -0.9513468978164757] \n",
      "Beat Parameters: {'algorithm': 0, 'learning_rate': 0.8166140904941112, 'n_estimators': 200.0}\n"
     ]
    }
   ],
   "source": [
    "adaboost_search_space = {\n",
    "    'algorithm': hp.choice('algorithm', ['SAMME', 'SAMME.R']),\n",
    "    'learning_rate': hp.uniform('learning_rate', 0.1, 1.0),\n",
    "    'n_estimators': hp.quniform('n_estimators', 50, 300, 50)\n",
    "}\n",
    "\n",
    "def objective_func(search_space):\n",
    "    adaboost_clf = AdaBoostClassifier(\n",
    "                            algorithm=search_space['algorithm'],\n",
    "                            learning_rate=search_space['learning_rate'],\n",
    "                            n_estimators=int(search_space['n_estimators']),\n",
    "                            random_state=0)\n",
    "    \n",
    "    return train_model(adaboost_clf, X_train, y_train)\n",
    "\n",
    "adaboost_best = best_params(objective_func, adaboost_search_space)"
   ]
  },
  {
   "cell_type": "code",
   "execution_count": 18,
   "metadata": {},
   "outputs": [
    {
     "name": "stdout",
     "output_type": "stream",
     "text": [
      "Model:  AdaBoostClassifier\n",
      "Accuracy:  0.7675212916962385\n",
      "Precision:  0.7822387092378328\n",
      "Recall:  0.7675212916962385\n",
      "F1 Score:  0.7189770856784043\n",
      "####################################\n"
     ]
    },
    {
     "data": {
      "text/plain": [
       "-0.7189770856784043"
      ]
     },
     "execution_count": 18,
     "metadata": {},
     "output_type": "execute_result"
    }
   ],
   "source": [
    "adaboost_best = {'algorithm': 0, 'learning_rate': 0.8166140904941112, 'n_estimators': 200.0}\n",
    "adaboost_clf = AdaBoostClassifier(algorithm='SAMME',\n",
    "                            learning_rate=adaboost_best['learning_rate'],\n",
    "                            n_estimators=int(adaboost_best['n_estimators']),\n",
    "                            random_state=0)\n",
    "evaluate(adaboost_clf,  X_train, y_train, X_test, y_test)\n",
    "    "
   ]
  },
  {
   "cell_type": "markdown",
   "metadata": {},
   "source": [
    "<h3>PCA Dataset</h3>"
   ]
  },
  {
   "cell_type": "code",
   "execution_count": 8,
   "metadata": {},
   "outputs": [
    {
     "name": "stdout",
     "output_type": "stream",
     "text": [
      "  0%|          | 0/20 [00:00<?, ?trial/s, best loss=?]"
     ]
    },
    {
     "name": "stdout",
     "output_type": "stream",
     "text": [
      "100%|██████████| 20/20 [33:51<00:00, 101.59s/trial, best loss: -0.9220142395103217]\n",
      "Beat Parameters: {'algorithm': 0, 'learning_rate': 0.27407851601952515, 'n_estimators': 200.0}\n"
     ]
    }
   ],
   "source": [
    "adaboost_search_space = {\n",
    "    'algorithm': hp.choice('algorithm', ['SAMME', 'SAMME.R']),\n",
    "    'learning_rate': hp.uniform('learning_rate', 0.1, 1.0),\n",
    "    'n_estimators': hp.quniform('n_estimators', 50, 300, 50)\n",
    "}\n",
    "\n",
    "def objective_func(search_space):\n",
    "    adaboost_clf = AdaBoostClassifier(\n",
    "                            algorithm=search_space['algorithm'],\n",
    "                            learning_rate=search_space['learning_rate'],\n",
    "                            n_estimators=int(search_space['n_estimators']),\n",
    "                            random_state=0)\n",
    "    \n",
    "    return train_model(adaboost_clf, X_pca_train, y_pca_train)\n",
    "\n",
    "adaboost_best = best_params(objective_func, adaboost_search_space)"
   ]
  },
  {
   "cell_type": "code",
   "execution_count": 10,
   "metadata": {},
   "outputs": [
    {
     "name": "stdout",
     "output_type": "stream",
     "text": [
      "Model:  AdaBoostClassifier\n",
      "Accuracy:  0.7192601135557133\n",
      "Precision:  0.7525886095343133\n",
      "Recall:  0.7192601135557133\n",
      "F1 Score:  0.6703417892228876\n",
      "####################################\n"
     ]
    },
    {
     "data": {
      "text/plain": [
       "-0.6703417892228876"
      ]
     },
     "execution_count": 10,
     "metadata": {},
     "output_type": "execute_result"
    }
   ],
   "source": [
    "# pca best params \n",
    "adaboost_best = {'algorithm': 0, 'learning_rate': 0.27407851601952515, 'n_estimators': 200.0}\n",
    "adaboost_clf = AdaBoostClassifier(algorithm='SAMME',\n",
    "                            learning_rate=adaboost_best['learning_rate'],\n",
    "                            n_estimators=int(adaboost_best['n_estimators']),\n",
    "                            random_state=0)\n",
    "evaluate(adaboost_clf,  X_pca_train, y_pca_train, X_pca_test, y_pca_test)"
   ]
  },
  {
   "cell_type": "markdown",
   "metadata": {},
   "source": [
    "<h3>Tree Dataset</h3>"
   ]
  },
  {
   "cell_type": "code",
   "execution_count": 22,
   "metadata": {},
   "outputs": [
    {
     "name": "stdout",
     "output_type": "stream",
     "text": [
      "  0%|          | 0/20 [00:00<?, ?trial/s, best loss=?]"
     ]
    },
    {
     "name": "stdout",
     "output_type": "stream",
     "text": [
      "100%|██████████| 20/20 [16:52<00:00, 50.64s/trial, best loss: -0.9513468978164757]\n",
      "Beat Parameters: {'algorithm': 0, 'learning_rate': 0.8166140904941112, 'n_estimators': 200.0}\n"
     ]
    }
   ],
   "source": [
    "adaboost_search_space = {\n",
    "    'algorithm': hp.choice('algorithm', ['SAMME', 'SAMME.R']),\n",
    "    'learning_rate': hp.uniform('learning_rate', 0.1, 1.0),\n",
    "    'n_estimators': hp.quniform('n_estimators', 50, 300, 50)\n",
    "}\n",
    "\n",
    "def objective_func(search_space):\n",
    "    adaboost_clf = AdaBoostClassifier(\n",
    "                            algorithm=search_space['algorithm'],\n",
    "                            learning_rate=search_space['learning_rate'],\n",
    "                            n_estimators=int(search_space['n_estimators']),\n",
    "                            random_state=0)\n",
    "    \n",
    "    return train_model(adaboost_clf, X_tree_train, y_tree_train)\n",
    "\n",
    "adaboost_best = best_params(objective_func, adaboost_search_space)"
   ]
  },
  {
   "cell_type": "code",
   "execution_count": 23,
   "metadata": {},
   "outputs": [
    {
     "name": "stdout",
     "output_type": "stream",
     "text": [
      "Model:  AdaBoostClassifier\n",
      "Accuracy:  0.7675212916962385\n",
      "Precision:  0.7822387092378328\n",
      "Recall:  0.7675212916962385\n",
      "F1 Score:  0.7189770856784043\n",
      "####################################\n"
     ]
    },
    {
     "data": {
      "text/plain": [
       "-0.7189770856784043"
      ]
     },
     "execution_count": 23,
     "metadata": {},
     "output_type": "execute_result"
    }
   ],
   "source": [
    "adaboost_best = {'algorithm': 0, 'learning_rate': 0.8166140904941112, 'n_estimators': 200.0}\n",
    "adaboost_clf = AdaBoostClassifier(algorithm='SAMME',\n",
    "                            learning_rate=adaboost_best['learning_rate'],\n",
    "                            n_estimators=int(adaboost_best['n_estimators']),\n",
    "                            random_state=0)\n",
    "evaluate(adaboost_clf,  X_tree_train, y_tree_train, X_tree_test, y_tree_test)"
   ]
  }
 ],
 "metadata": {
  "kernelspec": {
   "display_name": "base",
   "language": "python",
   "name": "python3"
  },
  "language_info": {
   "codemirror_mode": {
    "name": "ipython",
    "version": 3
   },
   "file_extension": ".py",
   "mimetype": "text/x-python",
   "name": "python",
   "nbconvert_exporter": "python",
   "pygments_lexer": "ipython3",
   "version": "3.10.8"
  }
 },
 "nbformat": 4,
 "nbformat_minor": 2
}
