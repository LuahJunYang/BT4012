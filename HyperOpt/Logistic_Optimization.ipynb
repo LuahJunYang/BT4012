{
 "cells": [
  {
   "cell_type": "code",
   "execution_count": 3,
   "metadata": {},
   "outputs": [],
   "source": [
    "import warnings\n",
    "warnings.filterwarnings(\"ignore\")\n",
    "\n",
    "import pandas as pd\n",
    "import numpy as np\n",
    "\n",
    "from sklearn.model_selection import StratifiedKFold\n",
    "from sklearn.metrics import accuracy_score, precision_score, recall_score, f1_score \n",
    "from sklearn.linear_model import LogisticRegression"
   ]
  },
  {
   "cell_type": "code",
   "execution_count": 4,
   "metadata": {},
   "outputs": [],
   "source": [
    "train_dataset = pd.read_csv('../Datasets/train_dataset.csv')\n",
    "test_dataset = pd.read_csv('../Datasets/test_dataset.csv')"
   ]
  },
  {
   "cell_type": "code",
   "execution_count": 5,
   "metadata": {},
   "outputs": [],
   "source": [
    "X_train = train_dataset.drop(['is_attack' , 'attack_category' , 'attack'], axis=1)\n",
    "y_train = train_dataset['attack_category']\n",
    "\n",
    "X_test = test_dataset.drop(['is_attack' , 'attack_category' , 'attack'], axis=1)\n",
    "y_test = test_dataset['attack_category']"
   ]
  },
  {
   "cell_type": "code",
   "execution_count": 2,
   "metadata": {},
   "outputs": [],
   "source": [
    "train_pca_dataset = pd.read_csv('../Datasets/PCA_train_data.csv')\n",
    "test_pca_dataset = pd.read_csv('../Datasets/PCA_test_data.csv')"
   ]
  },
  {
   "cell_type": "code",
   "execution_count": 3,
   "metadata": {},
   "outputs": [],
   "source": [
    "X_pca_train = train_pca_dataset.drop(['is_attack' , 'attack_category' , 'attack'], axis=1)\n",
    "y_pca_train = train_pca_dataset['attack_category']\n",
    "\n",
    "X_pca_test = test_pca_dataset.drop(['is_attack' , 'attack_category' , 'attack'], axis=1)\n",
    "y_pca_test = test_pca_dataset['attack_category']"
   ]
  },
  {
   "cell_type": "code",
   "execution_count": 6,
   "metadata": {},
   "outputs": [],
   "source": [
    "train_tree_dataset = pd.read_csv('../Datasets/Tree_train_data.csv')\n",
    "test_tree_dataset = pd.read_csv('../Datasets/Tree_test_data.csv')"
   ]
  },
  {
   "cell_type": "code",
   "execution_count": 7,
   "metadata": {},
   "outputs": [],
   "source": [
    "X_tree_train = train_tree_dataset.drop(['is_attack' , 'attack_category' , 'attack'], axis=1)\n",
    "y_tree_train = train_tree_dataset['attack_category']\n",
    "\n",
    "X_tree_test = test_tree_dataset.drop(['is_attack' , 'attack_category' , 'attack'], axis=1)\n",
    "y_tree_test = test_tree_dataset['attack_category']"
   ]
  },
  {
   "cell_type": "code",
   "execution_count": 9,
   "metadata": {},
   "outputs": [],
   "source": [
    "def train_model(model, X, y):\n",
    "    skf = StratifiedKFold(n_splits=5)\n",
    "\n",
    "    accuracy_scores = []\n",
    "    precision_scores = []\n",
    "    recall_scores = []\n",
    "    f1_scores = []\n",
    "\n",
    "    for train_index, test_index in skf.split(X, y):\n",
    "        X_train, y_train = X.iloc[train_index], y.iloc[train_index]\n",
    "        X_test, y_test = X.iloc[test_index], y.iloc[test_index]\n",
    "\n",
    "        model.fit(X_train, y_train)\n",
    "\n",
    "        pred = model.predict(X_test)\n",
    "        accuracy = accuracy_score(y_test, pred)\n",
    "        precision = precision_score(y_test, pred, average='weighted')\n",
    "        recall = recall_score(y_test, pred, average='weighted') \n",
    "        f1 = f1_score(y_test, pred, average='weighted') \n",
    "\n",
    "        accuracy_scores.append(accuracy)\n",
    "        precision_scores.append(precision)\n",
    "        recall_scores.append(recall)\n",
    "        f1_scores.append(f1)\n",
    "\n",
    "    print('{0} Accuracy: {1: .5f} Precision: {2: .5f} Recall: {3: .5f} F1_Score: {4: .5f}'.format(\n",
    "        model.__class__.__name__, \n",
    "        np.mean(accuracy_scores),\n",
    "        np.mean(precision_scores),\n",
    "        np.mean(recall_scores),\n",
    "        np.mean(f1_scores)))\n",
    "    \n",
    "    return -np.mean(f1_scores)"
   ]
  },
  {
   "cell_type": "code",
   "execution_count": 10,
   "metadata": {},
   "outputs": [],
   "source": [
    "def evaluate(model, X_train, y_train, X_test, y_test):\n",
    "    \n",
    "    model.fit(X_train, y_train)\n",
    "    \n",
    "    y_pred = model.predict(X_test)\n",
    "    \n",
    "    accuracy = accuracy_score(y_test, y_pred)\n",
    "    precision = precision_score(y_test, y_pred, average='weighted')\n",
    "    recall = recall_score(y_test, y_pred, average='weighted')\n",
    "    f1 = f1_score(y_test, y_pred, average='weighted')\n",
    "    \n",
    "    print(\"Model: \", model.__class__.__name__)\n",
    "    print(\"Accuracy: \", accuracy)\n",
    "    print(\"Precision: \", precision)\n",
    "    print(\"Recall: \", recall)\n",
    "    print(\"F1 Score: \", f1)\n",
    "    print(\"####################################\")\n",
    "    \n",
    "    # report = classification_report(y_test, y_pred)\n",
    "    # print(\"Classification Report:\\n\", report)\n",
    "    \n",
    "    return -f1"
   ]
  },
  {
   "cell_type": "code",
   "execution_count": 6,
   "metadata": {},
   "outputs": [],
   "source": [
    "from hyperopt import hp \n",
    "from hyperopt import fmin, tpe, Trials \n",
    "\n",
    "def best_params(objective_func, search_space):\n",
    "    trials = Trials() \n",
    "\n",
    "    best = fmin(fn=objective_func,\n",
    "                space=search_space,\n",
    "                algo=tpe.suggest,\n",
    "                max_evals=20,\n",
    "                trials=trials,\n",
    "                rstate=np.random.default_rng(seed=30))\n",
    "\n",
    "    print('Beat Parameters:', best)\n",
    "    return best "
   ]
  },
  {
   "cell_type": "markdown",
   "metadata": {},
   "source": [
    "<h3>Original Dataset</h3>"
   ]
  },
  {
   "cell_type": "code",
   "execution_count": 18,
   "metadata": {},
   "outputs": [
    {
     "name": "stdout",
     "output_type": "stream",
     "text": [
      "LogisticRegression Accuracy:  0.96661 Precision:  0.96659 Recall:  0.96661 F1_Score:  0.96653\n",
      "LogisticRegression Accuracy:  0.96352 Precision:  0.96349 Recall:  0.96352 F1_Score:  0.96342\n",
      "LogisticRegression Accuracy:  0.96977 Precision:  0.96966 Recall:  0.96977 F1_Score:  0.96966\n",
      "LogisticRegression Accuracy:  0.97107 Precision:  0.97091 Recall:  0.97107 F1_Score:  0.97093\n",
      "LogisticRegression Accuracy:  0.97107 Precision:  0.97093 Recall:  0.97107 F1_Score:  0.97094\n",
      "LogisticRegression Accuracy:  0.96804 Precision:  0.96798 Recall:  0.96804 F1_Score:  0.96795\n",
      "LogisticRegression Accuracy:  0.96490 Precision:  0.96490 Recall:  0.96490 F1_Score:  0.96481\n",
      "LogisticRegression Accuracy:  0.96402 Precision:  0.96401 Recall:  0.96402 F1_Score:  0.96393\n",
      "LogisticRegression Accuracy:  0.96493 Precision:  0.96493 Recall:  0.96493 F1_Score:  0.96484\n",
      "LogisticRegression Accuracy:  0.97065 Precision:  0.97052 Recall:  0.97065 F1_Score:  0.97053\n",
      "LogisticRegression Accuracy:  0.96295 Precision:  0.96290 Recall:  0.96295 F1_Score:  0.96284\n",
      "LogisticRegression Accuracy:  0.96542 Precision:  0.96542 Recall:  0.96542 F1_Score:  0.96534\n",
      "LogisticRegression Accuracy:  0.96768 Precision:  0.96761 Recall:  0.96768 F1_Score:  0.96758\n",
      "LogisticRegression Accuracy:  0.97021 Precision:  0.97008 Recall:  0.97021 F1_Score:  0.97008\n",
      "LogisticRegression Accuracy:  0.96390 Precision:  0.96389 Recall:  0.96390 F1_Score:  0.96381\n",
      "LogisticRegression Accuracy:  0.97164 Precision:  0.97146 Recall:  0.97164 F1_Score:  0.97150\n",
      "LogisticRegression Accuracy:  0.96402 Precision:  0.96400 Recall:  0.96402 F1_Score:  0.96392\n",
      "LogisticRegression Accuracy:  0.97131 Precision:  0.97116 Recall:  0.97131 F1_Score:  0.97118\n",
      "LogisticRegression Accuracy:  0.96957 Precision:  0.96947 Recall:  0.96957 F1_Score:  0.96946\n",
      "LogisticRegression Accuracy:  0.96402 Precision:  0.96400 Recall:  0.96402 F1_Score:  0.96392\n",
      "100%|██████████| 20/20 [45:05<00:00, 135.26s/trial, best loss: -0.9714950242975402]\n",
      "Beat Parameters: {'C': 6.0, 'max_iter': 500.0, 'penalty': 0}\n"
     ]
    }
   ],
   "source": [
    "lr_search_space = {\n",
    "    'C': hp.uniform('C', 0.1, 10.0),  # Regularization parameter\n",
    "    'solver': hp.choice('solver', ['liblinear', 'saga']),  # Solver options\n",
    "    'penalty': hp.choice('penalty', ['l1', 'l2']),  # Penalty type\n",
    "    'max_iter': hp.choice('max_iter', range(100, 500)),  # Maximum number of iterations\n",
    "}\n",
    "\n",
    "def objective_func(search_space):\n",
    "    lr_model = LogisticRegression(\n",
    "                            C=search_space['C'],\n",
    "                            solver=search_space['solver'],\n",
    "                            penalty=search_space['penalty'],\n",
    "                            max_iter=int(search_space['max_iter']),\n",
    "                            random_state=42)\n",
    "    \n",
    "    return train_model(lr_model, X_train, y_train)\n",
    "lr_best = best_params(objective_func, lr_search_space)"
   ]
  },
  {
   "cell_type": "code",
   "execution_count": 16,
   "metadata": {},
   "outputs": [
    {
     "name": "stdout",
     "output_type": "stream",
     "text": [
      "Model:  LogisticRegression\n",
      "Accuracy:  0.7414833215046132\n",
      "Precision:  0.758691354255746\n",
      "Recall:  0.7414833215046132\n",
      "F1 Score:  0.6951494660538822\n",
      "####################################\n"
     ]
    },
    {
     "data": {
      "text/plain": [
       "-0.6951494660538822"
      ]
     },
     "execution_count": 16,
     "metadata": {},
     "output_type": "execute_result"
    }
   ],
   "source": [
    "# original dataset\n",
    "lr_best={'C': 6.675403357239448, 'max_iter': 355, 'penalty': 0, 'solver': 1}\n",
    "lr_model = LogisticRegression(C=lr_best['C'],\n",
    "                              solver='saga',\n",
    "                              max_iter=lr_best['max_iter'],\n",
    "                              penalty='l1')\n",
    "evaluate(lr_model,  X_train, y_train, X_test, y_test)"
   ]
  },
  {
   "cell_type": "markdown",
   "metadata": {},
   "source": [
    "<h3>PCA Dataset</h3>"
   ]
  },
  {
   "cell_type": "code",
   "execution_count": 7,
   "metadata": {},
   "outputs": [
    {
     "name": "stdout",
     "output_type": "stream",
     "text": [
      "LogisticRegression Accuracy:  0.94269 Precision:  0.93911 Recall:  0.94269 F1_Score:  0.93981\n",
      "LogisticRegression Accuracy:  0.94453 Precision:  0.94427 Recall:  0.94453 F1_Score:  0.94417\n",
      "LogisticRegression Accuracy:  0.94270 Precision:  0.93919 Recall:  0.94270 F1_Score:  0.93985\n",
      "LogisticRegression Accuracy:  0.94257 Precision:  0.93741 Recall:  0.94257 F1_Score:  0.93934\n",
      "LogisticRegression Accuracy:  0.94273 Precision:  0.93925 Recall:  0.94273 F1_Score:  0.93989\n",
      "LogisticRegression Accuracy:  0.94256 Precision:  0.93819 Recall:  0.94256 F1_Score:  0.93949\n",
      "LogisticRegression Accuracy:  0.94477 Precision:  0.94465 Recall:  0.94477 F1_Score:  0.94454\n",
      "LogisticRegression Accuracy:  0.94455 Precision:  0.94431 Recall:  0.94455 F1_Score:  0.94420\n",
      "LogisticRegression Accuracy:  0.94478 Precision:  0.94467 Recall:  0.94478 F1_Score:  0.94455\n",
      "LogisticRegression Accuracy:  0.94272 Precision:  0.93920 Recall:  0.94272 F1_Score:  0.93986\n",
      "LogisticRegression Accuracy:  0.94452 Precision:  0.94427 Recall:  0.94452 F1_Score:  0.94416\n",
      "LogisticRegression Accuracy:  0.94478 Precision:  0.94467 Recall:  0.94478 F1_Score:  0.94455\n",
      "LogisticRegression Accuracy:  0.94260 Precision:  0.93714 Recall:  0.94260 F1_Score:  0.93931\n",
      "LogisticRegression Accuracy:  0.94265 Precision:  0.93886 Recall:  0.94265 F1_Score:  0.93973\n",
      "LogisticRegression Accuracy:  0.94456 Precision:  0.94432 Recall:  0.94456 F1_Score:  0.94422\n",
      "LogisticRegression Accuracy:  0.94273 Precision:  0.93923 Recall:  0.94273 F1_Score:  0.93987\n",
      "LogisticRegression Accuracy:  0.94455 Precision:  0.94431 Recall:  0.94455 F1_Score:  0.94421\n",
      "LogisticRegression Accuracy:  0.94269 Precision:  0.93915 Recall:  0.94269 F1_Score:  0.93982\n",
      "LogisticRegression Accuracy:  0.94268 Precision:  0.93902 Recall:  0.94268 F1_Score:  0.93978\n",
      "LogisticRegression Accuracy:  0.94455 Precision:  0.94432 Recall:  0.94455 F1_Score:  0.94422\n",
      "100%|██████████| 20/20 [13:20:28<00:00, 2401.42s/trial, best loss: -0.9445518526319262]  \n",
      "Beat Parameters: {'C': 6.289918870722408, 'max_iter': 282, 'penalty': 0, 'solver': 1}\n"
     ]
    }
   ],
   "source": [
    "lr_search_space = {\n",
    "    'C': hp.uniform('C', 0.1, 10.0),  # Regularization parameter\n",
    "    'solver': hp.choice('solver', ['liblinear', 'saga']),  # Solver options\n",
    "    'penalty': hp.choice('penalty', ['l1', 'l2']),  # Penalty type\n",
    "    'max_iter': hp.choice('max_iter', range(100, 500)),  # Maximum number of iterations\n",
    "}\n",
    "\n",
    "def objective_func(search_space):\n",
    "    lr_model = LogisticRegression(\n",
    "                            C=search_space['C'],\n",
    "                            solver=search_space['solver'],\n",
    "                            penalty=search_space['penalty'],\n",
    "                            max_iter=int(search_space['max_iter']),\n",
    "                            random_state=42)\n",
    "    \n",
    "    return train_model(lr_model, X_pca_train, y_pca_train)\n",
    "lr_best = best_params(objective_func, lr_search_space)"
   ]
  },
  {
   "cell_type": "code",
   "execution_count": 10,
   "metadata": {},
   "outputs": [
    {
     "name": "stdout",
     "output_type": "stream",
     "text": [
      "Model:  LogisticRegression\n",
      "Accuracy:  0.7469393186657204\n",
      "Precision:  0.7929616104380759\n",
      "Recall:  0.7469393186657204\n",
      "F1 Score:  0.7050647383631301\n",
      "####################################\n"
     ]
    },
    {
     "data": {
      "text/plain": [
       "-0.7050647383631301"
      ]
     },
     "execution_count": 10,
     "metadata": {},
     "output_type": "execute_result"
    }
   ],
   "source": [
    "# PCA best params \n",
    "lr_best={'C': 6.289918870722408, 'max_iter': 282, 'penalty': 0, 'solver': 1}\n",
    "lr_model = LogisticRegression(C=lr_best['C'],\n",
    "                              solver='saga',\n",
    "                              max_iter=lr_best['max_iter'],\n",
    "                              penalty='l1')\n",
    "evaluate(lr_model,  X_pca_train, y_pca_train, X_pca_test, y_pca_test)"
   ]
  },
  {
   "cell_type": "markdown",
   "metadata": {},
   "source": [
    "<h3>Tree Dataset</h3>"
   ]
  },
  {
   "cell_type": "code",
   "execution_count": 23,
   "metadata": {},
   "outputs": [
    {
     "name": "stdout",
     "output_type": "stream",
     "text": [
      "LogisticRegression Accuracy:  0.96516 Precision:  0.96415 Recall:  0.96516 F1_Score:  0.96441\n",
      "LogisticRegression Accuracy:  0.96328 Precision:  0.96328 Recall:  0.96328 F1_Score:  0.96319\n",
      "LogisticRegression Accuracy:  0.96597 Precision:  0.96499 Recall:  0.96597 F1_Score:  0.96526\n",
      "LogisticRegression Accuracy:  0.95663 Precision:  0.95478 Recall:  0.95663 F1_Score:  0.95512\n",
      "LogisticRegression Accuracy:  0.96618 Precision:  0.96521 Recall:  0.96618 F1_Score:  0.96548\n",
      "LogisticRegression Accuracy:  0.95786 Precision:  0.95654 Recall:  0.95786 F1_Score:  0.95673\n",
      "LogisticRegression Accuracy:  0.96784 Precision:  0.96778 Recall:  0.96784 F1_Score:  0.96775\n",
      "LogisticRegression Accuracy:  0.96348 Precision:  0.96348 Recall:  0.96348 F1_Score:  0.96340\n",
      "LogisticRegression Accuracy:  0.97133 Precision:  0.97115 Recall:  0.97133 F1_Score:  0.97119\n",
      "LogisticRegression Accuracy:  0.96602 Precision:  0.96504 Recall:  0.96602 F1_Score:  0.96531\n",
      "LogisticRegression Accuracy:  0.96789 Precision:  0.96779 Recall:  0.96789 F1_Score:  0.96778\n",
      "LogisticRegression Accuracy:  0.97155 Precision:  0.97136 Recall:  0.97155 F1_Score:  0.97141\n",
      "LogisticRegression Accuracy:  0.95601 Precision:  0.95372 Recall:  0.95601 F1_Score:  0.95419\n",
      "LogisticRegression Accuracy:  0.96351 Precision:  0.96243 Recall:  0.96351 F1_Score:  0.96268\n",
      "LogisticRegression Accuracy:  0.96360 Precision:  0.96360 Recall:  0.96360 F1_Score:  0.96352\n",
      "LogisticRegression Accuracy:  0.96594 Precision:  0.96494 Recall:  0.96594 F1_Score:  0.96521\n",
      "LogisticRegression Accuracy:  0.96368 Precision:  0.96368 Recall:  0.96368 F1_Score:  0.96360\n",
      "LogisticRegression Accuracy:  0.96547 Precision:  0.96447 Recall:  0.96547 F1_Score:  0.96473\n",
      "LogisticRegression Accuracy:  0.96456 Precision:  0.96354 Recall:  0.96456 F1_Score:  0.96379\n",
      "LogisticRegression Accuracy:  0.96390 Precision:  0.96390 Recall:  0.96390 F1_Score:  0.96381\n",
      "100%|██████████| 20/20 [37:38<00:00, 112.91s/trial, best loss: -0.9714108997806928]\n",
      "Beat Parameters: {'C': 6.675403357239448, 'max_iter': 355, 'penalty': 0, 'solver': 1}\n"
     ]
    }
   ],
   "source": [
    "lr_search_space = {\n",
    "    'C': hp.uniform('C', 0.1, 10.0),  # Regularization parameter\n",
    "    'solver': hp.choice('solver', ['liblinear', 'saga']),  # Solver options\n",
    "    'penalty': hp.choice('penalty', ['l1', 'l2']),  # Penalty type\n",
    "    'max_iter': hp.choice('max_iter', range(100, 500)),  # Maximum number of iterations\n",
    "}\n",
    "\n",
    "def objective_func(search_space):\n",
    "    lr_model = LogisticRegression(\n",
    "                            C=search_space['C'],\n",
    "                            solver=search_space['solver'],\n",
    "                            penalty=search_space['penalty'],\n",
    "                            max_iter=int(search_space['max_iter']),\n",
    "                            random_state=42)\n",
    "    \n",
    "    return train_model(lr_model, X_tree_train, y_tree_train)\n",
    "lr_best = best_params(objective_func, lr_search_space)"
   ]
  },
  {
   "cell_type": "code",
   "execution_count": 11,
   "metadata": {},
   "outputs": [
    {
     "name": "stdout",
     "output_type": "stream",
     "text": [
      "Model:  LogisticRegression\n",
      "Accuracy:  0.7402413058907026\n",
      "Precision:  0.7693423061320217\n",
      "Recall:  0.7402413058907026\n",
      "F1 Score:  0.693998052756342\n",
      "####################################\n"
     ]
    },
    {
     "data": {
      "text/plain": [
       "-0.693998052756342"
      ]
     },
     "execution_count": 11,
     "metadata": {},
     "output_type": "execute_result"
    }
   ],
   "source": [
    "# original dataset\n",
    "lr_best={'C': 6.675403357239448, 'max_iter': 355, 'penalty': 0, 'solver': 1}\n",
    "lr_model = LogisticRegression(C=lr_best['C'],\n",
    "                              solver='saga',\n",
    "                              max_iter=lr_best['max_iter'],\n",
    "                              penalty='l1')\n",
    "evaluate(lr_model,  X_tree_train, y_tree_train, X_tree_test, y_tree_test)"
   ]
  }
 ],
 "metadata": {
  "kernelspec": {
   "display_name": "base",
   "language": "python",
   "name": "python3"
  },
  "language_info": {
   "codemirror_mode": {
    "name": "ipython",
    "version": 3
   },
   "file_extension": ".py",
   "mimetype": "text/x-python",
   "name": "python",
   "nbconvert_exporter": "python",
   "pygments_lexer": "ipython3",
   "version": "3.10.8"
  }
 },
 "nbformat": 4,
 "nbformat_minor": 2
}
