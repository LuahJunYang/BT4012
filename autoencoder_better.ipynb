{
 "cells": [
  {
   "cell_type": "code",
   "execution_count": 1,
   "id": "9050b9bb",
   "metadata": {},
   "outputs": [
    {
     "name": "stderr",
     "output_type": "stream",
     "text": [
      "2023-11-16 12:56:44.161090: I tensorflow/core/platform/cpu_feature_guard.cc:182] This TensorFlow binary is optimized to use available CPU instructions in performance-critical operations.\n",
      "To enable the following instructions: AVX2 FMA, in other operations, rebuild TensorFlow with the appropriate compiler flags.\n"
     ]
    }
   ],
   "source": [
    "import pandas as pd \n",
    "import numpy as np\n",
    "import tensorflow as tf\n",
    "\n",
    "import matplotlib.pyplot as plt\n",
    "import seaborn as sns\n",
    "\n",
    "import random as rn"
   ]
  },
  {
   "cell_type": "code",
   "execution_count": 2,
   "id": "5778da3f",
   "metadata": {},
   "outputs": [],
   "source": [
    "RANDOM_SEED = 42\n",
    "np.random.seed(RANDOM_SEED)\n",
    "rn.seed(RANDOM_SEED)\n",
    "tf.random.set_seed(RANDOM_SEED)"
   ]
  },
  {
   "cell_type": "code",
   "execution_count": null,
   "id": "0e473c99",
   "metadata": {},
   "outputs": [],
   "source": [
    "train_dataset = pd.read_csv('KDDTrain+.txt', header= None)\n",
    "test_dataset = pd.read_csv('KDDTest+.txt', header=None)"
   ]
  },
  {
   "cell_type": "code",
   "execution_count": null,
   "id": "6ed2bc4a",
   "metadata": {},
   "outputs": [],
   "source": [
    "columns = (['duration','protocol_type','service','flag','src_bytes','dst_bytes','land','wrong_fragment','urgent','hot','num_failed_logins','logged_in','num_compromised','root_shell','su_attempted'\n",
    ",'num_root','num_file_creations','num_shells','num_access_files','num_outbound_cmds','is_host_login','is_guest_login','count','srv_count','serror_rate','srv_serror_rate','rerror_rate','srv_rerror_rate','same_srv_rate','diff_srv_rate'\n",
    ",'srv_diff_host_rate','dst_host_count','dst_host_srv_count','dst_host_same_srv_rate','dst_host_diff_srv_rate','dst_host_same_src_port_rate','dst_host_srv_diff_host_rate','dst_host_serror_rate',\n",
    "'dst_host_srv_serror_rate','dst_host_rerror_rate','dst_host_srv_rerror_rate','attack','level'])\n",
    "\n",
    "train_dataset.columns = columns\n",
    "test_dataset.columns = columns\n",
    "\n",
    "train_dataset.drop(columns=['level'], inplace=True)\n",
    "test_dataset.drop(columns=['level'], inplace=True)"
   ]
  },
  {
   "cell_type": "code",
   "execution_count": null,
   "id": "7cbbef28",
   "metadata": {},
   "outputs": [],
   "source": [
    "# Target Encoding\n",
    "#Mapping all attack types to their categories\n",
    "dos_attacks = ['back','land','neptune','pod','smurf','teardrop', 'Apache2', 'udpstorm', 'Processtable', 'worm']\n",
    "probe_attacks = ['satan', 'ipsweep', 'nmap', 'portsweep', 'Mscan', 'Saint']\n",
    "R2L_attacks = ['guess_passwd', 'ftp_write', 'imap', 'phf', 'multihop', 'warezmaster', 'warezclient', 'spy', 'Xlock', 'Xsnoop', 'Snmpguess', 'Snmpgetattack', 'Httptunnel', 'Sendmail', 'Named']\n",
    "U2R_attacks = ['rootkit', 'buffer_overflow', 'loadmodule', 'Perl', 'Sqlattack', 'Xterm', 'Ps']\n",
    "\n",
    "def attack_category(attack):\n",
    "    if attack in dos_attacks:\n",
    "        attack_type = 1\n",
    "    elif attack in probe_attacks:\n",
    "        attack_type = 2\n",
    "    elif attack in R2L_attacks:\n",
    "        attack_type = 3\n",
    "    elif attack in U2R_attacks:\n",
    "        attack_type = 4\n",
    "    else:\n",
    "        attack_type = 0\n",
    "    return attack_type\n",
    "\n",
    "train_dataset['attack_category'] = train_dataset['attack'].apply(attack_category)\n",
    "train_dataset.loc[train_dataset['attack_category'] > 0, 'is_attack'] = 1\n",
    "train_dataset.loc[train_dataset['attack_category'] == 0, 'is_attack'] = 0\n",
    "\n",
    "test_dataset['attack_category'] = test_dataset['attack'].apply(attack_category)\n",
    "test_dataset.loc[test_dataset['attack_category'] > 0, 'is_attack'] = 1\n",
    "test_dataset.loc[test_dataset['attack_category'] == 0, 'is_attack'] = 0"
   ]
  },
  {
   "cell_type": "code",
   "execution_count": null,
   "id": "db8748ba",
   "metadata": {},
   "outputs": [],
   "source": [
    "categorical_cols = ['protocol_type', 'service', 'flag']\n",
    "binary_cols = ['land', 'logged_in', 'root_shell', 'su_attempted', 'is_hot_login', 'is_guest_login']\n",
    "target = ['attack', 'is_attack', 'attack_category']\n",
    "non_numerical_cols = binary_cols + categorical_cols + target\n",
    "numerical_cols = [col for col in train_dataset.columns if col not in non_numerical_cols ]"
   ]
  },
  {
   "cell_type": "code",
   "execution_count": null,
   "id": "8b47f611",
   "metadata": {},
   "outputs": [],
   "source": [
    "numerical_cols"
   ]
  },
  {
   "cell_type": "code",
   "execution_count": null,
   "id": "3e1cdbb5",
   "metadata": {},
   "outputs": [],
   "source": [
    "for col in categorical_cols: \n",
    "    print(f'-------- Column {col} --------')\n",
    "    print(train_dataset[col].value_counts())\n",
    "    print('')\n",
    "    "
   ]
  },
  {
   "cell_type": "code",
   "execution_count": null,
   "id": "3c33199f",
   "metadata": {},
   "outputs": [],
   "source": [
    "from sklearn.preprocessing import LabelEncoder, StandardScaler\n",
    "\n",
    "le = LabelEncoder()\n",
    "\n",
    "for col in categorical_cols:\n",
    "    print('Encoding ' + col)\n",
    "    train_dataset[col] = le.fit_transform(train_dataset[col])\n",
    "    test_dataset[col] = le.transform(test_dataset[col])"
   ]
  },
  {
   "cell_type": "code",
   "execution_count": null,
   "id": "7a60da7f",
   "metadata": {},
   "outputs": [],
   "source": [
    "from sklearn.preprocessing import MinMaxScaler\n",
    "\n",
    "scaler = MinMaxScaler()\n",
    "for col in numerical_cols:\n",
    "    print('Scaling '+ col)\n",
    "    train_dataset[col] = scaler.fit_transform(np.array(train_dataset[col]).reshape(-1,1))\n",
    "    test_dataset[col] = scaler.transform(np.array(test_dataset[col]).reshape(-1,1))"
   ]
  },
  {
   "cell_type": "code",
   "execution_count": null,
   "id": "89bc3f30",
   "metadata": {},
   "outputs": [],
   "source": [
    "train_dataset[numerical_cols]"
   ]
  },
  {
   "cell_type": "code",
   "execution_count": 3,
   "id": "6dbfe95d",
   "metadata": {},
   "outputs": [],
   "source": [
    "train_pca = pd.read_csv('Datasets/PCA_train_data.csv')\n",
    "test_pca = pd.read_csv('Datasets/PCA_test_data.csv')\n",
    "\n",
    "train_tree = pd.read_csv('Datasets/Tree_train_data.csv')\n",
    "test_tree = pd.read_csv('Datasets/Tree_test_data.csv')\n",
    "\n",
    "train_data = pd.read_csv('Datasets/train_dataset.csv')\n",
    "test_data = pd.read_csv('Datasets/test_dataset.csv')"
   ]
  },
  {
   "cell_type": "code",
   "execution_count": 4,
   "id": "1f489f9e",
   "metadata": {},
   "outputs": [],
   "source": [
    "train_df = train_data.copy().drop(columns=['attack'])\n",
    "test_df = test_data.copy().drop(columns=['attack'])"
   ]
  },
  {
   "cell_type": "code",
   "execution_count": 5,
   "id": "af4789c1",
   "metadata": {},
   "outputs": [],
   "source": [
    "normal = train_df[train_df['is_attack'] == 0]\n",
    "attack = train_df[train_df['is_attack'] == 1]"
   ]
  },
  {
   "cell_type": "code",
   "execution_count": 6,
   "id": "500f365c",
   "metadata": {
    "scrolled": true
   },
   "outputs": [
    {
     "name": "stdout",
     "output_type": "stream",
     "text": [
      "Shape of the datasets:\n",
      "    normal (rows, cols) = (67343, 47)\n",
      "    attack (rows, cols) = (58630, 47)\n"
     ]
    }
   ],
   "source": [
    "print(f\"\"\"Shape of the datasets:\n",
    "    normal (rows, cols) = {normal.shape}\n",
    "    attack (rows, cols) = {attack.shape}\"\"\")"
   ]
  },
  {
   "cell_type": "code",
   "execution_count": 7,
   "id": "dfde5de3",
   "metadata": {},
   "outputs": [],
   "source": [
    "# shuffle training data\n",
    "normal = normal.sample(frac=1).reset_index(drop=True)\n",
    "\n",
    "X_train = normal.drop(columns = ['is_attack', 'attack_category'])"
   ]
  },
  {
   "cell_type": "code",
   "execution_count": 8,
   "id": "abd00940",
   "metadata": {},
   "outputs": [
    {
     "data": {
      "text/plain": [
       "Index(['land', 'logged_in', 'root_shell', 'su_attempted', 'is_host_login',\n",
       "       'is_guest_login', 'protocol_type_icmp', 'protocol_type_tcp',\n",
       "       'protocol_type_udp', 'flag_OTH', 'flag_REJ', 'flag_RSTO', 'flag_RSTOS0',\n",
       "       'flag_RSTR', 'flag_S0', 'flag_S1', 'flag_S2', 'flag_S3', 'flag_SF',\n",
       "       'flag_SH', 'service_encoded_freq', 'duration_scaled',\n",
       "       'src_bytes_scaled', 'dst_bytes_scaled', 'wrong_fragment_scaled',\n",
       "       'urgent_scaled', 'hot_scaled', 'num_failed_logins_scaled',\n",
       "       'num_compromised_scaled', 'num_file_creations_scaled',\n",
       "       'num_shells_scaled', 'num_access_files_scaled', 'count_scaled',\n",
       "       'srv_count_scaled', 'same_srv_rate_scaled', 'diff_srv_rate_scaled',\n",
       "       'srv_diff_host_rate_scaled', 'dst_host_count_scaled',\n",
       "       'dst_host_srv_count_scaled', 'dst_host_same_srv_rate_scaled',\n",
       "       'dst_host_diff_srv_rate_scaled', 'dst_host_same_src_port_rate_scaled',\n",
       "       'dst_host_srv_diff_host_rate_scaled', 'serror_rate_combined',\n",
       "       'rerror_rate_combined'],\n",
       "      dtype='object')"
      ]
     },
     "execution_count": 8,
     "metadata": {},
     "output_type": "execute_result"
    }
   ],
   "source": [
    "X_train.columns"
   ]
  },
  {
   "cell_type": "code",
   "execution_count": 9,
   "id": "d3832de2",
   "metadata": {},
   "outputs": [],
   "source": [
    "from sklearn.model_selection import train_test_split\n",
    "\n",
    "X_train, X_validate = train_test_split(X_train, \n",
    "                                       test_size=0.2, \n",
    "                                       random_state=RANDOM_SEED)\n",
    "\n",
    "X_all, y_all, attack_cat_all = train_df.drop(columns=['is_attack', 'attack_category']), train_df['is_attack'], train_df['attack_category']\n",
    "\n",
    "X_test, y_test, attack_cat = test_df.drop(columns=['is_attack', 'attack_category']), test_data['is_attack'], test_data['attack_category']\n"
   ]
  },
  {
   "cell_type": "code",
   "execution_count": 10,
   "id": "56911575",
   "metadata": {},
   "outputs": [
    {
     "name": "stdout",
     "output_type": "stream",
     "text": [
      "Index(['land', 'logged_in', 'root_shell', 'su_attempted', 'is_host_login',\n",
      "       'is_guest_login', 'protocol_type_icmp', 'protocol_type_tcp',\n",
      "       'protocol_type_udp', 'flag_OTH', 'flag_REJ', 'flag_RSTO', 'flag_RSTOS0',\n",
      "       'flag_RSTR', 'flag_S0', 'flag_S1', 'flag_S2', 'flag_S3', 'flag_SF',\n",
      "       'flag_SH', 'service_encoded_freq', 'duration_scaled',\n",
      "       'src_bytes_scaled', 'dst_bytes_scaled', 'wrong_fragment_scaled',\n",
      "       'urgent_scaled', 'hot_scaled', 'num_failed_logins_scaled',\n",
      "       'num_compromised_scaled', 'num_file_creations_scaled',\n",
      "       'num_shells_scaled', 'num_access_files_scaled', 'count_scaled',\n",
      "       'srv_count_scaled', 'same_srv_rate_scaled', 'diff_srv_rate_scaled',\n",
      "       'srv_diff_host_rate_scaled', 'dst_host_count_scaled',\n",
      "       'dst_host_srv_count_scaled', 'dst_host_same_srv_rate_scaled',\n",
      "       'dst_host_diff_srv_rate_scaled', 'dst_host_same_src_port_rate_scaled',\n",
      "       'dst_host_srv_diff_host_rate_scaled', 'serror_rate_combined',\n",
      "       'rerror_rate_combined'],\n",
      "      dtype='object')\n"
     ]
    }
   ],
   "source": [
    "print(X_test.columns)"
   ]
  },
  {
   "cell_type": "code",
   "execution_count": 11,
   "id": "74781e7e",
   "metadata": {},
   "outputs": [
    {
     "name": "stdout",
     "output_type": "stream",
     "text": [
      "samples in the test datasets:\n",
      "    normal (rows, cols) = 9711\n",
      "    attack (rows, cols) = 12833\n"
     ]
    }
   ],
   "source": [
    "print(f\"\"\"samples in the test datasets:\n",
    "    normal (rows, cols) = {test_data[test_data['is_attack'] == 0].shape[0]}\n",
    "    attack (rows, cols) = {test_data[test_data['is_attack'] == 1].shape[0]}\"\"\")"
   ]
  },
  {
   "cell_type": "code",
   "execution_count": 12,
   "id": "ccf2b3e4",
   "metadata": {},
   "outputs": [
    {
     "name": "stdout",
     "output_type": "stream",
     "text": [
      "Shape of the datasets:\n",
      "    training (non-attack)(rows, cols) = (53874, 45)\n",
      "    validate (non-attack)(rows, cols) = (13469, 45)\n",
      "    validate (mix)    (rows, cols) = (125973, 45)\n",
      "    holdout  (mix)       (rows, cols) = (22544, 45)\n"
     ]
    }
   ],
   "source": [
    "print(f\"\"\"Shape of the datasets:\n",
    "    training (non-attack)(rows, cols) = {X_train.shape}\n",
    "    validate (non-attack)(rows, cols) = {X_validate.shape}\n",
    "    validate (mix)    (rows, cols) = {X_all.shape}\n",
    "    holdout  (mix)       (rows, cols) = {X_test.shape}\"\"\")"
   ]
  },
  {
   "cell_type": "code",
   "execution_count": 34,
   "id": "35a94c56",
   "metadata": {},
   "outputs": [
    {
     "name": "stdout",
     "output_type": "stream",
     "text": [
      "Model: \"sequential_2\"\n",
      "_________________________________________________________________\n",
      " Layer (type)                Output Shape              Param #   \n",
      "=================================================================\n",
      " dense_16 (Dense)            (None, 45)                2070      \n",
      "                                                                 \n",
      " dense_17 (Dense)            (None, 300)               13800     \n",
      "                                                                 \n",
      " dense_18 (Dense)            (None, 100)               30100     \n",
      "                                                                 \n",
      " dense_19 (Dense)            (None, 25)                2525      \n",
      "                                                                 \n",
      " dense_20 (Dense)            (None, 25)                650       \n",
      "                                                                 \n",
      " dense_21 (Dense)            (None, 100)               2600      \n",
      "                                                                 \n",
      " dense_22 (Dense)            (None, 300)               30300     \n",
      "                                                                 \n",
      " dense_23 (Dense)            (None, 45)                13545     \n",
      "                                                                 \n",
      "=================================================================\n",
      "Total params: 95,590\n",
      "Trainable params: 95,590\n",
      "Non-trainable params: 0\n",
      "_________________________________________________________________\n"
     ]
    }
   ],
   "source": [
    "input_dim = X_train.shape[1]\n",
    "BATCH_SIZE = 64\n",
    "EPOCHS = 70\n",
    "\n",
    "autoencoder = tf.keras.models.Sequential([\n",
    "    \n",
    "    # deconstruct / encode\n",
    "    tf.keras.layers.Dense(input_dim, activation='relu', activity_regularizer=tf.keras.regularizers.l2(10e-5), input_shape=(input_dim, )), \n",
    "    tf.keras.layers.Dense(300, activation='relu'),\n",
    "    tf.keras.layers.Dense(100, activation='relu'),\n",
    "    tf.keras.layers.Dense(25, activation='relu'),\n",
    "    \n",
    "    # reconstruction / decode\n",
    "    tf.keras.layers.Dense(25, activation='relu'),\n",
    "    tf.keras.layers.Dense(100, activation='relu'),\n",
    "    tf.keras.layers.Dense(300, activation='relu'),\n",
    "    tf.keras.layers.Dense(input_dim, activation='relu')\n",
    "    \n",
    "])\n",
    "\n",
    "autoencoder.compile(optimizer=\"rmsprop\", \n",
    "                    loss=\"mse\")\n",
    "\n",
    "# print an overview of our model\n",
    "autoencoder.summary();"
   ]
  },
  {
   "cell_type": "code",
   "execution_count": 35,
   "id": "10343135",
   "metadata": {},
   "outputs": [
    {
     "name": "stdout",
     "output_type": "stream",
     "text": [
      "Epoch 1/70\n",
      "842/842 [==============================] - 3s 3ms/step - loss: 0.0149 - val_loss: 0.0063\n",
      "Epoch 2/70\n",
      "842/842 [==============================] - 3s 3ms/step - loss: 0.0052 - val_loss: 0.0046\n",
      "Epoch 3/70\n",
      "842/842 [==============================] - 4s 4ms/step - loss: 0.0036 - val_loss: 0.0034\n",
      "Epoch 4/70\n",
      "842/842 [==============================] - 4s 5ms/step - loss: 0.0031 - val_loss: 0.0031\n",
      "Epoch 5/70\n",
      "842/842 [==============================] - 5s 5ms/step - loss: 0.0029 - val_loss: 0.0029\n",
      "Epoch 6/70\n",
      "842/842 [==============================] - 6s 7ms/step - loss: 0.0027 - val_loss: 0.0027\n",
      "Epoch 7/70\n",
      "842/842 [==============================] - 7s 8ms/step - loss: 0.0026 - val_loss: 0.0026\n",
      "Epoch 8/70\n",
      "842/842 [==============================] - 6s 8ms/step - loss: 0.0025 - val_loss: 0.0026\n",
      "Epoch 9/70\n",
      "842/842 [==============================] - 5s 6ms/step - loss: 0.0025 - val_loss: 0.0025\n",
      "Epoch 10/70\n",
      "842/842 [==============================] - 5s 6ms/step - loss: 0.0024 - val_loss: 0.0025\n",
      "Epoch 11/70\n",
      "842/842 [==============================] - 5s 6ms/step - loss: 0.0024 - val_loss: 0.0024\n",
      "Epoch 12/70\n",
      "842/842 [==============================] - 5s 6ms/step - loss: 0.0024 - val_loss: 0.0025\n",
      "Epoch 13/70\n",
      "842/842 [==============================] - 5s 6ms/step - loss: 0.0023 - val_loss: 0.0023\n",
      "Epoch 14/70\n",
      "842/842 [==============================] - 5s 6ms/step - loss: 0.0023 - val_loss: 0.0023\n",
      "Epoch 15/70\n",
      "842/842 [==============================] - 5s 6ms/step - loss: 0.0023 - val_loss: 0.0023\n",
      "Epoch 16/70\n",
      "842/842 [==============================] - 6s 7ms/step - loss: 0.0023 - val_loss: 0.0023\n",
      "Epoch 17/70\n",
      "842/842 [==============================] - 6s 7ms/step - loss: 0.0022 - val_loss: 0.0023\n",
      "Epoch 18/70\n",
      "842/842 [==============================] - 5s 6ms/step - loss: 0.0022 - val_loss: 0.0023\n",
      "Epoch 19/70\n",
      "842/842 [==============================] - 6s 7ms/step - loss: 0.0022 - val_loss: 0.0023\n",
      "Epoch 20/70\n",
      "842/842 [==============================] - 5s 6ms/step - loss: 0.0022 - val_loss: 0.0023\n",
      "Epoch 21/70\n",
      "842/842 [==============================] - 5s 6ms/step - loss: 0.0022 - val_loss: 0.0022\n",
      "Epoch 22/70\n",
      "842/842 [==============================] - 5s 6ms/step - loss: 0.0022 - val_loss: 0.0022\n",
      "Epoch 23/70\n",
      "842/842 [==============================] - 6s 7ms/step - loss: 0.0022 - val_loss: 0.0022\n",
      "Epoch 24/70\n",
      "842/842 [==============================] - 6s 7ms/step - loss: 0.0022 - val_loss: 0.0022\n",
      "Epoch 25/70\n",
      "842/842 [==============================] - 6s 7ms/step - loss: 0.0022 - val_loss: 0.0022\n",
      "Epoch 26/70\n",
      "842/842 [==============================] - 6s 7ms/step - loss: 0.0022 - val_loss: 0.0022\n",
      "Epoch 27/70\n",
      "842/842 [==============================] - 6s 7ms/step - loss: 0.0022 - val_loss: 0.0022\n",
      "Epoch 28/70\n",
      "842/842 [==============================] - 6s 7ms/step - loss: 0.0022 - val_loss: 0.0022\n",
      "Epoch 29/70\n",
      "842/842 [==============================] - 6s 7ms/step - loss: 0.0020 - val_loss: 0.0019\n",
      "Epoch 30/70\n",
      "842/842 [==============================] - 6s 7ms/step - loss: 0.0018 - val_loss: 0.0019\n",
      "Epoch 31/70\n",
      "842/842 [==============================] - 6s 7ms/step - loss: 0.0018 - val_loss: 0.0019\n",
      "Epoch 32/70\n",
      "842/842 [==============================] - 7s 8ms/step - loss: 0.0018 - val_loss: 0.0018\n",
      "Epoch 33/70\n",
      "842/842 [==============================] - 6s 8ms/step - loss: 0.0018 - val_loss: 0.0018\n",
      "Epoch 34/70\n",
      "842/842 [==============================] - 6s 7ms/step - loss: 0.0018 - val_loss: 0.0019\n",
      "Epoch 35/70\n",
      "842/842 [==============================] - 6s 7ms/step - loss: 0.0018 - val_loss: 0.0018\n",
      "Epoch 36/70\n",
      "842/842 [==============================] - 6s 8ms/step - loss: 0.0018 - val_loss: 0.0018\n",
      "Epoch 37/70\n",
      "842/842 [==============================] - 6s 7ms/step - loss: 0.0018 - val_loss: 0.0018\n",
      "Epoch 38/70\n",
      "842/842 [==============================] - 6s 7ms/step - loss: 0.0018 - val_loss: 0.0018\n",
      "Epoch 39/70\n",
      "842/842 [==============================] - 6s 7ms/step - loss: 0.0018 - val_loss: 0.0020\n",
      "Epoch 40/70\n",
      "842/842 [==============================] - 6s 7ms/step - loss: 0.0018 - val_loss: 0.0018\n",
      "Epoch 41/70\n",
      "842/842 [==============================] - 7s 8ms/step - loss: 0.0017 - val_loss: 0.0018\n",
      "Epoch 42/70\n",
      "842/842 [==============================] - 7s 8ms/step - loss: 0.0017 - val_loss: 0.0018\n",
      "Epoch 43/70\n",
      "842/842 [==============================] - 7s 8ms/step - loss: 0.0017 - val_loss: 0.0018\n",
      "Epoch 44/70\n",
      "842/842 [==============================] - 6s 8ms/step - loss: 0.0017 - val_loss: 0.0018\n",
      "Epoch 45/70\n",
      "842/842 [==============================] - 6s 7ms/step - loss: 0.0017 - val_loss: 0.0018\n",
      "Epoch 46/70\n",
      "842/842 [==============================] - 7s 8ms/step - loss: 0.0017 - val_loss: 0.0018\n",
      "Epoch 47/70\n",
      "842/842 [==============================] - 8s 9ms/step - loss: 0.0017 - val_loss: 0.0018\n",
      "Epoch 48/70\n",
      "842/842 [==============================] - 7s 8ms/step - loss: 0.0017 - val_loss: 0.0018\n",
      "Epoch 49/70\n",
      "842/842 [==============================] - 6s 7ms/step - loss: 0.0017 - val_loss: 0.0018\n",
      "Epoch 50/70\n",
      "842/842 [==============================] - 6s 8ms/step - loss: 0.0017 - val_loss: 0.0018\n",
      "Epoch 51/70\n",
      "842/842 [==============================] - 7s 8ms/step - loss: 0.0017 - val_loss: 0.0018\n",
      "Epoch 52/70\n",
      "842/842 [==============================] - 7s 8ms/step - loss: 0.0017 - val_loss: 0.0018\n",
      "Epoch 53/70\n",
      "842/842 [==============================] - 9s 10ms/step - loss: 0.0017 - val_loss: 0.0018\n",
      "Epoch 54/70\n",
      "842/842 [==============================] - 8s 9ms/step - loss: 0.0017 - val_loss: 0.0018\n",
      "Epoch 55/70\n",
      "842/842 [==============================] - 8s 9ms/step - loss: 0.0017 - val_loss: 0.0018\n",
      "Epoch 56/70\n",
      "842/842 [==============================] - 6s 7ms/step - loss: 0.0017 - val_loss: 0.0018\n",
      "Epoch 57/70\n",
      "842/842 [==============================] - 6s 7ms/step - loss: 0.0017 - val_loss: 0.0018\n",
      "Epoch 58/70\n",
      "842/842 [==============================] - 6s 7ms/step - loss: 0.0017 - val_loss: 0.0018\n",
      "Epoch 59/70\n",
      "842/842 [==============================] - 6s 7ms/step - loss: 0.0017 - val_loss: 0.0018\n",
      "Epoch 60/70\n",
      "842/842 [==============================] - 6s 7ms/step - loss: 0.0017 - val_loss: 0.0017\n",
      "Epoch 61/70\n",
      "842/842 [==============================] - 6s 8ms/step - loss: 0.0017 - val_loss: 0.0017\n",
      "Epoch 62/70\n",
      "842/842 [==============================] - 6s 7ms/step - loss: 0.0017 - val_loss: 0.0017\n",
      "Epoch 63/70\n",
      "842/842 [==============================] - 6s 7ms/step - loss: 0.0017 - val_loss: 0.0017\n",
      "Epoch 64/70\n",
      "842/842 [==============================] - 6s 7ms/step - loss: 0.0017 - val_loss: 0.0017\n",
      "Epoch 65/70\n",
      "842/842 [==============================] - 6s 7ms/step - loss: 0.0017 - val_loss: 0.0017\n",
      "Epoch 66/70\n",
      "842/842 [==============================] - 6s 7ms/step - loss: 0.0017 - val_loss: 0.0017\n",
      "Epoch 67/70\n",
      "842/842 [==============================] - 6s 7ms/step - loss: 0.0017 - val_loss: 0.0017\n",
      "Epoch 68/70\n",
      "842/842 [==============================] - 6s 7ms/step - loss: 0.0017 - val_loss: 0.0017\n",
      "Epoch 69/70\n",
      "842/842 [==============================] - 6s 8ms/step - loss: 0.0017 - val_loss: 0.0017\n",
      "Epoch 70/70\n",
      "842/842 [==============================] - 9s 11ms/step - loss: 0.0017 - val_loss: 0.0017\n"
     ]
    }
   ],
   "source": [
    "auto_history = autoencoder.fit(\n",
    "    X_train, X_train,\n",
    "    shuffle=True,\n",
    "    epochs=EPOCHS,\n",
    "    batch_size=BATCH_SIZE,\n",
    "    validation_data=(X_validate, X_validate)\n",
    ");"
   ]
  },
  {
   "cell_type": "code",
   "execution_count": null,
   "id": "8a4a38f9",
   "metadata": {},
   "outputs": [],
   "source": [
    "input_dim = X_train.shape[1]\n",
    "BATCH_SIZE = 64\n",
    "EPOCHS = 50\n",
    "\n",
    "autoencoder = tf.keras.models.Sequential([\n",
    "    \n",
    "    # deconstruct / encode\n",
    "    tf.keras.layers.Dense(300, activation='relu', activity_regularizer=tf.keras.regularizers.l2(10e-5), input_shape=(input_dim, )),\n",
    "    tf.keras.layers.Dense(100, activation='relu'),\n",
    "    tf.keras.layers.Dense(25, activation='relu'),\n",
    "    \n",
    "    # reconstruction / decode\n",
    "    tf.keras.layers.Dense(25, activation='relu'),\n",
    "    tf.keras.layers.Dense(100, activation='relu'),\n",
    "    tf.keras.layers.Dense(300, activation='relu'),\n",
    "    tf.keras.layers.Dense(input_dim, activation='relu')\n",
    "    \n",
    "])\n",
    "\n",
    "autoencoder.compile(optimizer=\"rmsprop\", \n",
    "                    loss=\"mse\")\n",
    "\n",
    "# print an overview of our model\n",
    "autoencoder.summary();"
   ]
  },
  {
   "cell_type": "code",
   "execution_count": null,
   "id": "086daa83",
   "metadata": {},
   "outputs": [],
   "source": [
    "auto_history = autoencoder.fit(\n",
    "    X_train, X_train,\n",
    "    shuffle=True,\n",
    "    epochs=EPOCHS,\n",
    "    batch_size=BATCH_SIZE,\n",
    "    validation_data=(X_validate, X_validate)\n",
    ");"
   ]
  },
  {
   "cell_type": "code",
   "execution_count": 36,
   "id": "916fb2f2",
   "metadata": {
    "scrolled": true
   },
   "outputs": [
    {
     "data": {
      "text/plain": [
       "<matplotlib.legend.Legend at 0x7fcf71347ee0>"
      ]
     },
     "execution_count": 36,
     "metadata": {},
     "output_type": "execute_result"
    },
    {
     "data": {
      "image/png": "[encoded data removed]",
      "text/plain": [
       "<Figure size 432x288 with 1 Axes>"
      ]
     },
     "metadata": {
      "needs_background": "light"
     },
     "output_type": "display_data"
    }
   ],
   "source": [
    "plt.plot(range(70), auto_history.history['loss'],'r', label='Train-loss')\n",
    "plt.plot(range(70), auto_history.history['val_loss'],'b', label='Val-loss')\n",
    "plt.title('Dataset2: Autoencoder: Loss curves')\n",
    "plt.xlabel('Epochs')\n",
    "plt.ylabel('Loss')\n",
    "plt.legend()"
   ]
  },
  {
   "cell_type": "code",
   "execution_count": 37,
   "id": "f08d9a2a",
   "metadata": {
    "scrolled": true
   },
   "outputs": [
    {
     "name": "stdout",
     "output_type": "stream",
     "text": [
      "3937/3937 [==============================] - 7s 2ms/step\n"
     ]
    },
    {
     "data": {
      "image/png": "[encoded data removed]",
      "text/plain": [
       "<Figure size 432x432 with 1 Axes>"
      ]
     },
     "metadata": {
      "needs_background": "light"
     },
     "output_type": "display_data"
    }
   ],
   "source": [
    "reconstructions_train = autoencoder.predict(X_all)\n",
    "mse_train = np.mean(np.power(X_all - reconstructions_train, 2), axis=1)\n",
    "\n",
    "normal_train = mse_train[y_all==0]\n",
    "attack_train = mse_train[y_all==1]\n",
    "\n",
    "normal_train = [x for x in normal_train if x < 100]\n",
    "attack_train = [x for x in attack_train if x < 100]\n",
    "\n",
    "fig, ax = plt.subplots(figsize=(6,6))\n",
    "\n",
    "ax.hist(normal_train, bins=50, density=True, label=\"normal\", alpha = 0.6, color=\"green\")\n",
    "ax.hist(attack_train, bins=50, density=True, label=\"attack\", alpha = 0.6, color=\"red\")\n",
    "\n",
    "plt.title(\"(Normalized) Distribution of the Reconstruction Loss\")\n",
    "plt.legend()\n",
    "plt.show()"
   ]
  },
  {
   "cell_type": "code",
   "execution_count": 38,
   "id": "6b3ca82a",
   "metadata": {},
   "outputs": [],
   "source": [
    "from sklearn.metrics import (confusion_matrix, precision_recall_curve, classification_report, f1_score)\n",
    "\n",
    "def classify(THRESHOLD, mse, y):\n",
    "    m = np.median(mse)\n",
    "    ad = np.abs(mse - m)\n",
    "    mad = np.median(ad)\n",
    "    z_scores = 0.6745 * ad / mad\n",
    "    \n",
    "    outliers = z_scores > THRESHOLD\n",
    "    mse_threshold = m + THRESHOLD * mad / 0.6745 \n",
    "    \n",
    "    print(f\"Detected {np.sum(outliers):,} intrusions in a total of {np.size(z_scores):,} events [{np.sum(outliers)/np.size(z_scores):.2%}].\")\n",
    "\n",
    "    # get (mis)classification\n",
    "    cm = confusion_matrix(y, outliers)\n",
    "\n",
    "    # true/false positives/negativesb\n",
    "    (tn, fp, \n",
    "     fn, tp) = cm.flatten()\n",
    "    \n",
    "    print(f\"\"\"The classifications using the MAD method with threshold={THRESHOLD} are as follows:\n",
    "    {cm}\n",
    "\n",
    "    % of events labeled as intrusion that were correct (precision): {tp}/({fp}+{tp}) = {tp/(fp+tp):.2%}\n",
    "    % of intrusion were caught succesfully (recall):    {tp}/({fn}+{tp}) = {tp/(fn+tp):.2%}\"\"\")\n",
    "    \n",
    "    print(classification_report(y, outliers))\n",
    "    print(\"F1 score : \" + str(f1_score(y, outliers)))\n",
    "    \n",
    "    return outliers, mse_threshold\n",
    "    "
   ]
  },
  {
   "cell_type": "code",
   "execution_count": 39,
   "id": "8b17a8dc",
   "metadata": {
    "scrolled": true
   },
   "outputs": [
    {
     "name": "stdout",
     "output_type": "stream",
     "text": [
      "Detected 59,720 intrusions in a total of 125,973 events [47.41%].\n",
      "The classifications using the MAD method with threshold=1 are as follows:\n",
      "    [[62985  4358]\n",
      " [ 3268 55362]]\n",
      "\n",
      "    % of events labeled as intrusion that were correct (precision): 55362/(4358+55362) = 92.70%\n",
      "    % of intrusion were caught succesfully (recall):    55362/(3268+55362) = 94.43%\n",
      "              precision    recall  f1-score   support\n",
      "\n",
      "         0.0       0.95      0.94      0.94     67343\n",
      "         1.0       0.93      0.94      0.94     58630\n",
      "\n",
      "    accuracy                           0.94    125973\n",
      "   macro avg       0.94      0.94      0.94    125973\n",
      "weighted avg       0.94      0.94      0.94    125973\n",
      "\n",
      "F1 score : 0.9355640050697085\n"
     ]
    }
   ],
   "source": [
    "predicted_train, mse_threshold_train = classify(1, mse_train, y_all)"
   ]
  },
  {
   "cell_type": "code",
   "execution_count": 40,
   "id": "a1bb8d47",
   "metadata": {},
   "outputs": [],
   "source": [
    "train_df['predicted_intrusion'] = predicted_train\n",
    "train_df['mse'] = mse_train\n",
    "train_df['predicted_intrusion'] = train_df['predicted_intrusion'].apply(lambda x: 1 if x == True else 0)"
   ]
  },
  {
   "cell_type": "code",
   "execution_count": 41,
   "id": "3910fee4",
   "metadata": {
    "scrolled": false
   },
   "outputs": [
    {
     "data": {
      "text/plain": [
       "attack_category  predicted_intrusion\n",
       "0                0                      62985\n",
       "                 1                       4358\n",
       "1                0                       1052\n",
       "                 1                      44875\n",
       "2                0                       1583\n",
       "                 1                      10073\n",
       "3                0                        610\n",
       "                 1                        385\n",
       "4                0                         23\n",
       "                 1                         29\n",
       "Name: count_scaled, dtype: int64"
      ]
     },
     "execution_count": 41,
     "metadata": {},
     "output_type": "execute_result"
    }
   ],
   "source": [
    "train_df.groupby(['attack_category', 'predicted_intrusion'])['count_scaled'].count()"
   ]
  },
  {
   "cell_type": "code",
   "execution_count": 42,
   "id": "ed4c9b2a",
   "metadata": {},
   "outputs": [
    {
     "name": "stdout",
     "output_type": "stream",
     "text": [
      "0.005464089423791908\n"
     ]
    }
   ],
   "source": [
    "print(mse_threshold_train)"
   ]
  },
  {
   "cell_type": "code",
   "execution_count": 43,
   "id": "013cb250",
   "metadata": {
    "scrolled": true
   },
   "outputs": [
    {
     "data": {
      "image/png": "[encoded data removed]",
      "text/plain": [
       "<Figure size 432x288 with 1 Axes>"
      ]
     },
     "metadata": {
      "needs_background": "light"
     },
     "output_type": "display_data"
    }
   ],
   "source": [
    "classes = train_df['attack_category'].unique()\n",
    "plt.ylabel('Loss')\n",
    "plt.xticks(np.arange(0,5), classes)\n",
    "plt.violinplot([train_df[train_df['attack_category'] == class_]['mse'] for class_ in classes], np.arange(0,len(classes)),showmeans =True )\n",
    "plt.axhline(y=mse_threshold_train,c='r',label=\"Threshold Value\")\n",
    "plt.legend();"
   ]
  },
  {
   "cell_type": "code",
   "execution_count": 44,
   "id": "4437e520",
   "metadata": {
    "scrolled": true
   },
   "outputs": [
    {
     "name": "stdout",
     "output_type": "stream",
     "text": [
      "705/705 [==============================] - 1s 1ms/step\n"
     ]
    }
   ],
   "source": [
    "reconstructions_test = autoencoder.predict(X_test)"
   ]
  },
  {
   "cell_type": "code",
   "execution_count": 45,
   "id": "f9de11fb",
   "metadata": {},
   "outputs": [],
   "source": [
    "mse_test = np.mean(np.power(X_test - reconstructions_test, 2), axis=1)"
   ]
  },
  {
   "cell_type": "code",
   "execution_count": 46,
   "id": "f19961d4",
   "metadata": {
    "scrolled": true
   },
   "outputs": [
    {
     "data": {
      "image/png": "[encoded data removed]",
      "text/plain": [
       "<Figure size 432x432 with 1 Axes>"
      ]
     },
     "metadata": {
      "needs_background": "light"
     },
     "output_type": "display_data"
    }
   ],
   "source": [
    "normal_test = mse_test[y_test==0]\n",
    "attack_test = mse_test[y_test==1]\n",
    "\n",
    "normal_test = [x for x in normal_test if x < 100]\n",
    "attack_test = [x for x in attack_test if x < 100]\n",
    "\n",
    "fig, ax = plt.subplots(figsize=(6,6))\n",
    "\n",
    "ax.hist(normal_test, bins=50, density=True, label=\"normal\", alpha = 0.6, color=\"green\")\n",
    "ax.hist(attack_test, bins=50, density=True, label=\"attack\", alpha = 0.6, color=\"red\")\n",
    "\n",
    "plt.title(\"(Normalized) Distribution of the Reconstruction Loss\")\n",
    "plt.legend()\n",
    "plt.show()"
   ]
  },
  {
   "cell_type": "code",
   "execution_count": 47,
   "id": "c4f84901",
   "metadata": {},
   "outputs": [
    {
     "name": "stdout",
     "output_type": "stream",
     "text": [
      "Detected 10,316 intrusions in a total of 22,544 events [45.76%].\n",
      "The classifications using the MAD method with threshold=1 are as follows:\n",
      "    [[8822  889]\n",
      " [3406 9427]]\n",
      "\n",
      "    % of events labeled as intrusion that were correct (precision): 9427/(889+9427) = 91.38%\n",
      "    % of intrusion were caught succesfully (recall):    9427/(3406+9427) = 73.46%\n",
      "              precision    recall  f1-score   support\n",
      "\n",
      "         0.0       0.72      0.91      0.80      9711\n",
      "         1.0       0.91      0.73      0.81     12833\n",
      "\n",
      "    accuracy                           0.81     22544\n",
      "   macro avg       0.82      0.82      0.81     22544\n",
      "weighted avg       0.83      0.81      0.81     22544\n",
      "\n",
      "F1 score : 0.8144628277679382\n"
     ]
    }
   ],
   "source": [
    "predicted_test, mse_threshold_test = classify(1, mse_test, y_test)"
   ]
  },
  {
   "cell_type": "code",
   "execution_count": 48,
   "id": "90eb1397",
   "metadata": {},
   "outputs": [],
   "source": [
    "test_df['predicted_intrusion'] = predicted_test\n",
    "test_df['mse'] = mse_test\n",
    "test_df['predicted_intrusion'] = test_df['predicted_intrusion'].apply(lambda x: 1 if x == True else 0)"
   ]
  },
  {
   "cell_type": "code",
   "execution_count": 49,
   "id": "013a801e",
   "metadata": {},
   "outputs": [
    {
     "data": {
      "text/plain": [
       "attack_category  predicted_intrusion\n",
       "0                0                      8822\n",
       "                 1                       889\n",
       "1                0                       807\n",
       "                 1                      6653\n",
       "2                0                       483\n",
       "                 1                      1938\n",
       "3                0                      2087\n",
       "                 1                       798\n",
       "4                0                        29\n",
       "                 1                        38\n",
       "Name: count_scaled, dtype: int64"
      ]
     },
     "execution_count": 49,
     "metadata": {},
     "output_type": "execute_result"
    }
   ],
   "source": [
    "test_df.groupby(['attack_category', 'predicted_intrusion'])['count_scaled'].count()"
   ]
  },
  {
   "cell_type": "code",
   "execution_count": 50,
   "id": "af5e1c78",
   "metadata": {},
   "outputs": [
    {
     "data": {
      "image/png": "[encoded data removed]",
      "text/plain": [
       "<Figure size 432x288 with 1 Axes>"
      ]
     },
     "metadata": {
      "needs_background": "light"
     },
     "output_type": "display_data"
    }
   ],
   "source": [
    "classes = test_df['attack_category'].unique()\n",
    "plt.ylabel('Loss')\n",
    "plt.xticks(np.arange(0,5), classes)\n",
    "plt.violinplot([test_df[test_df['attack_category'] == class_]['mse'] for class_ in classes], np.arange(0,len(classes)),showmeans =True )\n",
    "plt.axhline(y=mse_threshold_test,c='r',label=\"Threshold Value\")\n",
    "plt.legend();"
   ]
  },
  {
   "cell_type": "markdown",
   "id": "9af9f158",
   "metadata": {},
   "source": [
    "## Model 2"
   ]
  },
  {
   "cell_type": "code",
   "execution_count": 89,
   "id": "f08446bf",
   "metadata": {},
   "outputs": [],
   "source": [
    "train_xformed = train_data.copy().drop(columns =[\"attack\"])\n",
    "test_xformed = test_data.copy().drop(columns =[\"attack\"])"
   ]
  },
  {
   "cell_type": "code",
   "execution_count": 90,
   "id": "c6960454",
   "metadata": {
    "scrolled": true
   },
   "outputs": [
    {
     "data": {
      "text/plain": [
       "Index(['land', 'logged_in', 'root_shell', 'su_attempted', 'is_host_login',\n",
       "       'is_guest_login', 'protocol_type_icmp', 'protocol_type_tcp',\n",
       "       'protocol_type_udp', 'flag_OTH', 'flag_REJ', 'flag_RSTO', 'flag_RSTOS0',\n",
       "       'flag_RSTR', 'flag_S0', 'flag_S1', 'flag_S2', 'flag_S3', 'flag_SF',\n",
       "       'flag_SH', 'service_encoded_freq', 'attack_category', 'is_attack',\n",
       "       'duration_scaled', 'src_bytes_scaled', 'dst_bytes_scaled',\n",
       "       'wrong_fragment_scaled', 'urgent_scaled', 'hot_scaled',\n",
       "       'num_failed_logins_scaled', 'num_compromised_scaled',\n",
       "       'num_file_creations_scaled', 'num_shells_scaled',\n",
       "       'num_access_files_scaled', 'count_scaled', 'srv_count_scaled',\n",
       "       'same_srv_rate_scaled', 'diff_srv_rate_scaled',\n",
       "       'srv_diff_host_rate_scaled', 'dst_host_count_scaled',\n",
       "       'dst_host_srv_count_scaled', 'dst_host_same_srv_rate_scaled',\n",
       "       'dst_host_diff_srv_rate_scaled', 'dst_host_same_src_port_rate_scaled',\n",
       "       'dst_host_srv_diff_host_rate_scaled', 'serror_rate_combined',\n",
       "       'rerror_rate_combined'],\n",
       "      dtype='object')"
      ]
     },
     "execution_count": 90,
     "metadata": {},
     "output_type": "execute_result"
    }
   ],
   "source": [
    "train_xformed.columns\n"
   ]
  },
  {
   "cell_type": "code",
   "execution_count": 91,
   "id": "c335abe3",
   "metadata": {},
   "outputs": [],
   "source": [
    "from sklearn.preprocessing import OneHotEncoder, LabelEncoder\n",
    "\n",
    "# Initialize One-Hot Encoder\n",
    "encoder = OneHotEncoder(handle_unknown=\"ignore\")\n",
    "\n",
    "## Protocol type\n",
    "# Fit encoder on training data (returns a separate DataFrame)\n",
    "data_ohe = pd.DataFrame(encoder.fit_transform(train_xformed[[\"service_encoded_freq\"]]).toarray())\n",
    "data_ohe.columns = [(\"service\" + str(col)) for col in encoder.categories_[0]]\n",
    "\n",
    "# Join encoded data with original training data\n",
    "train_xformed = pd.concat([train_xformed, data_ohe], axis=1)\n",
    "train_xformed.drop(columns=['service_encoded_freq'], inplace=True)\n",
    "\n",
    "# Transform test data (returns a separate DataFrame)\n",
    "data_ohe = pd.DataFrame(encoder.transform(test_xformed[[\"service_encoded_freq\"]]).toarray())\n",
    "data_ohe.columns = [(\"service\" + str(col)) for col in encoder.categories_[0]]\n",
    "\n",
    "# Join encoded data with original test data\n",
    "test_xformed = pd.concat([test_xformed, data_ohe], axis=1)\n",
    "test_xformed.drop(columns=['service_encoded_freq'], inplace=True)"
   ]
  },
  {
   "cell_type": "code",
   "execution_count": 92,
   "id": "551513f8",
   "metadata": {},
   "outputs": [],
   "source": [
    "from sklearn.model_selection import train_test_split\n",
    "\n",
    "train_df = train_xformed\n",
    "test_df = test_xformed\n",
    "\n",
    "normal = train_df[train_df['is_attack'] == 0]\n",
    "attack = test_df[test_df['is_attack'] == 1]\n",
    "\n",
    "# shuffle training data\n",
    "normal = normal.sample(frac=1).reset_index(drop=True)\n",
    "\n",
    "X_train = normal.drop(columns = ['is_attack', 'attack_category'])\n",
    "\n",
    "X_train, X_validate = train_test_split(X_train, \n",
    "                                       test_size=0.2, \n",
    "                                       random_state=RANDOM_SEED)\n",
    "\n",
    "X_all, y_all, attack_cat_all = train_df.drop(columns=['is_attack', 'attack_category']), train_df['is_attack'], train_df['attack_category']\n",
    "\n",
    "X_test, y_test, attack_cat = test_df.drop(columns=['is_attack', 'attack_category']), test_data['is_attack'], test_data['attack_category']\n",
    "\n"
   ]
  },
  {
   "cell_type": "code",
   "execution_count": 110,
   "id": "a71a884c",
   "metadata": {},
   "outputs": [
    {
     "name": "stdout",
     "output_type": "stream",
     "text": [
      "Model: \"sequential_6\"\n",
      "_________________________________________________________________\n",
      " Layer (type)                Output Shape              Param #   \n",
      "=================================================================\n",
      " dropout_3 (Dropout)         (None, 110)               0         \n",
      "                                                                 \n",
      " dense_30 (Dense)            (None, 8)                 888       \n",
      "                                                                 \n",
      " dense_31 (Dense)            (None, 110)               990       \n",
      "                                                                 \n",
      "=================================================================\n",
      "Total params: 1,878\n",
      "Trainable params: 1,878\n",
      "Non-trainable params: 0\n",
      "_________________________________________________________________\n"
     ]
    }
   ],
   "source": [
    "input_dim = X_train.shape[1]\n",
    "BATCH_SIZE = 100\n",
    "EPOCHS = 50\n",
    "\n",
    "autoencoder2 = tf.keras.models.Sequential([\n",
    "    # deconstruct / encode\n",
    "    tf.keras.layers.Dropout(.5, input_shape=(input_dim,)),\n",
    "    tf.keras.layers.Dense(8, activation='relu', activity_regularizer=tf.keras.regularizers.l2(10e-5)),\n",
    "\n",
    "    # reconstruction / decode\n",
    "    tf.keras.layers.Dense(input_dim, activation='relu')\n",
    "    \n",
    "])\n",
    "\n",
    "autoencoder2.compile(optimizer=\"adam\", \n",
    "                    loss=\"mse\")\n",
    "\n",
    "# print an overview of our model\n",
    "autoencoder2.summary();"
   ]
  },
  {
   "cell_type": "code",
   "execution_count": 111,
   "id": "4bf3a815",
   "metadata": {},
   "outputs": [
    {
     "name": "stdout",
     "output_type": "stream",
     "text": [
      "Epoch 1/50\n",
      "539/539 [==============================] - 2s 2ms/step - loss: 0.0226 - val_loss: 0.0098\n",
      "Epoch 2/50\n",
      "539/539 [==============================] - 1s 2ms/step - loss: 0.0125 - val_loss: 0.0075\n",
      "Epoch 3/50\n",
      "539/539 [==============================] - 1s 2ms/step - loss: 0.0112 - val_loss: 0.0067\n",
      "Epoch 4/50\n",
      "539/539 [==============================] - 1s 2ms/step - loss: 0.0106 - val_loss: 0.0063\n",
      "Epoch 5/50\n",
      "539/539 [==============================] - 1s 2ms/step - loss: 0.0103 - val_loss: 0.0061\n",
      "Epoch 6/50\n",
      "539/539 [==============================] - 3s 6ms/step - loss: 0.0101 - val_loss: 0.0060\n",
      "Epoch 7/50\n",
      "539/539 [==============================] - 1s 2ms/step - loss: 0.0100 - val_loss: 0.0060\n",
      "Epoch 8/50\n",
      "539/539 [==============================] - 1s 2ms/step - loss: 0.0099 - val_loss: 0.0058\n",
      "Epoch 9/50\n",
      "539/539 [==============================] - 1s 2ms/step - loss: 0.0099 - val_loss: 0.0058\n",
      "Epoch 10/50\n",
      "539/539 [==============================] - 1s 2ms/step - loss: 0.0099 - val_loss: 0.0058\n",
      "Epoch 11/50\n",
      "539/539 [==============================] - 1s 2ms/step - loss: 0.0098 - val_loss: 0.0056\n",
      "Epoch 12/50\n",
      "539/539 [==============================] - 1s 2ms/step - loss: 0.0097 - val_loss: 0.0056\n",
      "Epoch 13/50\n",
      "539/539 [==============================] - 1s 2ms/step - loss: 0.0097 - val_loss: 0.0056\n",
      "Epoch 14/50\n",
      "539/539 [==============================] - 1s 2ms/step - loss: 0.0096 - val_loss: 0.0056\n",
      "Epoch 15/50\n",
      "539/539 [==============================] - 1s 2ms/step - loss: 0.0097 - val_loss: 0.0055\n",
      "Epoch 16/50\n",
      "539/539 [==============================] - 1s 2ms/step - loss: 0.0096 - val_loss: 0.0055\n",
      "Epoch 17/50\n",
      "539/539 [==============================] - 1s 2ms/step - loss: 0.0095 - val_loss: 0.0054\n",
      "Epoch 18/50\n",
      "539/539 [==============================] - 1s 2ms/step - loss: 0.0095 - val_loss: 0.0055\n",
      "Epoch 19/50\n",
      "539/539 [==============================] - 1s 2ms/step - loss: 0.0095 - val_loss: 0.0054\n",
      "Epoch 20/50\n",
      "539/539 [==============================] - 1s 2ms/step - loss: 0.0095 - val_loss: 0.0054\n",
      "Epoch 21/50\n",
      "539/539 [==============================] - 1s 2ms/step - loss: 0.0094 - val_loss: 0.0054\n",
      "Epoch 22/50\n",
      "539/539 [==============================] - 1s 2ms/step - loss: 0.0093 - val_loss: 0.0053\n",
      "Epoch 23/50\n",
      "539/539 [==============================] - 1s 2ms/step - loss: 0.0094 - val_loss: 0.0054\n",
      "Epoch 24/50\n",
      "539/539 [==============================] - 1s 2ms/step - loss: 0.0094 - val_loss: 0.0053\n",
      "Epoch 25/50\n",
      "539/539 [==============================] - 1s 2ms/step - loss: 0.0094 - val_loss: 0.0053\n",
      "Epoch 26/50\n",
      "539/539 [==============================] - 1s 2ms/step - loss: 0.0094 - val_loss: 0.0053\n",
      "Epoch 27/50\n",
      "539/539 [==============================] - 1s 2ms/step - loss: 0.0093 - val_loss: 0.0053\n",
      "Epoch 28/50\n",
      "539/539 [==============================] - 1s 2ms/step - loss: 0.0094 - val_loss: 0.0053\n",
      "Epoch 29/50\n",
      "539/539 [==============================] - 1s 2ms/step - loss: 0.0094 - val_loss: 0.0053\n",
      "Epoch 30/50\n",
      "539/539 [==============================] - 1s 2ms/step - loss: 0.0094 - val_loss: 0.0053\n",
      "Epoch 31/50\n",
      "539/539 [==============================] - 1s 2ms/step - loss: 0.0093 - val_loss: 0.0054\n",
      "Epoch 32/50\n",
      "539/539 [==============================] - 1s 2ms/step - loss: 0.0093 - val_loss: 0.0053\n",
      "Epoch 33/50\n",
      "539/539 [==============================] - 1s 2ms/step - loss: 0.0091 - val_loss: 0.0053\n",
      "Epoch 34/50\n",
      "539/539 [==============================] - 1s 2ms/step - loss: 0.0093 - val_loss: 0.0053\n",
      "Epoch 35/50\n",
      "539/539 [==============================] - 1s 2ms/step - loss: 0.0092 - val_loss: 0.0053\n",
      "Epoch 36/50\n",
      "539/539 [==============================] - 1s 2ms/step - loss: 0.0093 - val_loss: 0.0053\n",
      "Epoch 37/50\n",
      "539/539 [==============================] - 1s 3ms/step - loss: 0.0092 - val_loss: 0.0053\n",
      "Epoch 38/50\n",
      "539/539 [==============================] - 1s 2ms/step - loss: 0.0092 - val_loss: 0.0053\n",
      "Epoch 39/50\n",
      "539/539 [==============================] - 1s 2ms/step - loss: 0.0092 - val_loss: 0.0053\n",
      "Epoch 40/50\n",
      "539/539 [==============================] - 1s 2ms/step - loss: 0.0092 - val_loss: 0.0052\n",
      "Epoch 41/50\n",
      "539/539 [==============================] - 1s 2ms/step - loss: 0.0092 - val_loss: 0.0052\n",
      "Epoch 42/50\n",
      "539/539 [==============================] - 1s 3ms/step - loss: 0.0092 - val_loss: 0.0053\n",
      "Epoch 43/50\n",
      "539/539 [==============================] - 1s 2ms/step - loss: 0.0093 - val_loss: 0.0052\n",
      "Epoch 44/50\n",
      "539/539 [==============================] - 1s 2ms/step - loss: 0.0092 - val_loss: 0.0052\n",
      "Epoch 45/50\n",
      "539/539 [==============================] - 1s 2ms/step - loss: 0.0091 - val_loss: 0.0052\n",
      "Epoch 46/50\n",
      "539/539 [==============================] - 1s 2ms/step - loss: 0.0091 - val_loss: 0.0053\n",
      "Epoch 47/50\n",
      "539/539 [==============================] - 1s 2ms/step - loss: 0.0092 - val_loss: 0.0052\n",
      "Epoch 48/50\n",
      "539/539 [==============================] - 1s 2ms/step - loss: 0.0092 - val_loss: 0.0052\n",
      "Epoch 49/50\n",
      "539/539 [==============================] - 1s 2ms/step - loss: 0.0092 - val_loss: 0.0053\n",
      "Epoch 50/50\n",
      "539/539 [==============================] - 1s 2ms/step - loss: 0.0092 - val_loss: 0.0052\n"
     ]
    }
   ],
   "source": [
    "auto_history2 = autoencoder2.fit(\n",
    "    X_train, X_train,\n",
    "    shuffle=True,\n",
    "    epochs=EPOCHS,\n",
    "    batch_size=BATCH_SIZE,\n",
    "    validation_data=(X_validate, X_validate)\n",
    ");"
   ]
  },
  {
   "cell_type": "code",
   "execution_count": 112,
   "id": "119b16e6",
   "metadata": {},
   "outputs": [
    {
     "data": {
      "text/plain": [
       "<matplotlib.legend.Legend at 0x7fcfa063d940>"
      ]
     },
     "execution_count": 112,
     "metadata": {},
     "output_type": "execute_result"
    },
    {
     "data": {
      "image/png": "[encoded data removed]",
      "text/plain": [
       "<Figure size 432x288 with 1 Axes>"
      ]
     },
     "metadata": {
      "needs_background": "light"
     },
     "output_type": "display_data"
    }
   ],
   "source": [
    "plt.plot(range(50), auto_history2.history['loss'],'r', label='Train-loss')\n",
    "plt.plot(range(50), auto_history2.history['val_loss'],'b', label='Val-loss')\n",
    "plt.title('Dataset2: Autoencoder: Loss curves')\n",
    "plt.xlabel('Epochs')\n",
    "plt.ylabel('Loss')\n",
    "plt.legend()"
   ]
  },
  {
   "cell_type": "code",
   "execution_count": 113,
   "id": "04389160",
   "metadata": {},
   "outputs": [
    {
     "name": "stdout",
     "output_type": "stream",
     "text": [
      "3937/3937 [==============================] - 4s 958us/step\n"
     ]
    },
    {
     "data": {
      "image/png": "[encoded data removed]",
      "text/plain": [
       "<Figure size 432x432 with 1 Axes>"
      ]
     },
     "metadata": {
      "needs_background": "light"
     },
     "output_type": "display_data"
    }
   ],
   "source": [
    "reconstructions_train = autoencoder2.predict(X_all)\n",
    "mse_train = np.mean(np.power(X_all - reconstructions_train, 2), axis=1)\n",
    "\n",
    "normal_train = mse_train[y_all==0]\n",
    "attack_train = mse_train[y_all==1]\n",
    "\n",
    "normal_train = [x for x in normal_train if x < 100]\n",
    "attack_train = [x for x in attack_train if x < 100]\n",
    "\n",
    "fig, ax = plt.subplots(figsize=(6,6))\n",
    "\n",
    "ax.hist(normal_train, bins=50, density=True, label=\"normal\", alpha = 0.6, color=\"green\")\n",
    "ax.hist(attack_train, bins=50, density=True, label=\"attack\", alpha = 0.6, color=\"red\")\n",
    "\n",
    "plt.title(\"(Normalized) Distribution of the Reconstruction Loss\")\n",
    "plt.legend()\n",
    "plt.show()"
   ]
  },
  {
   "cell_type": "code",
   "execution_count": 114,
   "id": "8a79f47d",
   "metadata": {},
   "outputs": [],
   "source": [
    "from sklearn.metrics import (confusion_matrix, precision_recall_curve, classification_report, f1_score)\n",
    "\n",
    "def classify(THRESHOLD, mse, y):\n",
    "    m = np.median(mse)\n",
    "    ad = np.abs(mse - m)\n",
    "    mad = np.median(ad)\n",
    "    z_scores = 0.6745 * ad / mad\n",
    "    \n",
    "    outliers = z_scores > THRESHOLD\n",
    "    mse_threshold = m + THRESHOLD * mad / 0.6745 \n",
    "    \n",
    "    print(f\"Detected {np.sum(outliers):,} intrusions in a total of {np.size(z_scores):,} events [{np.sum(outliers)/np.size(z_scores):.2%}].\")\n",
    "\n",
    "    # get (mis)classification\n",
    "    cm = confusion_matrix(y, outliers)\n",
    "\n",
    "    # true/false positives/negativesb\n",
    "    (tn, fp, \n",
    "     fn, tp) = cm.flatten()\n",
    "    \n",
    "    print(f\"\"\"The classifications using the MAD method with threshold={THRESHOLD} are as follows:\n",
    "    {cm}\n",
    "\n",
    "    % of events labeled as intrusion that were correct (precision): {tp}/({fp}+{tp}) = {tp/(fp+tp):.2%}\n",
    "    % of intrusion were caught succesfully (recall):    {tp}/({fn}+{tp}) = {tp/(fn+tp):.2%}\"\"\")\n",
    "    \n",
    "    print(classification_report(y, outliers))\n",
    "    print(\"F1 score : \" + str(f1_score(y, outliers)))\n",
    "    \n",
    "    return outliers, mse_threshold\n",
    "    "
   ]
  },
  {
   "cell_type": "code",
   "execution_count": 115,
   "id": "25f2cab9",
   "metadata": {},
   "outputs": [
    {
     "name": "stdout",
     "output_type": "stream",
     "text": [
      "Detected 49,633 intrusions in a total of 125,973 events [39.40%].\n",
      "The classifications using the MAD method with threshold=1 are as follows:\n",
      "    [[66986   357]\n",
      " [ 9354 49276]]\n",
      "\n",
      "    % of events labeled as intrusion that were correct (precision): 49276/(357+49276) = 99.28%\n",
      "    % of intrusion were caught succesfully (recall):    49276/(9354+49276) = 84.05%\n",
      "              precision    recall  f1-score   support\n",
      "\n",
      "         0.0       0.88      0.99      0.93     67343\n",
      "         1.0       0.99      0.84      0.91     58630\n",
      "\n",
      "    accuracy                           0.92    125973\n",
      "   macro avg       0.94      0.92      0.92    125973\n",
      "weighted avg       0.93      0.92      0.92    125973\n",
      "\n",
      "F1 score : 0.9103017651459872\n"
     ]
    }
   ],
   "source": [
    "predicted_train, mse_threshold_train = classify(1, mse_train, y_all)"
   ]
  },
  {
   "cell_type": "code",
   "execution_count": 116,
   "id": "5ac5b6e1",
   "metadata": {},
   "outputs": [],
   "source": [
    "train_df['predicted_intrusion'] = predicted_train\n",
    "train_df['mse'] = mse_train\n",
    "train_df['predicted_intrusion'] = train_df['predicted_intrusion'].apply(lambda x: 1 if x == True else 0)"
   ]
  },
  {
   "cell_type": "code",
   "execution_count": 132,
   "id": "01ec48a4",
   "metadata": {},
   "outputs": [],
   "source": [
    "threshold_new = auto_history2.history['loss'][-1]\n",
    "train_df['predicted_intrusion2'] = train_df['mse'].apply(lambda x: 1 if x > threshold_new else 0)"
   ]
  },
  {
   "cell_type": "code",
   "execution_count": 133,
   "id": "fca5a750",
   "metadata": {},
   "outputs": [
    {
     "name": "stdout",
     "output_type": "stream",
     "text": [
      "              precision    recall  f1-score   support\n",
      "\n",
      "         0.0       0.97      0.75      0.85     67343\n",
      "         1.0       0.78      0.97      0.86     58630\n",
      "\n",
      "    accuracy                           0.86    125973\n",
      "   macro avg       0.87      0.86      0.86    125973\n",
      "weighted avg       0.88      0.86      0.85    125973\n",
      "\n"
     ]
    }
   ],
   "source": [
    "print(classification_report(y_all, train_df['predicted_intrusion2']))"
   ]
  },
  {
   "cell_type": "code",
   "execution_count": 135,
   "id": "a6611380",
   "metadata": {},
   "outputs": [
    {
     "data": {
      "text/plain": [
       "attack_category  predicted_intrusion2\n",
       "0                0                       50825\n",
       "                 1                       16518\n",
       "1                0                         765\n",
       "                 1                       45162\n",
       "2                0                         173\n",
       "                 1                       11483\n",
       "3                0                         732\n",
       "                 1                         263\n",
       "4                0                           8\n",
       "                 1                          44\n",
       "Name: count_scaled, dtype: int64"
      ]
     },
     "execution_count": 135,
     "metadata": {},
     "output_type": "execute_result"
    }
   ],
   "source": [
    "train_df.groupby(['attack_category', 'predicted_intrusion2'])['count_scaled'].count()"
   ]
  },
  {
   "cell_type": "code",
   "execution_count": 117,
   "id": "c755b471",
   "metadata": {},
   "outputs": [
    {
     "data": {
      "text/plain": [
       "attack_category  predicted_intrusion\n",
       "0                0                      66986\n",
       "                 1                        357\n",
       "1                0                       2626\n",
       "                 1                      43301\n",
       "2                0                       5756\n",
       "                 1                       5900\n",
       "3                0                        927\n",
       "                 1                         68\n",
       "4                0                         45\n",
       "                 1                          7\n",
       "Name: count_scaled, dtype: int64"
      ]
     },
     "execution_count": 117,
     "metadata": {},
     "output_type": "execute_result"
    }
   ],
   "source": [
    "train_df.groupby(['attack_category', 'predicted_intrusion'])['count_scaled'].count()"
   ]
  },
  {
   "cell_type": "code",
   "execution_count": 118,
   "id": "8e782631",
   "metadata": {},
   "outputs": [
    {
     "name": "stdout",
     "output_type": "stream",
     "text": [
      "0.03412879505744541\n"
     ]
    }
   ],
   "source": [
    "print(mse_threshold_train)"
   ]
  },
  {
   "cell_type": "code",
   "execution_count": 119,
   "id": "c59b61de",
   "metadata": {},
   "outputs": [
    {
     "data": {
      "image/png": "[encoded data removed]",
      "text/plain": [
       "<Figure size 432x288 with 1 Axes>"
      ]
     },
     "metadata": {
      "needs_background": "light"
     },
     "output_type": "display_data"
    }
   ],
   "source": [
    "classes = train_df['attack_category'].unique()\n",
    "plt.ylabel('Loss')\n",
    "plt.xticks(np.arange(0,5), classes)\n",
    "plt.violinplot([train_df[train_df['attack_category'] == class_]['mse'] for class_ in classes], np.arange(0,len(classes)),showmeans =True )\n",
    "plt.axhline(y=mse_threshold_train,c='r',label=\"Threshold Value\")\n",
    "plt.legend();"
   ]
  },
  {
   "cell_type": "code",
   "execution_count": 120,
   "id": "6a9996ba",
   "metadata": {},
   "outputs": [
    {
     "name": "stdout",
     "output_type": "stream",
     "text": [
      "705/705 [==============================] - 1s 1ms/step\n"
     ]
    }
   ],
   "source": [
    "reconstructions_test = autoencoder2.predict(X_test)"
   ]
  },
  {
   "cell_type": "code",
   "execution_count": 121,
   "id": "c4eeaea0",
   "metadata": {},
   "outputs": [],
   "source": [
    "mse_test = np.mean(np.power(X_test - reconstructions_test, 2), axis=1)"
   ]
  },
  {
   "cell_type": "code",
   "execution_count": 122,
   "id": "68a23784",
   "metadata": {},
   "outputs": [
    {
     "data": {
      "image/png": "[encoded data removed]",
      "text/plain": [
       "<Figure size 432x432 with 1 Axes>"
      ]
     },
     "metadata": {
      "needs_background": "light"
     },
     "output_type": "display_data"
    }
   ],
   "source": [
    "normal_test = mse_test[y_test==0]\n",
    "attack_test = mse_test[y_test==1]\n",
    "\n",
    "normal_test = [x for x in normal_test if x < 100]\n",
    "attack_test = [x for x in attack_test if x < 100]\n",
    "\n",
    "fig, ax = plt.subplots(figsize=(6,6))\n",
    "\n",
    "ax.hist(normal_test, bins=50, density=True, label=\"normal\", alpha = 0.6, color=\"green\")\n",
    "ax.hist(attack_test, bins=50, density=True, label=\"attack\", alpha = 0.6, color=\"red\")\n",
    "\n",
    "plt.title(\"(Normalized) Distribution of the Reconstruction Loss\")\n",
    "plt.legend()\n",
    "plt.show()"
   ]
  },
  {
   "cell_type": "code",
   "execution_count": 129,
   "id": "31fce643",
   "metadata": {},
   "outputs": [
    {
     "name": "stdout",
     "output_type": "stream",
     "text": [
      "Detected 7,389 intrusions in a total of 22,544 events [32.78%].\n",
      "The classifications using the MAD method with threshold=1 are as follows:\n",
      "    [[9629   82]\n",
      " [5526 7307]]\n",
      "\n",
      "    % of events labeled as intrusion that were correct (precision): 7307/(82+7307) = 98.89%\n",
      "    % of intrusion were caught succesfully (recall):    7307/(5526+7307) = 56.94%\n",
      "              precision    recall  f1-score   support\n",
      "\n",
      "         0.0       0.64      0.99      0.77      9711\n",
      "         1.0       0.99      0.57      0.72     12833\n",
      "\n",
      "    accuracy                           0.75     22544\n",
      "   macro avg       0.81      0.78      0.75     22544\n",
      "weighted avg       0.84      0.75      0.74     22544\n",
      "\n",
      "F1 score : 0.7226782711897933\n"
     ]
    }
   ],
   "source": [
    "predicted_test, mse_threshold_test = classify(1, mse_test, y_test)"
   ]
  },
  {
   "cell_type": "code",
   "execution_count": 124,
   "id": "a52fa851",
   "metadata": {},
   "outputs": [],
   "source": [
    "test_df['predicted_intrusion'] = predicted_test\n",
    "test_df['mse'] = mse_test\n",
    "test_df['predicted_intrusion'] = test_df['predicted_intrusion'].apply(lambda x: 1 if x == True else 0)"
   ]
  },
  {
   "cell_type": "code",
   "execution_count": 125,
   "id": "555d938d",
   "metadata": {},
   "outputs": [
    {
     "data": {
      "text/plain": [
       "attack_category  predicted_intrusion\n",
       "0                0                      9629\n",
       "                 1                        82\n",
       "1                0                      1866\n",
       "                 1                      5594\n",
       "2                0                       738\n",
       "                 1                      1683\n",
       "3                0                      2859\n",
       "                 1                        26\n",
       "4                0                        63\n",
       "                 1                         4\n",
       "Name: count_scaled, dtype: int64"
      ]
     },
     "execution_count": 125,
     "metadata": {},
     "output_type": "execute_result"
    }
   ],
   "source": [
    "test_df.groupby(['attack_category', 'predicted_intrusion'])['count_scaled'].count()"
   ]
  },
  {
   "cell_type": "code",
   "execution_count": 126,
   "id": "44b8237f",
   "metadata": {},
   "outputs": [
    {
     "data": {
      "image/png": "[encoded data removed]",
      "text/plain": [
       "<Figure size 432x288 with 1 Axes>"
      ]
     },
     "metadata": {
      "needs_background": "light"
     },
     "output_type": "display_data"
    }
   ],
   "source": [
    "classes = test_df['attack_category'].unique()\n",
    "plt.ylabel('Loss')\n",
    "plt.xticks(np.arange(0,5), classes)\n",
    "plt.violinplot([test_df[test_df['attack_category'] == class_]['mse'] for class_ in classes], np.arange(0,len(classes)),showmeans =True )\n",
    "plt.axhline(y=mse_threshold_test,c='r',label=\"Threshold Value\")\n",
    "plt.legend();"
   ]
  },
  {
   "cell_type": "code",
   "execution_count": null,
   "id": "322aaf01",
   "metadata": {},
   "outputs": [],
   "source": []
  }
 ],
 "metadata": {
  "kernelspec": {
   "display_name": "Python 3 (ipykernel)",
   "language": "python",
   "name": "python3"
  },
  "language_info": {
   "codemirror_mode": {
    "name": "ipython",
    "version": 3
   },
   "file_extension": ".py",
   "mimetype": "text/x-python",
   "name": "python",
   "nbconvert_exporter": "python",
   "pygments_lexer": "ipython3",
   "version": "3.9.7"
  }
 },
 "nbformat": 4,
 "nbformat_minor": 5
}
