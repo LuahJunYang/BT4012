{
 "cells": [
  {
   "cell_type": "code",
   "execution_count": 281,
   "metadata": {},
   "outputs": [],
   "source": [
    "import pandas as pd\n",
    "import numpy as np\n",
    "import xgboost as xgb\n",
    "from sklearn.linear_model import LogisticRegression\n",
    "import lightgbm as lgb\n",
    "from sklearn.ensemble import RandomForestClassifier\n",
    "from sklearn.model_selection import train_test_split\n",
    "from sklearn.ensemble import StackingClassifier\n",
    "from sklearn.model_selection import StratifiedKFold\n",
    "from collections import Counter\n",
    "from imblearn.over_sampling import SMOTE\n",
    "\n",
    "\n",
    "from sklearn.metrics import accuracy_score, precision_score, recall_score, f1_score\n",
    "from sklearn.model_selection import GridSearchCV\n",
    "from hyperopt import hp \n",
    "from hyperopt import fmin, tpe, Trials \n",
    "\n",
    "import warnings\n",
    "warnings.simplefilter(action='ignore', category=FutureWarning)\n",
    "warnings.simplefilter(action='ignore', category=UserWarning)"
   ]
  },
  {
   "cell_type": "code",
   "execution_count": 260,
   "metadata": {},
   "outputs": [],
   "source": [
    "train_dataset = pd.read_csv('Datasets/train_dataset.csv')\n",
    "test_dataset = pd.read_csv('Datasets/test_dataset.csv')\n",
    "\n",
    "PCA_train_dataset = pd.read_csv('Datasets/PCA_train_data.csv')\n",
    "PCA_test_dataset = pd.read_csv('Datasets/PCA_test_data.csv')\n",
    "\n",
    "Tree_train_dataset = pd.read_csv('Datasets/Tree_train_data.csv')\n",
    "Tree_test_dataset = pd.read_csv('Datasets/Tree_test_data.csv')"
   ]
  },
  {
   "cell_type": "code",
   "execution_count": 261,
   "metadata": {},
   "outputs": [],
   "source": [
    "X_train = train_dataset.drop(['is_attack' , 'attack_category' , 'attack'], axis=1)\n",
    "y_train = train_dataset['attack_category']\n",
    "\n",
    "X_test = test_dataset.drop(['is_attack' , 'attack_category' , 'attack'], axis=1)\n",
    "y_test = test_dataset['attack_category']\n",
    "\n",
    "X_pca_train = PCA_train_dataset.drop(columns=['is_attack', 'attack_category',\"attack\"], axis = 1)\n",
    "y_pca_train = PCA_train_dataset[\"attack_category\"]\n",
    "\n",
    "X_pca_test = PCA_test_dataset.drop(columns=['is_attack', 'attack_category',\"attack\"], axis = 1)\n",
    "y_pca_test= PCA_test_dataset[\"attack_category\"]\n",
    "\n",
    "X_tree_train = Tree_train_dataset.drop(columns=['is_attack', 'attack_category',\"attack\"], axis = 1)\n",
    "y_tree_train = Tree_train_dataset[\"attack_category\"]\n",
    "\n",
    "X_tree_test = Tree_test_dataset.drop(columns=['is_attack', 'attack_category',\"attack\"], axis = 1)\n",
    "y_tree_test= Tree_test_dataset[\"attack_category\"]"
   ]
  },
  {
   "cell_type": "code",
   "execution_count": 262,
   "metadata": {},
   "outputs": [],
   "source": [
    "def train_model(model, X, y):\n",
    "    skf = StratifiedKFold(n_splits=5)\n",
    "\n",
    "    accuracy_scores = []\n",
    "    precision_scores = []\n",
    "    recall_scores = []\n",
    "    f1_scores = []\n",
    "\n",
    "    for train_index, test_index in skf.split(X, y):\n",
    "        X_train, y_train = X.iloc[train_index], y.iloc[train_index]\n",
    "        X_test, y_test = X.iloc[test_index], y.iloc[test_index]\n",
    "\n",
    "        model.fit(X_train, y_train)\n",
    "\n",
    "        pred = model.predict(X_test)\n",
    "        accuracy = accuracy_score(y_test, pred)\n",
    "        precision = precision_score(y_test, pred, average='weighted')\n",
    "        recall = recall_score(y_test, pred, average='weighted') \n",
    "        f1 = f1_score(y_test, pred, average='weighted') \n",
    "\n",
    "        accuracy_scores.append(accuracy)\n",
    "        precision_scores.append(precision)\n",
    "        recall_scores.append(recall)\n",
    "        f1_scores.append(f1)\n",
    "\n",
    "    # print('{0} Accuracy: {1: .5f} Precision: {2: .5f} Recall: {3: .5f} F1_Score: {4: .5f}'.format(\n",
    "    #     model.__class__.__name__, \n",
    "    #     np.mean(accuracy_scores),\n",
    "    #     np.mean(precision_scores),\n",
    "    #     np.mean(recall_scores),\n",
    "    #     np.mean(f1_scores)))\n",
    "    \n",
    "    return -np.mean(f1_scores)"
   ]
  },
  {
   "cell_type": "code",
   "execution_count": 263,
   "metadata": {},
   "outputs": [],
   "source": [
    "def evaluate(model, X_train, y_train, X_test, y_test):\n",
    "    \n",
    "    model.fit(X_train, y_train)\n",
    "    \n",
    "    y_pred = model.predict(X_test)\n",
    "    \n",
    "    accuracy = accuracy_score(y_test, y_pred)\n",
    "    precision = precision_score(y_test, y_pred, average='weighted')\n",
    "    recall = recall_score(y_test, y_pred, average='weighted')\n",
    "    f1 = f1_score(y_test, y_pred, average='weighted')\n",
    "    \n",
    "    print(\"Model: \", model.__class__.__name__)\n",
    "    print(\"Accuracy: \", accuracy)\n",
    "    print(\"Precision: \", precision)\n",
    "    print(\"Recall: \", recall)\n",
    "    print(\"F1 Score: \", f1)\n",
    "    print(\"####################################\")\n",
    "    \n",
    "    # report = classification_report(y_test, y_pred)\n",
    "    # print(\"Classification Report:\\n\", report)\n",
    "    \n",
    "    return f1"
   ]
  },
  {
   "cell_type": "code",
   "execution_count": 264,
   "metadata": {},
   "outputs": [],
   "source": [
    "def best_params(objective_func, search_space):\n",
    "    trials = Trials() \n",
    "\n",
    "    best = fmin(fn=objective_func,\n",
    "                space=search_space,\n",
    "                algo=tpe.suggest,\n",
    "                max_evals=20,\n",
    "                trials=trials,\n",
    "                rstate=np.random.default_rng(seed=30))\n",
    "\n",
    "    print('Best Parameters:', best)\n",
    "    return best "
   ]
  },
  {
   "attachments": {},
   "cell_type": "markdown",
   "metadata": {},
   "source": [
    "# Hyperparameter Tuning for XGB, LOGREG, LGBM"
   ]
  },
  {
   "attachments": {},
   "cell_type": "markdown",
   "metadata": {},
   "source": [
    "## Original Dataset - SMOTE"
   ]
  },
  {
   "cell_type": "code",
   "execution_count": 285,
   "metadata": {},
   "outputs": [
    {
     "name": "stdout",
     "output_type": "stream",
     "text": [
      "Before SMOTE: Counter({0: 67343, 1: 45927, 2: 11656, 3: 995, 4: 52})\n",
      "After SMOTE: Counter({0: 67343, 1: 45927, 2: 11656, 3: 10000, 4: 5000})\n"
     ]
    }
   ],
   "source": [
    "print(\"Before SMOTE:\", Counter(y_train))\n",
    "sampling_strategy = {3: 10000, 4: 5000}\n",
    "\n",
    "# Instantiating the SMOTE object\n",
    "smote = SMOTE(random_state = 42, sampling_strategy = sampling_strategy)\n",
    "\n",
    "# Applying SMOTE to generate synthetic samples\n",
    "X_train_resampled, y_train_resampled = smote.fit_resample(X_train, y_train)\n",
    "\n",
    "print(\"After SMOTE:\", Counter(y_train_resampled))"
   ]
  },
  {
   "attachments": {},
   "cell_type": "markdown",
   "metadata": {},
   "source": [
    "### XGBoost - Original Dataset w SMOTE"
   ]
  },
  {
   "cell_type": "code",
   "execution_count": 292,
   "metadata": {},
   "outputs": [
    {
     "name": "stdout",
     "output_type": "stream",
     "text": [
      "100%|██████████| 20/20 [1:24:19<00:00, 252.98s/trial, best loss: -0.9992065653101951]\n",
      "Best Parameters: {'colsample_bytree': 0.8371007539065887, 'learning_rate': 0.1473837710525076, 'max_depth': 5.0, 'min_child_weight': 3.0, 'n_estimators': 400.0, 'subsample': 0.9500425300788807}\n"
     ]
    }
   ],
   "source": [
    "# optimize f1_score\n",
    "xgboost_search_space = {\n",
    "    'learning_rate': hp.uniform('learning_rate', 0.01, 0.3),\n",
    "    'n_estimators': hp.quniform('n_estimators', 50, 500, 50),\n",
    "    'max_depth': hp.quniform('max_depth', 3, 10, 1),\n",
    "    'min_child_weight': hp.quniform('min_child_weight', 1, 10, 1),\n",
    "    'subsample': hp.uniform('subsample', 0.6, 1.0),\n",
    "    'colsample_bytree': hp.uniform('colsample_bytree', 0.6, 1.0),\n",
    "}\n",
    "\n",
    "def xgboost_objective_func(search_space):\n",
    "    xgboost_clf = xgb.XGBClassifier(\n",
    "        learning_rate=search_space['learning_rate'],\n",
    "        n_estimators=int(search_space['n_estimators']),\n",
    "        max_depth=int(search_space['max_depth']),\n",
    "        min_child_weight=int(search_space['min_child_weight']),\n",
    "        subsample=search_space['subsample'],\n",
    "        colsample_bytree=search_space['colsample_bytree'],\n",
    "        random_state=42\n",
    "    )\n",
    "    \n",
    "    return train_model(xgboost_clf, X_train_resampled, y_train_resampled)\n",
    "\n",
    "xgboost_smote_best = best_params(xgboost_objective_func, xgboost_search_space)"
   ]
  },
  {
   "cell_type": "code",
   "execution_count": 293,
   "metadata": {},
   "outputs": [
    {
     "data": {
      "text/plain": [
       "{'colsample_bytree': 0.8371007539065887,\n",
       " 'learning_rate': 0.1473837710525076,\n",
       " 'max_depth': 5.0,\n",
       " 'min_child_weight': 3.0,\n",
       " 'n_estimators': 400.0,\n",
       " 'subsample': 0.9500425300788807}"
      ]
     },
     "execution_count": 293,
     "metadata": {},
     "output_type": "execute_result"
    }
   ],
   "source": [
    "xgboost_smote_best"
   ]
  },
  {
   "cell_type": "code",
   "execution_count": 294,
   "metadata": {},
   "outputs": [
    {
     "name": "stdout",
     "output_type": "stream",
     "text": [
      "Model:  XGBClassifier\n",
      "Accuracy:  0.7837562100780695\n",
      "Precision:  0.8348013303379662\n",
      "Recall:  0.7837562100780695\n",
      "F1 Score:  0.7522161328476877\n",
      "####################################\n"
     ]
    },
    {
     "data": {
      "text/plain": [
       "0.7522161328476877"
      ]
     },
     "execution_count": 294,
     "metadata": {},
     "output_type": "execute_result"
    }
   ],
   "source": [
    "xgboost_clf = xgb.XGBClassifier(\n",
    "    learning_rate=xgboost_smote_best['learning_rate'],\n",
    "    n_estimators=int(xgboost_smote_best['n_estimators']),\n",
    "    max_depth=int(xgboost_smote_best['max_depth']),\n",
    "    min_child_weight=int(xgboost_smote_best['min_child_weight']),\n",
    "    subsample=xgboost_smote_best['subsample'],\n",
    "    colsample_bytree=xgboost_smote_best['colsample_bytree'],\n",
    "    random_state=42\n",
    ")\n",
    "\n",
    "evaluate(xgboost_clf, X_train_resampled, y_train_resampled, X_test, y_test)\n"
   ]
  },
  {
   "attachments": {},
   "cell_type": "markdown",
   "metadata": {},
   "source": [
    "### Logistic Regression - Original Dataset w SMOTE"
   ]
  },
  {
   "cell_type": "code",
   "execution_count": 286,
   "metadata": {},
   "outputs": [
    {
     "name": "stdout",
     "output_type": "stream",
     "text": [
      "100%|██████████| 20/20 [05:56<00:00, 17.83s/trial, best loss: -0.9444115330081966]\n",
      "Best Parameters: {'C': 0.7041774471868815, 'max_iter': 450.0, 'solver': 2}\n"
     ]
    }
   ],
   "source": [
    "logreg_search_space = {\n",
    "    'C': hp.loguniform('C', -5, 2),\n",
    "    'solver': hp.choice('solver', ['liblinear', 'lbfgs', 'saga']),\n",
    "    'max_iter': hp.quniform('max_iter', 50, 500, 50),\n",
    "}\n",
    "\n",
    "def logreg_objective_func(search_space):\n",
    "    logreg_clf = LogisticRegression(\n",
    "        C=search_space['C'],\n",
    "        solver=search_space['solver'],\n",
    "        max_iter=int(search_space['max_iter']),\n",
    "        random_state=42\n",
    "    )\n",
    "    \n",
    "    return train_model(logreg_clf, X_train_resampled, y_train_resampled)\n",
    "\n",
    "logreg_smote_best = best_params(logreg_objective_func, logreg_search_space)\n"
   ]
  },
  {
   "cell_type": "code",
   "execution_count": 287,
   "metadata": {},
   "outputs": [
    {
     "data": {
      "text/plain": [
       "{'C': 0.7041774471868815, 'max_iter': 450.0, 'solver': 2}"
      ]
     },
     "execution_count": 287,
     "metadata": {},
     "output_type": "execute_result"
    }
   ],
   "source": [
    "logreg_smote_best"
   ]
  },
  {
   "cell_type": "code",
   "execution_count": 288,
   "metadata": {},
   "outputs": [
    {
     "name": "stdout",
     "output_type": "stream",
     "text": [
      "Model:  LogisticRegression\n",
      "Accuracy:  0.7460521646557843\n",
      "Precision:  0.7931649549038085\n",
      "Recall:  0.7460521646557843\n",
      "F1 Score:  0.7158311682656731\n",
      "####################################\n"
     ]
    },
    {
     "data": {
      "text/plain": [
       "0.7158311682656731"
      ]
     },
     "execution_count": 288,
     "metadata": {},
     "output_type": "execute_result"
    }
   ],
   "source": [
    "logreg_clf = LogisticRegression(\n",
    "    C=logreg_smote_best['C'],\n",
    "    solver='saga',\n",
    "    max_iter=int(logreg_smote_best['max_iter']),\n",
    "    random_state=42\n",
    ")\n",
    "\n",
    "evaluate(logreg_clf, X_train_resampled, y_train_resampled, X_test, y_test)"
   ]
  },
  {
   "attachments": {},
   "cell_type": "markdown",
   "metadata": {},
   "source": [
    "### LightGBM - Original Dataset w SMOTE"
   ]
  },
  {
   "cell_type": "code",
   "execution_count": 289,
   "metadata": {},
   "outputs": [
    {
     "name": "stdout",
     "output_type": "stream",
     "text": [
      "100%|██████████| 20/20 [10:10<00:00, 30.51s/trial, best loss: -0.9993495805343382]\n",
      "Best Parameters: {'colsample_bytree': 0.9804937070050257, 'learning_rate': 0.1750046026665177, 'max_depth': 6.0, 'n_estimators': 200.0, 'num_leaves': 20.0, 'subsample': 0.8896424410710098}\n"
     ]
    }
   ],
   "source": [
    "lgb_search_space = {\n",
    "    'learning_rate': hp.uniform('learning_rate', 0.01, 0.3),\n",
    "    'n_estimators': hp.quniform('n_estimators', 50, 500, 50),\n",
    "    'max_depth': hp.quniform('max_depth', 3, 10, 1),\n",
    "    'num_leaves': hp.quniform('num_leaves', 20, 100, 10),\n",
    "    'subsample': hp.uniform('subsample', 0.6, 1.0),\n",
    "    'colsample_bytree': hp.uniform('colsample_bytree', 0.6, 1.0),\n",
    "}\n",
    "\n",
    "def lgb_objective_func(search_space):\n",
    "    lgb_clf = lgb.LGBMClassifier(\n",
    "        learning_rate=search_space['learning_rate'],\n",
    "        n_estimators=int(search_space['n_estimators']),\n",
    "        max_depth=int(search_space['max_depth']),\n",
    "        num_leaves=int(search_space['num_leaves']),\n",
    "        subsample=search_space['subsample'],\n",
    "        colsample_bytree=search_space['colsample_bytree'],\n",
    "        random_state=42\n",
    "    )\n",
    "    \n",
    "    return train_model(lgb_clf, X_train_resampled, y_train_resampled)\n",
    "\n",
    "lgb_smote_best = best_params(lgb_objective_func, lgb_search_space)"
   ]
  },
  {
   "cell_type": "code",
   "execution_count": 290,
   "metadata": {},
   "outputs": [
    {
     "data": {
      "text/plain": [
       "{'colsample_bytree': 0.9804937070050257,\n",
       " 'learning_rate': 0.1750046026665177,\n",
       " 'max_depth': 6.0,\n",
       " 'n_estimators': 200.0,\n",
       " 'num_leaves': 20.0,\n",
       " 'subsample': 0.8896424410710098}"
      ]
     },
     "execution_count": 290,
     "metadata": {},
     "output_type": "execute_result"
    }
   ],
   "source": [
    "lgb_smote_best"
   ]
  },
  {
   "cell_type": "code",
   "execution_count": 291,
   "metadata": {},
   "outputs": [
    {
     "name": "stdout",
     "output_type": "stream",
     "text": [
      "Model:  LGBMClassifier\n",
      "Accuracy:  0.7802519517388219\n",
      "Precision:  0.8304835338889357\n",
      "Recall:  0.7802519517388219\n",
      "F1 Score:  0.7486411557201836\n",
      "####################################\n"
     ]
    },
    {
     "data": {
      "text/plain": [
       "0.7486411557201836"
      ]
     },
     "execution_count": 291,
     "metadata": {},
     "output_type": "execute_result"
    }
   ],
   "source": [
    "lgb_clf = lgb.LGBMClassifier(\n",
    "    learning_rate=lgb_smote_best['learning_rate'],\n",
    "    n_estimators=int(lgb_smote_best['n_estimators']),\n",
    "    max_depth=int(lgb_smote_best['max_depth']),\n",
    "    num_leaves=int(lgb_smote_best['num_leaves']),\n",
    "    subsample=lgb_smote_best['subsample'],\n",
    "    colsample_bytree=lgb_smote_best['colsample_bytree'],\n",
    "    random_state=42\n",
    ")\n",
    "\n",
    "evaluate(lgb_clf, X_train_resampled, y_train_resampled, X_test, y_test)\n"
   ]
  },
  {
   "attachments": {},
   "cell_type": "markdown",
   "metadata": {},
   "source": [
    "## PCA Dataset"
   ]
  },
  {
   "attachments": {},
   "cell_type": "markdown",
   "metadata": {},
   "source": [
    "### XGBoost - PCA Dataset"
   ]
  },
  {
   "cell_type": "code",
   "execution_count": 265,
   "metadata": {},
   "outputs": [
    {
     "name": "stdout",
     "output_type": "stream",
     "text": [
      "100%|██████████| 20/20 [1:31:53<00:00, 275.67s/trial, best loss: -0.9950311762259508]\n",
      "Best Parameters: {'colsample_bytree': 0.7916541987972994, 'learning_rate': 0.2368123608945097, 'max_depth': 7.0, 'min_child_weight': 4.0, 'n_estimators': 400.0, 'subsample': 0.8609679373696384}\n"
     ]
    }
   ],
   "source": [
    "# optimize f1_score\n",
    "xgboost_search_space = {\n",
    "    'learning_rate': hp.uniform('learning_rate', 0.01, 0.3),\n",
    "    'n_estimators': hp.quniform('n_estimators', 50, 500, 50),\n",
    "    'max_depth': hp.quniform('max_depth', 3, 10, 1),\n",
    "    'min_child_weight': hp.quniform('min_child_weight', 1, 10, 1),\n",
    "    'subsample': hp.uniform('subsample', 0.6, 1.0),\n",
    "    'colsample_bytree': hp.uniform('colsample_bytree', 0.6, 1.0),\n",
    "}\n",
    "\n",
    "def xgboost_objective_func(search_space):\n",
    "    xgboost_clf = xgb.XGBClassifier(\n",
    "        learning_rate=search_space['learning_rate'],\n",
    "        n_estimators=int(search_space['n_estimators']),\n",
    "        max_depth=int(search_space['max_depth']),\n",
    "        min_child_weight=int(search_space['min_child_weight']),\n",
    "        subsample=search_space['subsample'],\n",
    "        colsample_bytree=search_space['colsample_bytree'],\n",
    "        random_state=0\n",
    "    )\n",
    "    \n",
    "    return train_model(xgboost_clf, X_pca_train, y_pca_train)\n",
    "\n",
    "xgboost_best = best_params(xgboost_objective_func, xgboost_search_space)"
   ]
  },
  {
   "cell_type": "code",
   "execution_count": 266,
   "metadata": {},
   "outputs": [
    {
     "data": {
      "text/plain": [
       "{'colsample_bytree': 0.7916541987972994,\n",
       " 'learning_rate': 0.2368123608945097,\n",
       " 'max_depth': 7.0,\n",
       " 'min_child_weight': 4.0,\n",
       " 'n_estimators': 400.0,\n",
       " 'subsample': 0.8609679373696384}"
      ]
     },
     "execution_count": 266,
     "metadata": {},
     "output_type": "execute_result"
    }
   ],
   "source": [
    "xgboost_best"
   ]
  },
  {
   "cell_type": "code",
   "execution_count": 269,
   "metadata": {},
   "outputs": [],
   "source": [
    "rs_value = 42"
   ]
  },
  {
   "cell_type": "code",
   "execution_count": 283,
   "metadata": {},
   "outputs": [
    {
     "name": "stdout",
     "output_type": "stream",
     "text": [
      "Model:  XGBClassifier\n",
      "Accuracy:  0.7635734563520227\n",
      "Precision:  0.8166541466503601\n",
      "Recall:  0.7635734563520227\n",
      "F1 Score:  0.7361704185811515\n",
      "####################################\n"
     ]
    },
    {
     "data": {
      "text/plain": [
       "0.7361704185811515"
      ]
     },
     "execution_count": 283,
     "metadata": {},
     "output_type": "execute_result"
    }
   ],
   "source": [
    "xgboost_clf = xgb.XGBClassifier(\n",
    "    learning_rate=xgboost_best['learning_rate'],\n",
    "    n_estimators=int(xgboost_best['n_estimators']),\n",
    "    max_depth=int(xgboost_best['max_depth']),\n",
    "    min_child_weight=int(xgboost_best['min_child_weight']),\n",
    "    subsample=xgboost_best['subsample'],\n",
    "    colsample_bytree=xgboost_best['colsample_bytree'],\n",
    "    random_state=0\n",
    ")\n",
    "\n",
    "evaluate(xgboost_clf, X_pca_train, y_pca_train, X_pca_test, y_pca_test)\n"
   ]
  },
  {
   "cell_type": "code",
   "execution_count": 284,
   "metadata": {},
   "outputs": [
    {
     "name": "stdout",
     "output_type": "stream",
     "text": [
      "Model:  XGBClassifier\n",
      "Accuracy:  0.7710255500354861\n",
      "Precision:  0.8219488537733871\n",
      "Recall:  0.7710255500354861\n",
      "F1 Score:  0.7454700187953394\n",
      "####################################\n"
     ]
    },
    {
     "data": {
      "text/plain": [
       "0.7454700187953394"
      ]
     },
     "execution_count": 284,
     "metadata": {},
     "output_type": "execute_result"
    }
   ],
   "source": [
    "evaluate(xgboost_clf, X_pca_resampled, y_pca_resampled, X_pca_test, y_pca_test)"
   ]
  },
  {
   "attachments": {},
   "cell_type": "markdown",
   "metadata": {},
   "source": [
    "### Logistic Regression - PCA Dataset"
   ]
  },
  {
   "cell_type": "code",
   "execution_count": 270,
   "metadata": {},
   "outputs": [
    {
     "name": "stdout",
     "output_type": "stream",
     "text": [
      "100%|██████████| 20/20 [03:58<00:00, 11.91s/trial, best loss: -0.9431113401879945]\n",
      "Best Parameters: {'C': 0.7041774471868815, 'max_iter': 450.0, 'solver': 2}\n"
     ]
    }
   ],
   "source": [
    "logreg_search_space = {\n",
    "    'C': hp.loguniform('C', -5, 2),\n",
    "    'solver': hp.choice('solver', ['liblinear', 'lbfgs', 'saga']),\n",
    "    'max_iter': hp.quniform('max_iter', 50, 500, 50),\n",
    "}\n",
    "\n",
    "def logreg_objective_func(search_space):\n",
    "    logreg_clf = LogisticRegression(\n",
    "        C=search_space['C'],\n",
    "        solver=search_space['solver'],\n",
    "        max_iter=int(search_space['max_iter']),\n",
    "        random_state=0\n",
    "    )\n",
    "    \n",
    "    return train_model(logreg_clf, X_pca_train, y_pca_train)\n",
    "\n",
    "logreg_best = best_params(logreg_objective_func, logreg_search_space)\n",
    "\n"
   ]
  },
  {
   "cell_type": "code",
   "execution_count": null,
   "metadata": {},
   "outputs": [],
   "source": [
    "{'C': 0.7041774471868815, 'max_iter': 450.0, 'solver': 2}"
   ]
  },
  {
   "cell_type": "code",
   "execution_count": 273,
   "metadata": {},
   "outputs": [
    {
     "data": {
      "text/plain": [
       "{'C': 0.7041774471868815, 'max_iter': 450.0, 'solver': 2}"
      ]
     },
     "execution_count": 273,
     "metadata": {},
     "output_type": "execute_result"
    }
   ],
   "source": [
    "logreg_best"
   ]
  },
  {
   "cell_type": "code",
   "execution_count": 275,
   "metadata": {},
   "outputs": [
    {
     "name": "stdout",
     "output_type": "stream",
     "text": [
      "Model:  LogisticRegression\n",
      "Accuracy:  0.7457860184528035\n",
      "Precision:  0.7958965417573522\n",
      "Recall:  0.7457860184528035\n",
      "F1 Score:  0.7028068065123463\n",
      "####################################\n"
     ]
    },
    {
     "data": {
      "text/plain": [
       "0.7028068065123463"
      ]
     },
     "execution_count": 275,
     "metadata": {},
     "output_type": "execute_result"
    }
   ],
   "source": [
    "logreg_clf = LogisticRegression(\n",
    "    C=logreg_best['C'],\n",
    "    solver='saga',\n",
    "    max_iter=int(logreg_best['max_iter']),\n",
    "    random_state=0\n",
    ")\n",
    "\n",
    "evaluate(logreg_clf, X_pca_train, y_pca_train, X_pca_test, y_pca_test)"
   ]
  },
  {
   "attachments": {},
   "cell_type": "markdown",
   "metadata": {},
   "source": [
    "### Light GBM - PCA Dataset"
   ]
  },
  {
   "cell_type": "code",
   "execution_count": 277,
   "metadata": {},
   "outputs": [
    {
     "name": "stdout",
     "output_type": "stream",
     "text": [
      "100%|██████████| 20/20 [08:06<00:00, 24.33s/trial, best loss: -0.9940773858182965]\n",
      "Best Parameters: {'colsample_bytree': 0.7971403330338507, 'learning_rate': 0.031232104259997354, 'max_depth': 8.0, 'n_estimators': 200.0, 'num_leaves': 40.0, 'subsample': 0.8614591695193656}\n"
     ]
    }
   ],
   "source": [
    "lgb_search_space = {\n",
    "    'learning_rate': hp.uniform('learning_rate', 0.01, 0.3),\n",
    "    'n_estimators': hp.quniform('n_estimators', 50, 500, 50),\n",
    "    'max_depth': hp.quniform('max_depth', 3, 10, 1),\n",
    "    'num_leaves': hp.quniform('num_leaves', 20, 100, 10),\n",
    "    'subsample': hp.uniform('subsample', 0.6, 1.0),\n",
    "    'colsample_bytree': hp.uniform('colsample_bytree', 0.6, 1.0),\n",
    "}\n",
    "\n",
    "def lgb_objective_func(search_space):\n",
    "    lgb_clf = lgb.LGBMClassifier(\n",
    "        learning_rate=search_space['learning_rate'],\n",
    "        n_estimators=int(search_space['n_estimators']),\n",
    "        max_depth=int(search_space['max_depth']),\n",
    "        num_leaves=int(search_space['num_leaves']),\n",
    "        subsample=search_space['subsample'],\n",
    "        colsample_bytree=search_space['colsample_bytree'],\n",
    "        random_state=0\n",
    "    )\n",
    "    \n",
    "    return train_model(lgb_clf, X_pca_train, y_pca_train)\n",
    "\n",
    "lgb_best = best_params(lgb_objective_func, lgb_search_space)"
   ]
  },
  {
   "cell_type": "code",
   "execution_count": 278,
   "metadata": {},
   "outputs": [
    {
     "data": {
      "text/plain": [
       "{'colsample_bytree': 0.7971403330338507,\n",
       " 'learning_rate': 0.031232104259997354,\n",
       " 'max_depth': 8.0,\n",
       " 'n_estimators': 200.0,\n",
       " 'num_leaves': 40.0,\n",
       " 'subsample': 0.8614591695193656}"
      ]
     },
     "execution_count": 278,
     "metadata": {},
     "output_type": "execute_result"
    }
   ],
   "source": [
    "lgb_best"
   ]
  },
  {
   "cell_type": "code",
   "execution_count": 279,
   "metadata": {},
   "outputs": [
    {
     "name": "stdout",
     "output_type": "stream",
     "text": [
      "Model:  LGBMClassifier\n",
      "Accuracy:  0.769916607523066\n",
      "Precision:  0.8176418461597722\n",
      "Recall:  0.769916607523066\n",
      "F1 Score:  0.7403061205224614\n",
      "####################################\n"
     ]
    },
    {
     "data": {
      "text/plain": [
       "0.7403061205224614"
      ]
     },
     "execution_count": 279,
     "metadata": {},
     "output_type": "execute_result"
    }
   ],
   "source": [
    "lgb_clf = lgb.LGBMClassifier(\n",
    "    learning_rate=lgb_best['learning_rate'],\n",
    "    n_estimators=int(lgb_best['n_estimators']),\n",
    "    max_depth=int(lgb_best['max_depth']),\n",
    "    num_leaves=int(lgb_best['num_leaves']),\n",
    "    subsample=lgb_best['subsample'],\n",
    "    colsample_bytree=lgb_best['colsample_bytree'],\n",
    "    random_state=0\n",
    ")\n",
    "\n",
    "evaluate(lgb_clf, X_pca_train, y_pca_train, X_pca_test, y_pca_test)\n"
   ]
  }
 ],
 "metadata": {
  "kernelspec": {
   "display_name": "Python 3",
   "language": "python",
   "name": "python3"
  },
  "language_info": {
   "codemirror_mode": {
    "name": "ipython",
    "version": 3
   },
   "file_extension": ".py",
   "mimetype": "text/x-python",
   "name": "python",
   "nbconvert_exporter": "python",
   "pygments_lexer": "ipython3",
   "version": "3.10.13"
  },
  "orig_nbformat": 4
 },
 "nbformat": 4,
 "nbformat_minor": 2
}
